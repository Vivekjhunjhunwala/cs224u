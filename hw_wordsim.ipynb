{
 "cells": [
  {
   "cell_type": "markdown",
   "metadata": {},
   "source": [
    "# Homework and bake-off: Word similarity"
   ]
  },
  {
   "cell_type": "code",
   "execution_count": null,
   "metadata": {},
   "outputs": [],
   "source": [
    "__author__ = \"Christopher Potts\"\n",
    "__version__ = \"CS224u, Stanford, Spring 2020\""
   ]
  },
  {
   "cell_type": "markdown",
   "metadata": {},
   "source": [
    "## Contents\n",
    "\n",
    "1. [Overview](#Overview)\n",
    "1. [Set-up](#Set-up)\n",
    "1. [Dataset readers](#Dataset-readers)\n",
    "1. [Dataset comparisons](#Dataset-comparisons)\n",
    "  1. [Vocab overlap](#Vocab-overlap)\n",
    "  1. [Pair overlap and score correlations](#Pair-overlap-and-score-correlations)\n",
    "1. [Evaluation](#Evaluation)\n",
    "  1. [Dataset evaluation](#Dataset-evaluation)\n",
    "  1. [Dataset error analysis](#Dataset-error-analysis)\n",
    "  1. [Full evaluation](#Full-evaluation)\n",
    "1. [Homework questions](#Homework-questions)\n",
    "  1. [PPMI as a baseline [0.5 points]](#PPMI-as-a-baseline-[0.5-points])\n",
    "  1. [Gigaword with LSA at different dimensions [0.5 points]](#Gigaword-with-LSA-at-different-dimensions-[0.5-points])\n",
    "  1. [Gigaword with GloVe for a small number of iterations [0.5 points]](#Gigaword-with-GloVe-for-a-small-number-of-iterations-[0.5-points])\n",
    "  1. [Dice coefficient [0.5 points]](#Dice-coefficient-[0.5-points])\n",
    "  1. [t-test reweighting [2 points]](#t-test-reweighting-[2-points])\n",
    "  1. [Enriching a VSM with subword information [2 points]](#Enriching-a-VSM-with-subword-information-[2-points])\n",
    "  1. [Your original system [3 points]](#Your-original-system-[3-points])\n",
    "1. [Bake-off [1 point]](#Bake-off-[1-point])"
   ]
  },
  {
   "cell_type": "markdown",
   "metadata": {},
   "source": [
    "## Overview\n",
    "\n",
    "Word similarity datasets have long been used to evaluate distributed representations. This notebook provides basic code for conducting such analyses with a number of datasets:\n",
    "\n",
    "| Dataset | Pairs | Task-type | Current best Spearman $\\rho$ | Best $\\rho$ paper |   |\n",
    "|---------|-------|-----------|------------------------------|-------------------|---|\n",
    "| [WordSim-353](http://www.cs.technion.ac.il/~gabr/resources/data/wordsim353/) | 353 | Relatedness | 82.8 | [Speer et al. 2017](https://aaai.org/ocs/index.php/AAAI/AAAI17/paper/view/14972) |\n",
    "| [MTurk-771](http://www2.mta.ac.il/~gideon/mturk771.html) | 771 | Relatedness | 81.0 | [Speer et al. 2017](https://aaai.org/ocs/index.php/AAAI/AAAI17/paper/view/14972) |\n",
    "| [The MEN Test Collection](http://clic.cimec.unitn.it/~elia.bruni/MEN) | 3,000 | Relatedness | 86.6 | [Speer et al. 2017](https://aaai.org/ocs/index.php/AAAI/AAAI17/paper/view/14972)  | \n",
    "| [SimVerb-3500-dev](http://people.ds.cam.ac.uk/dsg40/simverb.html) | 500 | Similarity | 61.1 | [Mrki&scaron;&cacute; et al. 2016](https://arxiv.org/pdf/1603.00892.pdf) |\n",
    "| [SimVerb-3500-test](http://people.ds.cam.ac.uk/dsg40/simverb.html) | 3,000 | Similarity | 62.4 | [Mrki&scaron;&cacute; et al. 2016](https://arxiv.org/pdf/1603.00892.pdf) |\n",
    "\n",
    "Each of the similarity datasets contains word pairs with an associated human-annotated similarity score. (We convert these to distances to align intuitively with our distance measure functions.) The evaluation code measures the distance between the word pairs in your chosen VSM (which should be a `pd.DataFrame`).\n",
    "\n",
    "The evaluation metric for each dataset is the [Spearman correlation coefficient $\\rho$](https://en.wikipedia.org/wiki/Spearman%27s_rank_correlation_coefficient) between the annotated scores and your distances, as is standard in the literature. We also macro-average these correlations across the datasets for an overall summary. (In using the macro-average, we are saying that we care about all the datasets equally, even though they vary in size.)\n",
    "\n",
    "This homework ([questions at the bottom of this notebook](#Homework-questions)) asks you to write code that uses the count matrices in `data/vsmdata` to create and evaluate some baseline models as well as an original model $M$ that you design. This accounts for 9 of the 10 points for this assignment.\n",
    "\n",
    "For the associated bake-off, we will distribute two new word similarity or relatedness datasets and associated reader code, and you will evaluate $M$ (no additional training or tuning allowed!) on those new datasets. Systems that enter will receive the additional homework point, and systems that achieve the top score will receive an additional 0.5 points."
   ]
  },
  {
   "cell_type": "markdown",
   "metadata": {},
   "source": [
    "## Set-up"
   ]
  },
  {
   "cell_type": "code",
   "execution_count": 1,
   "metadata": {},
   "outputs": [],
   "source": [
    "from collections import defaultdict\n",
    "import csv\n",
    "import itertools\n",
    "import numpy as np\n",
    "import os\n",
    "import pandas as pd\n",
    "from scipy.stats import spearmanr\n",
    "import vsm"
   ]
  },
  {
   "cell_type": "code",
   "execution_count": 2,
   "metadata": {},
   "outputs": [],
   "source": [
    "VSM_HOME = os.path.join('data', 'vsmdata')\n",
    "\n",
    "WORDSIM_HOME = os.path.join('data', 'wordsim')"
   ]
  },
  {
   "cell_type": "markdown",
   "metadata": {},
   "source": [
    "## Dataset readers"
   ]
  },
  {
   "cell_type": "code",
   "execution_count": 3,
   "metadata": {},
   "outputs": [],
   "source": [
    "def wordsim_dataset_reader(\n",
    "        src_filename, \n",
    "        header=False, \n",
    "        delimiter=',', \n",
    "        score_col_index=2):\n",
    "    \"\"\"Basic reader that works for all similarity datasets. They are \n",
    "    all tabular-style releases where the first two columns give the \n",
    "    word and a later column (`score_col_index`) gives the score.\n",
    "\n",
    "    Parameters\n",
    "    ----------\n",
    "    src_filename : str\n",
    "        Full path to the source file.\n",
    "    header : bool\n",
    "        Whether `src_filename` has a header. Default: False\n",
    "    delimiter : str\n",
    "        Field delimiter in `src_filename`. Default: ','\n",
    "    score_col_index : int\n",
    "        Column containing the similarity scores Default: 2\n",
    "\n",
    "    Yields\n",
    "    ------\n",
    "    (str, str, float)\n",
    "       (w1, w2, score) where `score` is the negative of the similarity\n",
    "       score in the file so that we are intuitively aligned with our\n",
    "       distance-based code. To align with our VSMs, all the words are \n",
    "       downcased.\n",
    "\n",
    "    \"\"\"\n",
    "    with open(src_filename) as f:\n",
    "        reader = csv.reader(f, delimiter=delimiter)\n",
    "        if header:\n",
    "            next(reader)\n",
    "        for row in reader:\n",
    "            w1 = row[0].strip().lower()\n",
    "            w2 = row[1].strip().lower()\n",
    "            score = row[score_col_index]\n",
    "            # Negative of scores to align intuitively with distance functions:\n",
    "            score = -float(score)\n",
    "            yield (w1, w2, score)\n",
    "\n",
    "def wordsim353_reader():\n",
    "    \"\"\"WordSim-353: http://www.cs.technion.ac.il/~gabr/resources/data/wordsim353/\"\"\"\n",
    "    src_filename = os.path.join(\n",
    "        WORDSIM_HOME, 'wordsim353', 'combined.csv')\n",
    "    return wordsim_dataset_reader(\n",
    "        src_filename, header=True)\n",
    "\n",
    "def mturk771_reader():\n",
    "    \"\"\"MTURK-771: http://www2.mta.ac.il/~gideon/mturk771.html\"\"\"\n",
    "    src_filename = os.path.join(\n",
    "        WORDSIM_HOME, 'MTURK-771.csv')\n",
    "    return wordsim_dataset_reader(\n",
    "        src_filename, header=False)\n",
    "\n",
    "def simverb3500dev_reader():\n",
    "    \"\"\"SimVerb-3500: http://people.ds.cam.ac.uk/dsg40/simverb.html\"\"\"\n",
    "    src_filename = os.path.join(\n",
    "        WORDSIM_HOME, 'SimVerb-3500', 'SimVerb-500-dev.txt')\n",
    "    return wordsim_dataset_reader(\n",
    "        src_filename, delimiter=\"\\t\", header=True, score_col_index=3)\n",
    "\n",
    "def simverb3500test_reader():\n",
    "    \"\"\"SimVerb-3500: http://people.ds.cam.ac.uk/dsg40/simverb.html\"\"\"\n",
    "    src_filename = os.path.join(\n",
    "        WORDSIM_HOME, 'SimVerb-3500', 'SimVerb-3000-test.txt')\n",
    "    return wordsim_dataset_reader(\n",
    "        src_filename, delimiter=\"\\t\", header=True, score_col_index=3)\n",
    "\n",
    "def men_reader():\n",
    "    \"\"\"MEN: http://clic.cimec.unitn.it/~elia.bruni/MEN\"\"\"\n",
    "    src_filename = os.path.join(\n",
    "        WORDSIM_HOME, 'MEN', 'MEN_dataset_natural_form_full')\n",
    "    return wordsim_dataset_reader(\n",
    "        src_filename, header=False, delimiter=' ') "
   ]
  },
  {
   "cell_type": "markdown",
   "metadata": {},
   "source": [
    "This collection of readers will be useful for flexible evaluations:"
   ]
  },
  {
   "cell_type": "code",
   "execution_count": 4,
   "metadata": {},
   "outputs": [],
   "source": [
    "READERS = (wordsim353_reader, mturk771_reader, simverb3500dev_reader, \n",
    "           simverb3500test_reader, men_reader)"
   ]
  },
  {
   "cell_type": "markdown",
   "metadata": {},
   "source": [
    "## Dataset comparisons\n",
    "\n",
    "This section does some basic analysis of the datasets. The goal is to obtain a deeper understanding of what problem we're solving – what strengths and weaknesses the datasets have and how they relate to each other. For a full-fledged project, we would want to continue work like this and report on it in the paper, to provide context for the results."
   ]
  },
  {
   "cell_type": "code",
   "execution_count": 5,
   "metadata": {},
   "outputs": [],
   "source": [
    "def get_reader_name(reader):\n",
    "    \"\"\"Return a cleaned-up name for the similarity dataset \n",
    "    iterator `reader`\n",
    "    \"\"\"\n",
    "    return reader.__name__.replace(\"_reader\", \"\")"
   ]
  },
  {
   "cell_type": "markdown",
   "metadata": {},
   "source": [
    "### Vocab overlap\n",
    "\n",
    "How many vocabulary items are shared across the datasets?"
   ]
  },
  {
   "cell_type": "code",
   "execution_count": 6,
   "metadata": {},
   "outputs": [],
   "source": [
    "def get_reader_vocab(reader):\n",
    "    \"\"\"Return the set of words (str) in `reader`.\"\"\"\n",
    "    vocab = set()\n",
    "    for w1, w2, _ in reader():\n",
    "        vocab.add(w1)\n",
    "        vocab.add(w2)\n",
    "    return vocab"
   ]
  },
  {
   "cell_type": "code",
   "execution_count": 7,
   "metadata": {},
   "outputs": [],
   "source": [
    "def get_reader_vocab_overlap(readers=READERS):\n",
    "    \"\"\"Get data on the vocab-level relationships between pairs of \n",
    "    readers. Returns a a pd.DataFrame containing this information.\n",
    "    \"\"\"\n",
    "    data = []\n",
    "    for r1, r2 in itertools.product(readers, repeat=2):       \n",
    "        v1 = get_reader_vocab(r1)\n",
    "        v2 = get_reader_vocab(r2)\n",
    "        d = {\n",
    "            'd1': get_reader_name(r1),\n",
    "            'd2': get_reader_name(r2),\n",
    "            'overlap': len(v1 & v2), \n",
    "            'union': len(v1 | v2),\n",
    "            'd1_size': len(v1),\n",
    "            'd2_size': len(v2)}\n",
    "        data.append(d)\n",
    "    return pd.DataFrame(data)"
   ]
  },
  {
   "cell_type": "code",
   "execution_count": 8,
   "metadata": {},
   "outputs": [],
   "source": [
    "vocab_overlap = get_reader_vocab_overlap()"
   ]
  },
  {
   "cell_type": "code",
   "execution_count": 9,
   "metadata": {},
   "outputs": [],
   "source": [
    "def vocab_overlap_crosstab(vocab_overlap):\n",
    "    \"\"\"Return an intuitively formatted `pd.DataFrame` giving \n",
    "    vocab-overlap counts for all the datasets represented in \n",
    "    `vocab_overlap`, the output of `get_reader_vocab_overlap`.\n",
    "    \"\"\"        \n",
    "    xtab = pd.crosstab(\n",
    "        vocab_overlap['d1'], \n",
    "        vocab_overlap['d2'], \n",
    "        values=vocab_overlap['overlap'], \n",
    "        aggfunc=np.mean)\n",
    "    # Blank out the upper right to reduce visual clutter:\n",
    "    for i in range(0, xtab.shape[0]):\n",
    "        for j in range(i+1, xtab.shape[1]):\n",
    "            xtab.iloc[i, j] = ''        \n",
    "    return xtab        "
   ]
  },
  {
   "cell_type": "code",
   "execution_count": 10,
   "metadata": {},
   "outputs": [
    {
     "data": {
      "text/html": [
       "<div>\n",
       "<style scoped>\n",
       "    .dataframe tbody tr th:only-of-type {\n",
       "        vertical-align: middle;\n",
       "    }\n",
       "\n",
       "    .dataframe tbody tr th {\n",
       "        vertical-align: top;\n",
       "    }\n",
       "\n",
       "    .dataframe thead th {\n",
       "        text-align: right;\n",
       "    }\n",
       "</style>\n",
       "<table border=\"1\" class=\"dataframe\">\n",
       "  <thead>\n",
       "    <tr style=\"text-align: right;\">\n",
       "      <th>d2</th>\n",
       "      <th>men</th>\n",
       "      <th>mturk771</th>\n",
       "      <th>simverb3500dev</th>\n",
       "      <th>simverb3500test</th>\n",
       "      <th>wordsim353</th>\n",
       "    </tr>\n",
       "    <tr>\n",
       "      <th>d1</th>\n",
       "      <th></th>\n",
       "      <th></th>\n",
       "      <th></th>\n",
       "      <th></th>\n",
       "      <th></th>\n",
       "    </tr>\n",
       "  </thead>\n",
       "  <tbody>\n",
       "    <tr>\n",
       "      <td>men</td>\n",
       "      <td>751</td>\n",
       "      <td></td>\n",
       "      <td></td>\n",
       "      <td></td>\n",
       "      <td></td>\n",
       "    </tr>\n",
       "    <tr>\n",
       "      <td>mturk771</td>\n",
       "      <td>230</td>\n",
       "      <td>1113</td>\n",
       "      <td></td>\n",
       "      <td></td>\n",
       "      <td></td>\n",
       "    </tr>\n",
       "    <tr>\n",
       "      <td>simverb3500dev</td>\n",
       "      <td>23</td>\n",
       "      <td>67</td>\n",
       "      <td>536</td>\n",
       "      <td></td>\n",
       "      <td></td>\n",
       "    </tr>\n",
       "    <tr>\n",
       "      <td>simverb3500test</td>\n",
       "      <td>30</td>\n",
       "      <td>94</td>\n",
       "      <td>532</td>\n",
       "      <td>823</td>\n",
       "      <td></td>\n",
       "    </tr>\n",
       "    <tr>\n",
       "      <td>wordsim353</td>\n",
       "      <td>86</td>\n",
       "      <td>158</td>\n",
       "      <td>13</td>\n",
       "      <td>17</td>\n",
       "      <td>437</td>\n",
       "    </tr>\n",
       "  </tbody>\n",
       "</table>\n",
       "</div>"
      ],
      "text/plain": [
       "d2               men mturk771 simverb3500dev simverb3500test wordsim353\n",
       "d1                                                                     \n",
       "men              751                                                   \n",
       "mturk771         230     1113                                          \n",
       "simverb3500dev    23       67            536                           \n",
       "simverb3500test   30       94            532             823           \n",
       "wordsim353        86      158             13              17        437"
      ]
     },
     "execution_count": 10,
     "metadata": {},
     "output_type": "execute_result"
    }
   ],
   "source": [
    "vocab_overlap_crosstab(vocab_overlap)"
   ]
  },
  {
   "cell_type": "markdown",
   "metadata": {},
   "source": [
    "This looks reasonable. By design, the SimVerb dev and test sets have a lot of overlap. The other overlap numbers are pretty small, even adjusting for dataset size."
   ]
  },
  {
   "cell_type": "markdown",
   "metadata": {},
   "source": [
    "### Pair overlap and score correlations\n",
    "\n",
    "How many word pairs are shared across datasets and, for shared pairs, what is the correlation between their scores? That is, do the datasets agree?"
   ]
  },
  {
   "cell_type": "code",
   "execution_count": 11,
   "metadata": {},
   "outputs": [],
   "source": [
    "def get_reader_pairs(reader):\n",
    "    \"\"\"Return the set of alphabetically-sorted word (str) tuples \n",
    "    in `reader`\n",
    "    \"\"\"\n",
    "    return {tuple(sorted([w1, w2])): score for w1, w2, score in reader()}"
   ]
  },
  {
   "cell_type": "code",
   "execution_count": 12,
   "metadata": {},
   "outputs": [],
   "source": [
    "def get_reader_pair_overlap(readers=READERS):\n",
    "    \"\"\"Return a `pd.DataFrame` giving the number of overlapping \n",
    "    word-pairs in pairs of readers, along with the Spearman \n",
    "    correlations.\n",
    "    \"\"\"    \n",
    "    data = []\n",
    "    for r1, r2 in itertools.product(READERS, repeat=2):\n",
    "        if r1.__name__ != r2.__name__:\n",
    "            d1 = get_reader_pairs(r1)\n",
    "            d2 = get_reader_pairs(r2)\n",
    "            overlap = []\n",
    "            for p, s in d1.items():\n",
    "                if p in d2:\n",
    "                    overlap.append([s, d2[p]])\n",
    "            if overlap:\n",
    "                s1, s2 = zip(*overlap)\n",
    "                rho = spearmanr(s1, s2)[0]\n",
    "            else:\n",
    "                rho = None        \n",
    "            d = {\n",
    "                'd1': get_reader_name(r1),\n",
    "                'd2': get_reader_name(r2), \n",
    "                'pair_overlap': len(overlap),\n",
    "                'rho': rho}\n",
    "            data.append(d)\n",
    "    df = pd.DataFrame(data)\n",
    "    df = df.sort_values('pair_overlap', ascending=False)\n",
    "    # Return only every other row to avoid repeats:\n",
    "    return df[::2].reset_index(drop=True)"
   ]
  },
  {
   "cell_type": "code",
   "execution_count": 13,
   "metadata": {},
   "outputs": [
    {
     "data": {
      "text/html": [
       "<div>\n",
       "<style scoped>\n",
       "    .dataframe tbody tr th:only-of-type {\n",
       "        vertical-align: middle;\n",
       "    }\n",
       "\n",
       "    .dataframe tbody tr th {\n",
       "        vertical-align: top;\n",
       "    }\n",
       "\n",
       "    .dataframe thead th {\n",
       "        text-align: right;\n",
       "    }\n",
       "</style>\n",
       "<table border=\"1\" class=\"dataframe\">\n",
       "  <thead>\n",
       "    <tr style=\"text-align: right;\">\n",
       "      <th></th>\n",
       "      <th>d1</th>\n",
       "      <th>d2</th>\n",
       "      <th>pair_overlap</th>\n",
       "      <th>rho</th>\n",
       "    </tr>\n",
       "  </thead>\n",
       "  <tbody>\n",
       "    <tr>\n",
       "      <td>0</td>\n",
       "      <td>men</td>\n",
       "      <td>mturk771</td>\n",
       "      <td>11</td>\n",
       "      <td>0.592191</td>\n",
       "    </tr>\n",
       "    <tr>\n",
       "      <td>1</td>\n",
       "      <td>wordsim353</td>\n",
       "      <td>men</td>\n",
       "      <td>5</td>\n",
       "      <td>0.700000</td>\n",
       "    </tr>\n",
       "    <tr>\n",
       "      <td>2</td>\n",
       "      <td>simverb3500test</td>\n",
       "      <td>mturk771</td>\n",
       "      <td>4</td>\n",
       "      <td>0.400000</td>\n",
       "    </tr>\n",
       "    <tr>\n",
       "      <td>3</td>\n",
       "      <td>men</td>\n",
       "      <td>simverb3500test</td>\n",
       "      <td>2</td>\n",
       "      <td>1.000000</td>\n",
       "    </tr>\n",
       "    <tr>\n",
       "      <td>4</td>\n",
       "      <td>simverb3500test</td>\n",
       "      <td>simverb3500dev</td>\n",
       "      <td>1</td>\n",
       "      <td>NaN</td>\n",
       "    </tr>\n",
       "    <tr>\n",
       "      <td>5</td>\n",
       "      <td>wordsim353</td>\n",
       "      <td>simverb3500dev</td>\n",
       "      <td>0</td>\n",
       "      <td>NaN</td>\n",
       "    </tr>\n",
       "    <tr>\n",
       "      <td>6</td>\n",
       "      <td>simverb3500test</td>\n",
       "      <td>wordsim353</td>\n",
       "      <td>0</td>\n",
       "      <td>NaN</td>\n",
       "    </tr>\n",
       "    <tr>\n",
       "      <td>7</td>\n",
       "      <td>simverb3500dev</td>\n",
       "      <td>wordsim353</td>\n",
       "      <td>0</td>\n",
       "      <td>NaN</td>\n",
       "    </tr>\n",
       "    <tr>\n",
       "      <td>8</td>\n",
       "      <td>mturk771</td>\n",
       "      <td>wordsim353</td>\n",
       "      <td>0</td>\n",
       "      <td>NaN</td>\n",
       "    </tr>\n",
       "    <tr>\n",
       "      <td>9</td>\n",
       "      <td>men</td>\n",
       "      <td>simverb3500dev</td>\n",
       "      <td>0</td>\n",
       "      <td>NaN</td>\n",
       "    </tr>\n",
       "  </tbody>\n",
       "</table>\n",
       "</div>"
      ],
      "text/plain": [
       "                d1               d2  pair_overlap       rho\n",
       "0              men         mturk771            11  0.592191\n",
       "1       wordsim353              men             5  0.700000\n",
       "2  simverb3500test         mturk771             4  0.400000\n",
       "3              men  simverb3500test             2  1.000000\n",
       "4  simverb3500test   simverb3500dev             1       NaN\n",
       "5       wordsim353   simverb3500dev             0       NaN\n",
       "6  simverb3500test       wordsim353             0       NaN\n",
       "7   simverb3500dev       wordsim353             0       NaN\n",
       "8         mturk771       wordsim353             0       NaN\n",
       "9              men   simverb3500dev             0       NaN"
      ]
     },
     "execution_count": 13,
     "metadata": {},
     "output_type": "execute_result"
    }
   ],
   "source": [
    "get_reader_pair_overlap()"
   ]
  },
  {
   "cell_type": "markdown",
   "metadata": {},
   "source": [
    "This looks reasonable: none of the datasets have a lot of overlapping pairs, so we don't have to worry too much about places where they give conflicting scores."
   ]
  },
  {
   "cell_type": "markdown",
   "metadata": {
    "collapsed": true
   },
   "source": [
    "## Evaluation\n",
    "\n",
    "This section builds up the evaluation code that you'll use for the homework and bake-off. For illustrations, I'll read in a VSM created from `data/vsmdata/giga_window5-scaled.csv.gz`:"
   ]
  },
  {
   "cell_type": "code",
   "execution_count": 14,
   "metadata": {},
   "outputs": [],
   "source": [
    "giga5 = pd.read_csv(\n",
    "    os.path.join(VSM_HOME, \"giga_window5-scaled.csv.gz\"), index_col=0)"
   ]
  },
  {
   "cell_type": "markdown",
   "metadata": {},
   "source": [
    "### Dataset evaluation"
   ]
  },
  {
   "cell_type": "code",
   "execution_count": 15,
   "metadata": {},
   "outputs": [],
   "source": [
    "def word_similarity_evaluation(reader, df, distfunc=vsm.cosine):\n",
    "    \"\"\"Word-similarity evalution framework.\n",
    "    \n",
    "    Parameters\n",
    "    ----------\n",
    "    reader : iterator\n",
    "        A reader for a word-similarity dataset. Just has to yield\n",
    "        tuples (word1, word2, score).    \n",
    "    df : pd.DataFrame\n",
    "        The VSM being evaluated.        \n",
    "    distfunc : function mapping vector pairs to floats.\n",
    "        The measure of distance between vectors. Can also be \n",
    "        `vsm.euclidean`, `vsm.matching`, `vsm.jaccard`, as well as \n",
    "        any other float-valued function on pairs of vectors.    \n",
    "        \n",
    "    Raises\n",
    "    ------\n",
    "    ValueError\n",
    "        If `df.index` is not a subset of the words in `reader`.\n",
    "    \n",
    "    Returns\n",
    "    -------\n",
    "    float, data\n",
    "        `float` is the Spearman rank correlation coefficient between \n",
    "        the dataset scores and the similarity values obtained from \n",
    "        `df` using  `distfunc`. This evaluation is sensitive only to \n",
    "        rankings, not to absolute values.  `data` is a `pd.DataFrame` \n",
    "        with columns['word1', 'word2', 'score', 'distance'].\n",
    "        \n",
    "    \"\"\"\n",
    "    data = []\n",
    "    for w1, w2, score in reader():\n",
    "        d = {'word1': w1, 'word2': w2, 'score': score}\n",
    "        for w in [w1, w2]:\n",
    "            if w not in df.index:\n",
    "                raise ValueError(\n",
    "                    \"Word '{}' is in the similarity dataset {} but not in the \"\n",
    "                    \"DataFrame, making this evaluation ill-defined. Please \"\n",
    "                    \"switch to a DataFrame with an appropriate vocabulary.\".\n",
    "                    format(w, get_reader_name(reader))) \n",
    "        d['distance'] = distfunc(df.loc[w1], df.loc[w2])\n",
    "        data.append(d)\n",
    "    data = pd.DataFrame(data)\n",
    "    rho, pvalue = spearmanr(data['score'].values, data['distance'].values)\n",
    "    return rho, data"
   ]
  },
  {
   "cell_type": "code",
   "execution_count": 16,
   "metadata": {},
   "outputs": [],
   "source": [
    "rho, eval_df = word_similarity_evaluation(men_reader, giga5)"
   ]
  },
  {
   "cell_type": "code",
   "execution_count": 17,
   "metadata": {},
   "outputs": [
    {
     "data": {
      "text/plain": [
       "0.40375964105441753"
      ]
     },
     "execution_count": 17,
     "metadata": {},
     "output_type": "execute_result"
    }
   ],
   "source": [
    "rho"
   ]
  },
  {
   "cell_type": "code",
   "execution_count": 18,
   "metadata": {},
   "outputs": [
    {
     "data": {
      "text/html": [
       "<div>\n",
       "<style scoped>\n",
       "    .dataframe tbody tr th:only-of-type {\n",
       "        vertical-align: middle;\n",
       "    }\n",
       "\n",
       "    .dataframe tbody tr th {\n",
       "        vertical-align: top;\n",
       "    }\n",
       "\n",
       "    .dataframe thead th {\n",
       "        text-align: right;\n",
       "    }\n",
       "</style>\n",
       "<table border=\"1\" class=\"dataframe\">\n",
       "  <thead>\n",
       "    <tr style=\"text-align: right;\">\n",
       "      <th></th>\n",
       "      <th>word1</th>\n",
       "      <th>word2</th>\n",
       "      <th>score</th>\n",
       "      <th>distance</th>\n",
       "    </tr>\n",
       "  </thead>\n",
       "  <tbody>\n",
       "    <tr>\n",
       "      <td>0</td>\n",
       "      <td>sun</td>\n",
       "      <td>sunlight</td>\n",
       "      <td>-50.0</td>\n",
       "      <td>0.956828</td>\n",
       "    </tr>\n",
       "    <tr>\n",
       "      <td>1</td>\n",
       "      <td>automobile</td>\n",
       "      <td>car</td>\n",
       "      <td>-50.0</td>\n",
       "      <td>0.979143</td>\n",
       "    </tr>\n",
       "    <tr>\n",
       "      <td>2</td>\n",
       "      <td>river</td>\n",
       "      <td>water</td>\n",
       "      <td>-49.0</td>\n",
       "      <td>0.970105</td>\n",
       "    </tr>\n",
       "    <tr>\n",
       "      <td>3</td>\n",
       "      <td>stairs</td>\n",
       "      <td>staircase</td>\n",
       "      <td>-49.0</td>\n",
       "      <td>0.980475</td>\n",
       "    </tr>\n",
       "    <tr>\n",
       "      <td>4</td>\n",
       "      <td>morning</td>\n",
       "      <td>sunrise</td>\n",
       "      <td>-49.0</td>\n",
       "      <td>0.963624</td>\n",
       "    </tr>\n",
       "  </tbody>\n",
       "</table>\n",
       "</div>"
      ],
      "text/plain": [
       "        word1      word2  score  distance\n",
       "0         sun   sunlight  -50.0  0.956828\n",
       "1  automobile        car  -50.0  0.979143\n",
       "2       river      water  -49.0  0.970105\n",
       "3      stairs  staircase  -49.0  0.980475\n",
       "4     morning    sunrise  -49.0  0.963624"
      ]
     },
     "execution_count": 18,
     "metadata": {},
     "output_type": "execute_result"
    }
   ],
   "source": [
    "eval_df.head()"
   ]
  },
  {
   "cell_type": "markdown",
   "metadata": {},
   "source": [
    "### Dataset error analysis\n",
    "\n",
    "For error analysis, we can look at the words with the largest delta between the gold score and the distance value in our VSM. We do these comparisons based on ranks, just as with our primary metric (Spearman $\\rho$), and we normalize both rankings so that they have a comparable number of levels."
   ]
  },
  {
   "cell_type": "code",
   "execution_count": 19,
   "metadata": {},
   "outputs": [],
   "source": [
    "def word_similarity_error_analysis(eval_df):    \n",
    "    eval_df['distance_rank'] = _normalized_ranking(eval_df['distance'])\n",
    "    eval_df['score_rank'] = _normalized_ranking(eval_df['score'])\n",
    "    eval_df['error'] =  abs(eval_df['distance_rank'] - eval_df['score_rank'])\n",
    "    return eval_df.sort_values('error')\n",
    "    \n",
    "    \n",
    "def _normalized_ranking(series):\n",
    "    ranks = series.rank(method='dense')\n",
    "    return ranks / ranks.sum()    "
   ]
  },
  {
   "cell_type": "markdown",
   "metadata": {},
   "source": [
    "Best predictions:"
   ]
  },
  {
   "cell_type": "code",
   "execution_count": 20,
   "metadata": {},
   "outputs": [
    {
     "data": {
      "text/html": [
       "<div>\n",
       "<style scoped>\n",
       "    .dataframe tbody tr th:only-of-type {\n",
       "        vertical-align: middle;\n",
       "    }\n",
       "\n",
       "    .dataframe tbody tr th {\n",
       "        vertical-align: top;\n",
       "    }\n",
       "\n",
       "    .dataframe thead th {\n",
       "        text-align: right;\n",
       "    }\n",
       "</style>\n",
       "<table border=\"1\" class=\"dataframe\">\n",
       "  <thead>\n",
       "    <tr style=\"text-align: right;\">\n",
       "      <th></th>\n",
       "      <th>word1</th>\n",
       "      <th>word2</th>\n",
       "      <th>score</th>\n",
       "      <th>distance</th>\n",
       "      <th>distance_rank</th>\n",
       "      <th>score_rank</th>\n",
       "      <th>error</th>\n",
       "    </tr>\n",
       "  </thead>\n",
       "  <tbody>\n",
       "    <tr>\n",
       "      <td>1041</td>\n",
       "      <td>hummingbird</td>\n",
       "      <td>pelican</td>\n",
       "      <td>-32.0</td>\n",
       "      <td>0.975007</td>\n",
       "      <td>0.000243</td>\n",
       "      <td>0.000244</td>\n",
       "      <td>2.434543e-07</td>\n",
       "    </tr>\n",
       "    <tr>\n",
       "      <td>2315</td>\n",
       "      <td>lily</td>\n",
       "      <td>pigs</td>\n",
       "      <td>-13.0</td>\n",
       "      <td>0.980834</td>\n",
       "      <td>0.000488</td>\n",
       "      <td>0.000487</td>\n",
       "      <td>4.016842e-07</td>\n",
       "    </tr>\n",
       "    <tr>\n",
       "      <td>2951</td>\n",
       "      <td>bucket</td>\n",
       "      <td>girls</td>\n",
       "      <td>-4.0</td>\n",
       "      <td>0.983473</td>\n",
       "      <td>0.000602</td>\n",
       "      <td>0.000603</td>\n",
       "      <td>4.151568e-07</td>\n",
       "    </tr>\n",
       "    <tr>\n",
       "      <td>150</td>\n",
       "      <td>night</td>\n",
       "      <td>sunset</td>\n",
       "      <td>-43.0</td>\n",
       "      <td>0.968690</td>\n",
       "      <td>0.000102</td>\n",
       "      <td>0.000103</td>\n",
       "      <td>6.520315e-07</td>\n",
       "    </tr>\n",
       "    <tr>\n",
       "      <td>2062</td>\n",
       "      <td>oak</td>\n",
       "      <td>petals</td>\n",
       "      <td>-17.0</td>\n",
       "      <td>0.979721</td>\n",
       "      <td>0.000435</td>\n",
       "      <td>0.000436</td>\n",
       "      <td>7.162632e-07</td>\n",
       "    </tr>\n",
       "  </tbody>\n",
       "</table>\n",
       "</div>"
      ],
      "text/plain": [
       "            word1    word2  score  distance  distance_rank  score_rank  \\\n",
       "1041  hummingbird  pelican  -32.0  0.975007       0.000243    0.000244   \n",
       "2315         lily     pigs  -13.0  0.980834       0.000488    0.000487   \n",
       "2951       bucket    girls   -4.0  0.983473       0.000602    0.000603   \n",
       "150         night   sunset  -43.0  0.968690       0.000102    0.000103   \n",
       "2062          oak   petals  -17.0  0.979721       0.000435    0.000436   \n",
       "\n",
       "             error  \n",
       "1041  2.434543e-07  \n",
       "2315  4.016842e-07  \n",
       "2951  4.151568e-07  \n",
       "150   6.520315e-07  \n",
       "2062  7.162632e-07  "
      ]
     },
     "execution_count": 20,
     "metadata": {},
     "output_type": "execute_result"
    }
   ],
   "source": [
    "word_similarity_error_analysis(eval_df).head()"
   ]
  },
  {
   "cell_type": "markdown",
   "metadata": {},
   "source": [
    "Worst predictions:"
   ]
  },
  {
   "cell_type": "code",
   "execution_count": 21,
   "metadata": {},
   "outputs": [
    {
     "data": {
      "text/html": [
       "<div>\n",
       "<style scoped>\n",
       "    .dataframe tbody tr th:only-of-type {\n",
       "        vertical-align: middle;\n",
       "    }\n",
       "\n",
       "    .dataframe tbody tr th {\n",
       "        vertical-align: top;\n",
       "    }\n",
       "\n",
       "    .dataframe thead th {\n",
       "        text-align: right;\n",
       "    }\n",
       "</style>\n",
       "<table border=\"1\" class=\"dataframe\">\n",
       "  <thead>\n",
       "    <tr style=\"text-align: right;\">\n",
       "      <th></th>\n",
       "      <th>word1</th>\n",
       "      <th>word2</th>\n",
       "      <th>score</th>\n",
       "      <th>distance</th>\n",
       "      <th>distance_rank</th>\n",
       "      <th>score_rank</th>\n",
       "      <th>error</th>\n",
       "    </tr>\n",
       "  </thead>\n",
       "  <tbody>\n",
       "    <tr>\n",
       "      <td>67</td>\n",
       "      <td>branch</td>\n",
       "      <td>twigs</td>\n",
       "      <td>-45.0</td>\n",
       "      <td>0.984622</td>\n",
       "      <td>0.000630</td>\n",
       "      <td>0.000077</td>\n",
       "      <td>0.000553</td>\n",
       "    </tr>\n",
       "    <tr>\n",
       "      <td>190</td>\n",
       "      <td>birds</td>\n",
       "      <td>stork</td>\n",
       "      <td>-43.0</td>\n",
       "      <td>0.987704</td>\n",
       "      <td>0.000657</td>\n",
       "      <td>0.000103</td>\n",
       "      <td>0.000554</td>\n",
       "    </tr>\n",
       "    <tr>\n",
       "      <td>185</td>\n",
       "      <td>bloom</td>\n",
       "      <td>tulip</td>\n",
       "      <td>-43.0</td>\n",
       "      <td>0.990993</td>\n",
       "      <td>0.000663</td>\n",
       "      <td>0.000103</td>\n",
       "      <td>0.000561</td>\n",
       "    </tr>\n",
       "    <tr>\n",
       "      <td>167</td>\n",
       "      <td>bloom</td>\n",
       "      <td>blossom</td>\n",
       "      <td>-43.0</td>\n",
       "      <td>0.991760</td>\n",
       "      <td>0.000664</td>\n",
       "      <td>0.000103</td>\n",
       "      <td>0.000561</td>\n",
       "    </tr>\n",
       "    <tr>\n",
       "      <td>198</td>\n",
       "      <td>bloom</td>\n",
       "      <td>rose</td>\n",
       "      <td>-43.0</td>\n",
       "      <td>0.992406</td>\n",
       "      <td>0.000664</td>\n",
       "      <td>0.000103</td>\n",
       "      <td>0.000561</td>\n",
       "    </tr>\n",
       "  </tbody>\n",
       "</table>\n",
       "</div>"
      ],
      "text/plain": [
       "      word1    word2  score  distance  distance_rank  score_rank     error\n",
       "67   branch    twigs  -45.0  0.984622       0.000630    0.000077  0.000553\n",
       "190   birds    stork  -43.0  0.987704       0.000657    0.000103  0.000554\n",
       "185   bloom    tulip  -43.0  0.990993       0.000663    0.000103  0.000561\n",
       "167   bloom  blossom  -43.0  0.991760       0.000664    0.000103  0.000561\n",
       "198   bloom     rose  -43.0  0.992406       0.000664    0.000103  0.000561"
      ]
     },
     "execution_count": 21,
     "metadata": {},
     "output_type": "execute_result"
    }
   ],
   "source": [
    "word_similarity_error_analysis(eval_df).tail()"
   ]
  },
  {
   "cell_type": "markdown",
   "metadata": {},
   "source": [
    "### Full evaluation"
   ]
  },
  {
   "cell_type": "markdown",
   "metadata": {},
   "source": [
    "A full evaluation is just a loop over all the readers on which one want to evaluate, with a macro-average at the end:"
   ]
  },
  {
   "cell_type": "code",
   "execution_count": 22,
   "metadata": {},
   "outputs": [],
   "source": [
    "def full_word_similarity_evaluation(df, readers=READERS):\n",
    "    \"\"\"Evaluate a VSM against all datasets in `readers`.\n",
    "    \n",
    "    Parameters\n",
    "    ----------\n",
    "    df : pd.DataFrame\n",
    "    readers : tuple \n",
    "        The similarity dataset readers on which to evaluate.\n",
    "    \n",
    "    Returns\n",
    "    -------\n",
    "    pd.Series\n",
    "        Mapping dataset names to Spearman r values.\n",
    "        \n",
    "    \"\"\"        \n",
    "    scores = {}     \n",
    "    for reader in readers:\n",
    "        score, data_df = word_similarity_evaluation(reader, df)\n",
    "        scores[get_reader_name(reader)] = score\n",
    "    series = pd.Series(scores, name='Spearman r')\n",
    "    series['Macro-average'] = series.mean()\n",
    "    return series"
   ]
  },
  {
   "cell_type": "code",
   "execution_count": 23,
   "metadata": {},
   "outputs": [
    {
     "data": {
      "text/plain": [
       "wordsim353         0.327831\n",
       "mturk771           0.143146\n",
       "simverb3500dev    -0.068038\n",
       "simverb3500test   -0.066348\n",
       "men                0.403760\n",
       "Macro-average      0.148070\n",
       "Name: Spearman r, dtype: float64"
      ]
     },
     "execution_count": 23,
     "metadata": {},
     "output_type": "execute_result"
    }
   ],
   "source": [
    "full_word_similarity_evaluation(giga5)"
   ]
  },
  {
   "cell_type": "markdown",
   "metadata": {},
   "source": [
    "## Homework questions\n",
    "\n",
    "Please embed your homework responses in this notebook, and do not delete any cells from the notebook. (You are free to add as many cells as you like as part of your responses.)"
   ]
  },
  {
   "cell_type": "markdown",
   "metadata": {},
   "source": [
    "### PPMI as a baseline [0.5 points]\n",
    "\n",
    "The insight behind PPMI is a recurring theme in word representation learning, so it is a natural baseline for our task. For this question, write a function called `run_giga_ppmi_baseline` that does the following:\n",
    "\n",
    "1. Reads the Gigaword count matrix with a window of 20 and a flat scaling function into a `pd.DataFrame`s, as is done in the VSM notebooks. The file is `data/vsmdata/giga_window20-flat.csv.gz`, and the VSM notebooks provide examples of the needed code.\n",
    "\n",
    "1. Reweights this count matrix with PPMI.\n",
    "\n",
    "1. Evaluates this reweighted matrix using `full_word_similarity_evaluation`. The return value of `run_giga_ppmi_baseline` should be the return value of this call to `full_word_similarity_evaluation`.\n",
    "\n",
    "The goal of this question is to help you get more familiar with the code in `vsm` and the function `full_word_similarity_evaluation`.\n",
    "\n",
    "The function `test_run_giga_ppmi_baseline` can be used to test that you've implemented this specification correctly."
   ]
  },
  {
   "cell_type": "code",
   "execution_count": 24,
   "metadata": {},
   "outputs": [],
   "source": [
    "#Edited by Vivek\n",
    "def run_giga_ppmi_baseline():\n",
    "    \n",
    "    giga20 = pd.read_csv(os.path.join('data/vsmdata/giga_window20-flat.csv.gz'),index_col=0)\n",
    "    giga20_ppmi = vsm.pmi(giga20,positive=True)\n",
    "    return full_word_similarity_evaluation(giga20_ppmi)\n",
    "\n"
   ]
  },
  {
   "cell_type": "code",
   "execution_count": 25,
   "metadata": {},
   "outputs": [],
   "source": [
    "#Edited by Vivek\n",
    "giga20 = pd.read_csv(os.path.join(VSM_HOME,'giga_window20-flat.csv.gz'),index_col=0)"
   ]
  },
  {
   "cell_type": "code",
   "execution_count": 26,
   "metadata": {},
   "outputs": [
    {
     "name": "stdout",
     "output_type": "stream",
     "text": [
      "(5000, 5000)\n"
     ]
    },
    {
     "data": {
      "text/html": [
       "<div>\n",
       "<style scoped>\n",
       "    .dataframe tbody tr th:only-of-type {\n",
       "        vertical-align: middle;\n",
       "    }\n",
       "\n",
       "    .dataframe tbody tr th {\n",
       "        vertical-align: top;\n",
       "    }\n",
       "\n",
       "    .dataframe thead th {\n",
       "        text-align: right;\n",
       "    }\n",
       "</style>\n",
       "<table border=\"1\" class=\"dataframe\">\n",
       "  <thead>\n",
       "    <tr style=\"text-align: right;\">\n",
       "      <th></th>\n",
       "      <th>!</th>\n",
       "      <th>);</th>\n",
       "      <th>.</th>\n",
       "      <th>...</th>\n",
       "      <th>;p</th>\n",
       "      <th>&lt;/p&gt;</th>\n",
       "      <th>&lt;p&gt;</th>\n",
       "      <th>?</th>\n",
       "      <th>___</th>\n",
       "      <th>abandoned</th>\n",
       "      <th>...</th>\n",
       "      <th>younger</th>\n",
       "      <th>youth</th>\n",
       "      <th>yugoslav</th>\n",
       "      <th>yugoslavia</th>\n",
       "      <th>zealand</th>\n",
       "      <th>zebra</th>\n",
       "      <th>zinc</th>\n",
       "      <th>zombie</th>\n",
       "      <th>zone</th>\n",
       "      <th>zoo</th>\n",
       "    </tr>\n",
       "  </thead>\n",
       "  <tbody>\n",
       "    <tr>\n",
       "      <td>!</td>\n",
       "      <td>940195.0</td>\n",
       "      <td>702.0</td>\n",
       "      <td>621097.0</td>\n",
       "      <td>23437.0</td>\n",
       "      <td>0.0</td>\n",
       "      <td>373658.0</td>\n",
       "      <td>368544.0</td>\n",
       "      <td>59060.0</td>\n",
       "      <td>4516.0</td>\n",
       "      <td>226.0</td>\n",
       "      <td>...</td>\n",
       "      <td>592.0</td>\n",
       "      <td>597.0</td>\n",
       "      <td>191.0</td>\n",
       "      <td>197.0</td>\n",
       "      <td>145.0</td>\n",
       "      <td>14.0</td>\n",
       "      <td>11.0</td>\n",
       "      <td>52.0</td>\n",
       "      <td>944.0</td>\n",
       "      <td>159.0</td>\n",
       "    </tr>\n",
       "    <tr>\n",
       "      <td>);</td>\n",
       "      <td>702.0</td>\n",
       "      <td>190241.0</td>\n",
       "      <td>147684.0</td>\n",
       "      <td>288.0</td>\n",
       "      <td>0.0</td>\n",
       "      <td>31224.0</td>\n",
       "      <td>29306.0</td>\n",
       "      <td>934.0</td>\n",
       "      <td>583.0</td>\n",
       "      <td>27.0</td>\n",
       "      <td>...</td>\n",
       "      <td>105.0</td>\n",
       "      <td>80.0</td>\n",
       "      <td>116.0</td>\n",
       "      <td>214.0</td>\n",
       "      <td>424.0</td>\n",
       "      <td>5.0</td>\n",
       "      <td>15.0</td>\n",
       "      <td>5.0</td>\n",
       "      <td>111.0</td>\n",
       "      <td>13.0</td>\n",
       "    </tr>\n",
       "    <tr>\n",
       "      <td>.</td>\n",
       "      <td>621097.0</td>\n",
       "      <td>147684.0</td>\n",
       "      <td>305121592.0</td>\n",
       "      <td>1549023.0</td>\n",
       "      <td>1911.0</td>\n",
       "      <td>103978701.0</td>\n",
       "      <td>100660069.0</td>\n",
       "      <td>2725058.0</td>\n",
       "      <td>577519.0</td>\n",
       "      <td>118249.0</td>\n",
       "      <td>...</td>\n",
       "      <td>176762.0</td>\n",
       "      <td>141801.0</td>\n",
       "      <td>164825.0</td>\n",
       "      <td>255798.0</td>\n",
       "      <td>262532.0</td>\n",
       "      <td>4087.0</td>\n",
       "      <td>18139.0</td>\n",
       "      <td>2960.0</td>\n",
       "      <td>261561.0</td>\n",
       "      <td>38939.0</td>\n",
       "    </tr>\n",
       "    <tr>\n",
       "      <td>...</td>\n",
       "      <td>23437.0</td>\n",
       "      <td>288.0</td>\n",
       "      <td>1549023.0</td>\n",
       "      <td>2419985.0</td>\n",
       "      <td>0.0</td>\n",
       "      <td>862456.0</td>\n",
       "      <td>853756.0</td>\n",
       "      <td>44523.0</td>\n",
       "      <td>4486.0</td>\n",
       "      <td>413.0</td>\n",
       "      <td>...</td>\n",
       "      <td>671.0</td>\n",
       "      <td>886.0</td>\n",
       "      <td>710.0</td>\n",
       "      <td>912.0</td>\n",
       "      <td>709.0</td>\n",
       "      <td>392.0</td>\n",
       "      <td>6.0</td>\n",
       "      <td>34.0</td>\n",
       "      <td>1523.0</td>\n",
       "      <td>149.0</td>\n",
       "    </tr>\n",
       "    <tr>\n",
       "      <td>;p</td>\n",
       "      <td>0.0</td>\n",
       "      <td>0.0</td>\n",
       "      <td>1911.0</td>\n",
       "      <td>0.0</td>\n",
       "      <td>876993.0</td>\n",
       "      <td>347.0</td>\n",
       "      <td>412.0</td>\n",
       "      <td>3.0</td>\n",
       "      <td>0.0</td>\n",
       "      <td>0.0</td>\n",
       "      <td>...</td>\n",
       "      <td>0.0</td>\n",
       "      <td>0.0</td>\n",
       "      <td>0.0</td>\n",
       "      <td>0.0</td>\n",
       "      <td>0.0</td>\n",
       "      <td>0.0</td>\n",
       "      <td>0.0</td>\n",
       "      <td>0.0</td>\n",
       "      <td>1.0</td>\n",
       "      <td>0.0</td>\n",
       "    </tr>\n",
       "  </tbody>\n",
       "</table>\n",
       "<p>5 rows × 5000 columns</p>\n",
       "</div>"
      ],
      "text/plain": [
       "            !        );            .        ...        ;p         </p>  \\\n",
       "!    940195.0     702.0     621097.0    23437.0       0.0     373658.0   \n",
       ");      702.0  190241.0     147684.0      288.0       0.0      31224.0   \n",
       ".    621097.0  147684.0  305121592.0  1549023.0    1911.0  103978701.0   \n",
       "...   23437.0     288.0    1549023.0  2419985.0       0.0     862456.0   \n",
       ";p        0.0       0.0       1911.0        0.0  876993.0        347.0   \n",
       "\n",
       "             <p>          ?       ___  abandoned  ...   younger     youth  \\\n",
       "!       368544.0    59060.0    4516.0      226.0  ...     592.0     597.0   \n",
       ");       29306.0      934.0     583.0       27.0  ...     105.0      80.0   \n",
       ".    100660069.0  2725058.0  577519.0   118249.0  ...  176762.0  141801.0   \n",
       "...     853756.0    44523.0    4486.0      413.0  ...     671.0     886.0   \n",
       ";p         412.0        3.0       0.0        0.0  ...       0.0       0.0   \n",
       "\n",
       "     yugoslav  yugoslavia   zealand   zebra     zinc  zombie      zone  \\\n",
       "!       191.0       197.0     145.0    14.0     11.0    52.0     944.0   \n",
       ");      116.0       214.0     424.0     5.0     15.0     5.0     111.0   \n",
       ".    164825.0    255798.0  262532.0  4087.0  18139.0  2960.0  261561.0   \n",
       "...     710.0       912.0     709.0   392.0      6.0    34.0    1523.0   \n",
       ";p        0.0         0.0       0.0     0.0      0.0     0.0       1.0   \n",
       "\n",
       "         zoo  \n",
       "!      159.0  \n",
       ");      13.0  \n",
       ".    38939.0  \n",
       "...    149.0  \n",
       ";p       0.0  \n",
       "\n",
       "[5 rows x 5000 columns]"
      ]
     },
     "execution_count": 26,
     "metadata": {},
     "output_type": "execute_result"
    }
   ],
   "source": [
    "#Edited by Vivek\n",
    "print(giga20.shape)\n",
    "giga20.head()"
   ]
  },
  {
   "cell_type": "code",
   "execution_count": 27,
   "metadata": {},
   "outputs": [],
   "source": [
    "#Edited by Vivek\n",
    "giga20_ppmi = vsm.pmi(giga20,positive=True)"
   ]
  },
  {
   "cell_type": "code",
   "execution_count": 28,
   "metadata": {},
   "outputs": [
    {
     "name": "stdout",
     "output_type": "stream",
     "text": [
      "(5000, 5000)\n"
     ]
    },
    {
     "data": {
      "text/html": [
       "<div>\n",
       "<style scoped>\n",
       "    .dataframe tbody tr th:only-of-type {\n",
       "        vertical-align: middle;\n",
       "    }\n",
       "\n",
       "    .dataframe tbody tr th {\n",
       "        vertical-align: top;\n",
       "    }\n",
       "\n",
       "    .dataframe thead th {\n",
       "        text-align: right;\n",
       "    }\n",
       "</style>\n",
       "<table border=\"1\" class=\"dataframe\">\n",
       "  <thead>\n",
       "    <tr style=\"text-align: right;\">\n",
       "      <th></th>\n",
       "      <th>!</th>\n",
       "      <th>);</th>\n",
       "      <th>.</th>\n",
       "      <th>...</th>\n",
       "      <th>;p</th>\n",
       "      <th>&lt;/p&gt;</th>\n",
       "      <th>&lt;p&gt;</th>\n",
       "      <th>?</th>\n",
       "      <th>___</th>\n",
       "      <th>abandoned</th>\n",
       "      <th>...</th>\n",
       "      <th>younger</th>\n",
       "      <th>youth</th>\n",
       "      <th>yugoslav</th>\n",
       "      <th>yugoslavia</th>\n",
       "      <th>zealand</th>\n",
       "      <th>zebra</th>\n",
       "      <th>zinc</th>\n",
       "      <th>zombie</th>\n",
       "      <th>zone</th>\n",
       "      <th>zoo</th>\n",
       "    </tr>\n",
       "  </thead>\n",
       "  <tbody>\n",
       "    <tr>\n",
       "      <td>!</td>\n",
       "      <td>5.866057</td>\n",
       "      <td>0.534136</td>\n",
       "      <td>0.000000</td>\n",
       "      <td>1.504064</td>\n",
       "      <td>0.000000</td>\n",
       "      <td>0.011322</td>\n",
       "      <td>0.000000</td>\n",
       "      <td>1.661825</td>\n",
       "      <td>0.849765</td>\n",
       "      <td>0.0</td>\n",
       "      <td>...</td>\n",
       "      <td>0.000000</td>\n",
       "      <td>0.10841</td>\n",
       "      <td>0.000000</td>\n",
       "      <td>0.000000</td>\n",
       "      <td>0.000000</td>\n",
       "      <td>0.106363</td>\n",
       "      <td>0.000000</td>\n",
       "      <td>1.671645</td>\n",
       "      <td>0.021294</td>\n",
       "      <td>0.144648</td>\n",
       "    </tr>\n",
       "    <tr>\n",
       "      <td>);</td>\n",
       "      <td>0.534136</td>\n",
       "      <td>8.004238</td>\n",
       "      <td>0.200917</td>\n",
       "      <td>0.000000</td>\n",
       "      <td>0.000000</td>\n",
       "      <td>0.000000</td>\n",
       "      <td>0.000000</td>\n",
       "      <td>0.000000</td>\n",
       "      <td>0.670558</td>\n",
       "      <td>0.0</td>\n",
       "      <td>...</td>\n",
       "      <td>0.070701</td>\n",
       "      <td>0.00000</td>\n",
       "      <td>0.065388</td>\n",
       "      <td>0.470617</td>\n",
       "      <td>1.112522</td>\n",
       "      <td>0.944732</td>\n",
       "      <td>0.750492</td>\n",
       "      <td>1.197827</td>\n",
       "      <td>0.000000</td>\n",
       "      <td>0.000000</td>\n",
       "    </tr>\n",
       "    <tr>\n",
       "      <td>.</td>\n",
       "      <td>0.000000</td>\n",
       "      <td>0.200917</td>\n",
       "      <td>0.284204</td>\n",
       "      <td>0.013013</td>\n",
       "      <td>0.000000</td>\n",
       "      <td>0.000000</td>\n",
       "      <td>0.000000</td>\n",
       "      <td>0.000000</td>\n",
       "      <td>0.018764</td>\n",
       "      <td>0.0</td>\n",
       "      <td>...</td>\n",
       "      <td>0.000000</td>\n",
       "      <td>0.00000</td>\n",
       "      <td>0.000000</td>\n",
       "      <td>0.006681</td>\n",
       "      <td>0.000000</td>\n",
       "      <td>0.100757</td>\n",
       "      <td>0.298158</td>\n",
       "      <td>0.031230</td>\n",
       "      <td>0.000000</td>\n",
       "      <td>0.000000</td>\n",
       "    </tr>\n",
       "    <tr>\n",
       "      <td>...</td>\n",
       "      <td>1.504064</td>\n",
       "      <td>0.000000</td>\n",
       "      <td>0.013013</td>\n",
       "      <td>5.471044</td>\n",
       "      <td>0.000000</td>\n",
       "      <td>0.177544</td>\n",
       "      <td>0.167797</td>\n",
       "      <td>0.709056</td>\n",
       "      <td>0.172879</td>\n",
       "      <td>0.0</td>\n",
       "      <td>...</td>\n",
       "      <td>0.000000</td>\n",
       "      <td>0.00000</td>\n",
       "      <td>0.000000</td>\n",
       "      <td>0.000000</td>\n",
       "      <td>0.000000</td>\n",
       "      <td>2.768347</td>\n",
       "      <td>0.000000</td>\n",
       "      <td>0.576541</td>\n",
       "      <td>0.000000</td>\n",
       "      <td>0.000000</td>\n",
       "    </tr>\n",
       "    <tr>\n",
       "      <td>;p</td>\n",
       "      <td>0.000000</td>\n",
       "      <td>0.000000</td>\n",
       "      <td>0.000000</td>\n",
       "      <td>0.000000</td>\n",
       "      <td>7.629313</td>\n",
       "      <td>0.000000</td>\n",
       "      <td>0.000000</td>\n",
       "      <td>0.000000</td>\n",
       "      <td>0.000000</td>\n",
       "      <td>0.0</td>\n",
       "      <td>...</td>\n",
       "      <td>0.000000</td>\n",
       "      <td>0.00000</td>\n",
       "      <td>0.000000</td>\n",
       "      <td>0.000000</td>\n",
       "      <td>0.000000</td>\n",
       "      <td>0.000000</td>\n",
       "      <td>0.000000</td>\n",
       "      <td>0.000000</td>\n",
       "      <td>0.000000</td>\n",
       "      <td>0.000000</td>\n",
       "    </tr>\n",
       "  </tbody>\n",
       "</table>\n",
       "<p>5 rows × 5000 columns</p>\n",
       "</div>"
      ],
      "text/plain": [
       "            !        );         .       ...        ;p      </p>       <p>  \\\n",
       "!    5.866057  0.534136  0.000000  1.504064  0.000000  0.011322  0.000000   \n",
       ");   0.534136  8.004238  0.200917  0.000000  0.000000  0.000000  0.000000   \n",
       ".    0.000000  0.200917  0.284204  0.013013  0.000000  0.000000  0.000000   \n",
       "...  1.504064  0.000000  0.013013  5.471044  0.000000  0.177544  0.167797   \n",
       ";p   0.000000  0.000000  0.000000  0.000000  7.629313  0.000000  0.000000   \n",
       "\n",
       "            ?       ___  abandoned  ...   younger    youth  yugoslav  \\\n",
       "!    1.661825  0.849765        0.0  ...  0.000000  0.10841  0.000000   \n",
       ");   0.000000  0.670558        0.0  ...  0.070701  0.00000  0.065388   \n",
       ".    0.000000  0.018764        0.0  ...  0.000000  0.00000  0.000000   \n",
       "...  0.709056  0.172879        0.0  ...  0.000000  0.00000  0.000000   \n",
       ";p   0.000000  0.000000        0.0  ...  0.000000  0.00000  0.000000   \n",
       "\n",
       "     yugoslavia   zealand     zebra      zinc    zombie      zone       zoo  \n",
       "!      0.000000  0.000000  0.106363  0.000000  1.671645  0.021294  0.144648  \n",
       ");     0.470617  1.112522  0.944732  0.750492  1.197827  0.000000  0.000000  \n",
       ".      0.006681  0.000000  0.100757  0.298158  0.031230  0.000000  0.000000  \n",
       "...    0.000000  0.000000  2.768347  0.000000  0.576541  0.000000  0.000000  \n",
       ";p     0.000000  0.000000  0.000000  0.000000  0.000000  0.000000  0.000000  \n",
       "\n",
       "[5 rows x 5000 columns]"
      ]
     },
     "execution_count": 28,
     "metadata": {},
     "output_type": "execute_result"
    }
   ],
   "source": [
    "#Edited by Vivek\n",
    "print(giga20_ppmi.shape)\n",
    "giga20_ppmi.head()"
   ]
  },
  {
   "cell_type": "code",
   "execution_count": 29,
   "metadata": {},
   "outputs": [
    {
     "name": "stdout",
     "output_type": "stream",
     "text": [
      "wordsim353         0.582573\n",
      "mturk771           0.495228\n",
      "simverb3500dev     0.232637\n",
      "simverb3500test    0.158925\n",
      "men                0.624885\n",
      "Macro-average      0.418850\n",
      "Name: Spearman r, dtype: float64\n"
     ]
    }
   ],
   "source": [
    "#Edited by Vivek\n",
    "print(full_word_similarity_evaluation(giga20_ppmi))"
   ]
  },
  {
   "cell_type": "code",
   "execution_count": 30,
   "metadata": {},
   "outputs": [],
   "source": [
    "def test_run_giga_ppmi_baseline(run_giga_ppmi_baseline):\n",
    "    result = run_giga_ppmi_baseline()\n",
    "    ws_result = result.loc['wordsim353'].round(2)\n",
    "    ws_expected = 0.58\n",
    "    print(ws_result,ws_expected)\n",
    "    assert ws_result == ws_expected, \\\n",
    "        \"Expected wordsim353 value of {}; got {}\".format(ws_expected, ws_result)"
   ]
  },
  {
   "cell_type": "code",
   "execution_count": 31,
   "metadata": {},
   "outputs": [
    {
     "name": "stdout",
     "output_type": "stream",
     "text": [
      "0.58 0.58\n"
     ]
    }
   ],
   "source": [
    "test_run_giga_ppmi_baseline(run_giga_ppmi_baseline)"
   ]
  },
  {
   "cell_type": "markdown",
   "metadata": {},
   "source": [
    "### Gigaword with LSA at different dimensions [0.5 points]\n",
    "\n",
    "We might expect PPMI and LSA to form a solid pipeline that combines the strengths of PPMI with those of dimensionality reduction. However, LSA has a hyper-parameter $k$ – the dimensionality of the final representations – that will impact performance. For this problem, write a wrapper function `run_ppmi_lsa_pipeline` that does the following:\n",
    "\n",
    "1. Takes as input a count `pd.DataFrame` and an LSA parameter `k`.\n",
    "1. Reweights the count matrix with PPMI.\n",
    "1. Applies LSA with dimensionality `k`.\n",
    "1. Evaluates this reweighted matrix using `full_word_similarity_evaluation`. The return value of `run_ppmi_lsa_pipeline` should be the return value of this call to `full_word_similarity_evaluation`.\n",
    "\n",
    "The goal of this question is to help you get a feel for how much LSA alone can contribute to this problem. \n",
    "\n",
    "The  function `test_run_ppmi_lsa_pipeline` will test your function on the count matrix in `data/vsmdata/giga_window20-flat.csv.gz`."
   ]
  },
  {
   "cell_type": "code",
   "execution_count": 32,
   "metadata": {},
   "outputs": [],
   "source": [
    "#Edited by Vivek\n",
    "def run_ppmi_lsa_pipeline(count_df, k):\n",
    "    \n",
    "    count_df_ppmi = vsm.pmi(count_df,positive=True)\n",
    "    count_df_ppmi_lsa = vsm.lsa(count_df_ppmi,k=k)\n",
    "    return full_word_similarity_evaluation(count_df_ppmi_lsa)\n"
   ]
  },
  {
   "cell_type": "code",
   "execution_count": 187,
   "metadata": {},
   "outputs": [],
   "source": [
    "def test_run_ppmi_lsa_pipeline(run_ppmi_lsa_pipeline):\n",
    "    giga20 = pd.read_csv(\n",
    "        os.path.join(VSM_HOME, \"giga_window20-flat.csv.gz\"), index_col=0)\n",
    "    results = run_ppmi_lsa_pipeline(giga20, k=10)\n",
    "    men_expected = 0.57\n",
    "    men_result = results.loc['men'].round(2)\n",
    "    print(men_expected)\n",
    "    print(men_result)\n",
    "    print(results)\n",
    "    assert men_result == men_expected,\\\n",
    "        \"Expected men value of {}; got {}\".format(men_expected, men_result)"
   ]
  },
  {
   "cell_type": "code",
   "execution_count": 188,
   "metadata": {},
   "outputs": [
    {
     "name": "stdout",
     "output_type": "stream",
     "text": [
      "0.57\n",
      "0.57\n",
      "wordsim353         0.432193\n",
      "mturk771           0.416597\n",
      "simverb3500dev     0.186195\n",
      "simverb3500test    0.133217\n",
      "men                0.566648\n",
      "Macro-average      0.346970\n",
      "Name: Spearman r, dtype: float64\n"
     ]
    }
   ],
   "source": [
    "test_run_ppmi_lsa_pipeline(run_ppmi_lsa_pipeline)"
   ]
  },
  {
   "cell_type": "markdown",
   "metadata": {},
   "source": [
    "### Gigaword with GloVe for a small number of iterations [0.5 points]\n",
    "\n",
    "Ideally, we would run GloVe for a very large number of iterations on a GPU machine to compare it against its close cousin PMI. However, we don't want this homework to cost you a lot of money or monopolize a lot of your available computing resources, so let's instead just probe GloVe a little bit to see if it has promise for our task. For this problem, write a function `run_small_glove_evals` that does the following:\n",
    "\n",
    "1. Reads in `data/vsmdata/giga_window20-flat.csv.gz`.\n",
    "1. Runs GloVe for 10, 100, and 200 iterations on `data/vsmdata/giga_window20-flat.csv.gz`, using the `mittens` implementation of `GloVe`. \n",
    "  * For all the other parameters to `mittens.GloVe` besides `max_iter`, use the package's defaults.\n",
    "  * Because of the way that implementation is designed, these will have to be separate runs, but they should be relatively quick. \n",
    "1. Stores the values in a `dict` mapping each `max_iter` value to its associated 'Macro-average' score according to `full_word_similarity_evaluation`. `run_small_glove_evals`  should return this `dict`.\n",
    "\n",
    "The trend should give you a sense for whether it is worth running GloVe for more iterations.\n",
    "\n",
    "Some implementation notes:\n",
    "\n",
    "* Your trained GloVe matrix `X` needs to be wrapped in a `pd.DataFrame` to work with `full_word_similarity_evaluation`. `pd.DataFrame(X, index=giga20.index)` will do the trick.\n",
    "\n",
    "* If `glv` is your GloVe model, then running `glv.sess.close()` after each model is trained will silence warnings from TensorFlow about interactive sessions being active.\n",
    "\n",
    "Performance will vary a lot for this function, so there is some uncertainty in the testing, but `test_run_small_glove_evals` will at least check that you wrote a function with the right general logic."
   ]
  },
  {
   "cell_type": "code",
   "execution_count": 52,
   "metadata": {},
   "outputs": [],
   "source": [
    "def run_small_glove_evals():\n",
    "\n",
    "    from mittens import GloVe\n",
    "    final_result = {}\n",
    "    \n",
    "    giga20 = pd.read_csv(os.path.join(VSM_HOME,'giga_window20-flat.csv.gz'),index_col=0)\n",
    "    for max_iter in (10,100,200):\n",
    "        print(\"Iteration: \", max_iter)\n",
    "        glove_model = GloVe(max_iter = max_iter)\n",
    "        giga20_glove = glove_model.fit(giga20)\n",
    "        giga20_glove = pd.DataFrame(giga20_glove, index = giga20.index)\n",
    "        result = full_word_similarity_evaluation(giga20_glove)\n",
    "        final_result.update({max_iter:result.loc['Macro-average'].round(2)})\n",
    "        print(final_result)\n",
    "        glove_model.sess.close()\n",
    "    \n",
    "    return final_result\n",
    "    \n"
   ]
  },
  {
   "cell_type": "code",
   "execution_count": 53,
   "metadata": {},
   "outputs": [],
   "source": [
    "def test_run_small_glove_evals(run_small_glove_evals):\n",
    "    data = run_small_glove_evals()\n",
    "    for max_iter in (10, 100, 200):\n",
    "        assert max_iter in data\n",
    "        assert isinstance(data[max_iter], float)"
   ]
  },
  {
   "cell_type": "code",
   "execution_count": 54,
   "metadata": {},
   "outputs": [
    {
     "name": "stdout",
     "output_type": "stream",
     "text": [
      "Iteration:  10\n"
     ]
    },
    {
     "name": "stderr",
     "output_type": "stream",
     "text": [
      "C:\\Users\\vjhunjhunwala\\AppData\\Local\\Continuum\\anaconda3\\envs\\nlu\\lib\\site-packages\\tensorflow\\python\\client\\session.py:1702: UserWarning: An interactive session is already active. This can cause out-of-memory errors in some cases. You must explicitly call `InteractiveSession.close()` to release resources held by the other session(s).\n",
      "  warnings.warn('An interactive session is already active. This can '\n",
      "Iteration 10: loss: 15986407.0"
     ]
    },
    {
     "name": "stdout",
     "output_type": "stream",
     "text": [
      "{10: 0.03}\n",
      "Iteration:  100\n"
     ]
    },
    {
     "name": "stderr",
     "output_type": "stream",
     "text": [
      "Iteration 100: loss: 2779254.25"
     ]
    },
    {
     "name": "stdout",
     "output_type": "stream",
     "text": [
      "{10: 0.03, 100: 0.13}\n",
      "Iteration:  200\n"
     ]
    },
    {
     "name": "stderr",
     "output_type": "stream",
     "text": [
      "Iteration 200: loss: 1999680.55"
     ]
    },
    {
     "name": "stdout",
     "output_type": "stream",
     "text": [
      "{10: 0.03, 100: 0.13, 200: 0.19}\n"
     ]
    }
   ],
   "source": [
    "test_run_small_glove_evals(run_small_glove_evals)"
   ]
  },
  {
   "cell_type": "markdown",
   "metadata": {},
   "source": [
    "### Dice coefficient [0.5 points]\n",
    "\n",
    "Implement the Dice coefficient for real-valued vectors, as\n",
    "\n",
    "$$\n",
    "\\textbf{dice}(u, v) = \n",
    "1 - \\frac{\n",
    "  2 \\sum_{i=1}^{n}\\min(u_{i}, v_{i})\n",
    "}{\n",
    "    \\sum_{i=1}^{n} u_{i} + v_{i}\n",
    "}$$\n",
    " \n",
    "You can use `test_dice_implementation` below to check that your implementation is correct."
   ]
  },
  {
   "cell_type": "code",
   "execution_count": 64,
   "metadata": {},
   "outputs": [],
   "source": [
    "def test_dice_implementation(func):\n",
    "    \"\"\"`func` should be an implementation of `dice` as defined above.\"\"\"\n",
    "    X = np.array([\n",
    "        [  4.,   4.,   2.,   0.],\n",
    "        [  4.,  61.,   8.,  18.],\n",
    "        [  2.,   8.,  10.,   0.],\n",
    "        [  0.,  18.,   0.,   5.]]) \n",
    "    assert func(X[0], X[1]).round(5) == 0.80198\n",
    "    assert func(X[1], X[2]).round(5) == 0.67568"
   ]
  },
  {
   "cell_type": "code",
   "execution_count": 56,
   "metadata": {},
   "outputs": [
    {
     "name": "stdout",
     "output_type": "stream",
     "text": [
      "[ 4. 61.  8. 18.]\n"
     ]
    }
   ],
   "source": [
    "X = np.array([\n",
    "        [  4.,   4.,   2.,   0.],\n",
    "        [  4.,  61.,   8.,  18.],\n",
    "        [  3.,   8.,  10.,   0.],\n",
    "        [  0.,  18.,   0.,   5.]]) \n",
    "print(X[1])"
   ]
  },
  {
   "cell_type": "code",
   "execution_count": 63,
   "metadata": {},
   "outputs": [
    {
     "data": {
      "text/plain": [
       "101.0"
      ]
     },
     "execution_count": 63,
     "metadata": {},
     "output_type": "execute_result"
    }
   ],
   "source": [
    "np.add(X[0],X[1]).sum()"
   ]
  },
  {
   "cell_type": "code",
   "execution_count": 69,
   "metadata": {},
   "outputs": [],
   "source": [
    "def dice(u, v):\n",
    "    numerator = np.minimum(u,v).sum()\n",
    "    denominator = np.add(u,v).sum()\n",
    "    result = 1 - (2*numerator/denominator)\n",
    "    print(result)\n",
    "    return result\n",
    "    ##### YOUR CODE HERE\n",
    "\n",
    "\n"
   ]
  },
  {
   "cell_type": "code",
   "execution_count": 70,
   "metadata": {},
   "outputs": [
    {
     "name": "stdout",
     "output_type": "stream",
     "text": [
      "0.801980198019802\n",
      "0.6756756756756757\n"
     ]
    }
   ],
   "source": [
    "test_dice_implementation(dice)"
   ]
  },
  {
   "cell_type": "markdown",
   "metadata": {},
   "source": [
    "### t-test reweighting [2 points]\n",
    "\n"
   ]
  },
  {
   "cell_type": "markdown",
   "metadata": {},
   "source": [
    "The t-test statistic can be thought of as a reweighting scheme. For a count matrix $X$, row index $i$, and column index $j$:\n",
    "\n",
    "$$\\textbf{ttest}(X, i, j) = \n",
    "\\frac{\n",
    "    P(X, i, j) - \\big(P(X, i, *)P(X, *, j)\\big)\n",
    "}{\n",
    "\\sqrt{(P(X, i, *)P(X, *, j))}\n",
    "}$$\n",
    "\n",
    "where $P(X, i, j)$ is $X_{ij}$ divided by the total values in $X$, $P(X, i, *)$ is the sum of the values in row $i$ of $X$ divided by the total values in $X$, and $P(X, *, j)$ is the sum of the values in column $j$ of $X$ divided by the total values in $X$.\n",
    "\n",
    "For this problem, implement this reweighting scheme. You can use `test_ttest_implementation` below to check that your implementation is correct. You do not need to use this for any evaluations, though we hope you will be curious enough to do so!"
   ]
  },
  {
   "cell_type": "code",
   "execution_count": 179,
   "metadata": {},
   "outputs": [],
   "source": [
    "def ttest(df):\n",
    "    result = np.zeros((df.shape[0],df.shape[1]))\n",
    "    print(result)\n",
    "    total = df.sum().sum()\n",
    "    print(total)\n",
    "    for i in range(0,df.shape[0]):\n",
    "        for j in range(0,df.shape[1]):\n",
    "            p_x_i_j = df.iloc[i,j]/total\n",
    "            p_x_i_all = df.iloc[i,:].sum()/total\n",
    "            p_x_all_j = df.iloc[:,j].sum()/total\n",
    "            joint_prob = p_x_i_all * p_x_all_j\n",
    "            result[i][j] = ((p_x_i_j - joint_prob)/(np.sqrt(joint_prob)))\n",
    "    print(result)\n",
    "    return result\n",
    "    \n",
    "    ##### YOUR CODE HERE\n",
    "\n",
    "\n"
   ]
  },
  {
   "cell_type": "code",
   "execution_count": 183,
   "metadata": {},
   "outputs": [],
   "source": [
    "def ttest_copy(df):\n",
    "    total = df.sum().sum()\n",
    "    # normalize df\n",
    "    df = df/total\n",
    "    # get sum of each column\n",
    "    col_total = df.sum(axis=0)\n",
    "    # get sum of each row\n",
    "    row_total = df.sum(axis=1)\n",
    "    # m should be the same shape as df\n",
    "    m = np.outer(row_total, col_total)\n",
    "    # get the ratio\n",
    "    numerator = df - m\n",
    "    denominator = m**0.5\n",
    "    return numerator/denominator"
   ]
  },
  {
   "cell_type": "code",
   "execution_count": 178,
   "metadata": {},
   "outputs": [
    {
     "data": {
      "text/plain": [
       "8.004237537980536"
      ]
     },
     "execution_count": 178,
     "metadata": {},
     "output_type": "execute_result"
    }
   ],
   "source": [
    "df= giga20_ppmi\n",
    "total = df.sum().sum()\n",
    "df.iloc[1,1].sum()"
   ]
  },
  {
   "cell_type": "code",
   "execution_count": 184,
   "metadata": {},
   "outputs": [],
   "source": [
    "def test_ttest_implementation(func):\n",
    "    \"\"\"`func` should be an implementation of t-test reweighting as \n",
    "    defined above.\n",
    "    \"\"\"\n",
    "    X = pd.DataFrame(np.array([\n",
    "        [  4.,   4.,   2.,   0.],\n",
    "        [  4.,  61.,   8.,  18.],\n",
    "        [  2.,   8.,  10.,   0.],\n",
    "        [  0.,  18.,   0.,   5.]]))    \n",
    "    actual = np.array([\n",
    "        [ 0.33056, -0.07689,  0.04321, -0.10532],\n",
    "        [-0.07689,  0.03839, -0.10874,  0.07574],\n",
    "        [ 0.04321, -0.10874,  0.36111, -0.14894],\n",
    "        [-0.10532,  0.07574, -0.14894,  0.05767]])    \n",
    "    predicted = func(X)\n",
    "    assert np.array_equal(predicted.round(5), actual)"
   ]
  },
  {
   "cell_type": "code",
   "execution_count": 124,
   "metadata": {},
   "outputs": [
    {
     "data": {
      "text/plain": [
       "145.0"
      ]
     },
     "execution_count": 124,
     "metadata": {},
     "output_type": "execute_result"
    }
   ],
   "source": [
    "X = pd.DataFrame(np.array([\n",
    "        [  4.,   4.,   2.,   0.],\n",
    "        [  4.,  61.,   8.,  18.],\n",
    "        [  2.,   8.,  10.,   0.],\n",
    "        [  0.,  18.,   0.,   5.]])) \n",
    "4/145\n"
   ]
  },
  {
   "cell_type": "code",
   "execution_count": 185,
   "metadata": {},
   "outputs": [],
   "source": [
    "test_ttest_implementation(ttest_copy)"
   ]
  },
  {
   "cell_type": "markdown",
   "metadata": {},
   "source": [
    "### Enriching a VSM with subword information [2 points]\n",
    "\n",
    "It might be useful to combine character-level information with word-level information. To help you begin asssessing this idea, this question asks you to write a function that modifies an existing VSM so that the representation for each word $w$ is the element-wise sum of $w$'s original word-level representation with all the representations for the n-grams $w$ contains. \n",
    "\n",
    "The following starter code should help you structure this and clarify the requirements, and a simple test is included below as well.\n",
    "\n",
    "You don't need to write a lot of code; the motivation for this question is that the function you write could have practical value."
   ]
  },
  {
   "cell_type": "code",
   "execution_count": 201,
   "metadata": {},
   "outputs": [],
   "source": [
    "def subword_enrichment(df, n=4):\n",
    "    \n",
    "    # 1. Use `vsm.ngram_vsm` to create a character-level \n",
    "    # VSM from `df`, using the above parameter `n` to \n",
    "    # set the size of the ngrams.\n",
    "    \n",
    "    ##### YOUR CODE HERE\n",
    "    ngram_vsm = vsm.ngram_vsm(df,n = n)\n",
    "    print(ngram_vsm.shape)\n",
    "\n",
    "\n",
    "        \n",
    "    # 2. Use `vsm.character_level_rep` to get the representation\n",
    "    # for every word in `df` according to the character-level\n",
    "    # VSM you created above.\n",
    "    \n",
    "    ##### YOUR CODE HERE\n",
    "    char_ngram_vsm_list = list()\n",
    "    for word in df.index:\n",
    "        char_ngram_vsm = vsm.character_level_rep(word,ngram_vsm,n=n)\n",
    "        char_ngram_vsm_list.append(char_ngram_vsm)\n",
    "    char_ngram_vsm_df = pd.DataFrame(char_ngram_vsm_list, index = df.index, columns = df.columns)\n",
    "    print(char_ngram_vsm_df.head())\n",
    "    print(char_ngram_vsm_df.shape)\n",
    "\n",
    "\n",
    "    \n",
    "    # 3. For each representation created at step 2, add in its\n",
    "    # original representation from `df`. (This should use\n",
    "    # element-wise addition; the dimensionality of the vectors\n",
    "    # will be unchanged.)\n",
    "                            \n",
    "    ##### YOUR CODE HERE\n",
    "    char_added_vsm = df.add(char_ngram_vsm_df)\n",
    "    print(df.head())\n",
    "    print(char_added_vsm.head())\n",
    "    print(char_added_vsm.shape)\n",
    "\n",
    "\n",
    "    \n",
    "    # 4. Return a `pd.DataFrame` with the same index and column\n",
    "    # values as `df`, but filled with the new representations\n",
    "    # created at step 3.\n",
    "                            \n",
    "    ##### YOUR CODE HERE\n",
    "    result = pd.DataFrame(char_added_vsm, index = df.index, columns = df.columns)\n",
    "    print(result)\n",
    "    return result\n",
    "\n"
   ]
  },
  {
   "cell_type": "code",
   "execution_count": 158,
   "metadata": {},
   "outputs": [
    {
     "name": "stdout",
     "output_type": "stream",
     "text": [
      "(12, 4)\n"
     ]
    },
    {
     "data": {
      "text/html": [
       "<div>\n",
       "<style scoped>\n",
       "    .dataframe tbody tr th:only-of-type {\n",
       "        vertical-align: middle;\n",
       "    }\n",
       "\n",
       "    .dataframe tbody tr th {\n",
       "        vertical-align: top;\n",
       "    }\n",
       "\n",
       "    .dataframe thead th {\n",
       "        text-align: right;\n",
       "    }\n",
       "</style>\n",
       "<table border=\"1\" class=\"dataframe\">\n",
       "  <thead>\n",
       "    <tr style=\"text-align: right;\">\n",
       "      <th></th>\n",
       "      <th>0</th>\n",
       "      <th>1</th>\n",
       "      <th>2</th>\n",
       "      <th>3</th>\n",
       "    </tr>\n",
       "  </thead>\n",
       "  <tbody>\n",
       "    <tr>\n",
       "      <td>&lt;w&gt;A</td>\n",
       "      <td>1</td>\n",
       "      <td>1</td>\n",
       "      <td>2</td>\n",
       "      <td>1</td>\n",
       "    </tr>\n",
       "    <tr>\n",
       "      <td>AB</td>\n",
       "      <td>2</td>\n",
       "      <td>1</td>\n",
       "      <td>3</td>\n",
       "      <td>1</td>\n",
       "    </tr>\n",
       "    <tr>\n",
       "      <td>BC</td>\n",
       "      <td>5</td>\n",
       "      <td>5</td>\n",
       "      <td>4</td>\n",
       "      <td>5</td>\n",
       "    </tr>\n",
       "    <tr>\n",
       "      <td>CD</td>\n",
       "      <td>4</td>\n",
       "      <td>5</td>\n",
       "      <td>5</td>\n",
       "      <td>5</td>\n",
       "    </tr>\n",
       "    <tr>\n",
       "      <td>D&lt;/w&gt;</td>\n",
       "      <td>1</td>\n",
       "      <td>1</td>\n",
       "      <td>2</td>\n",
       "      <td>1</td>\n",
       "    </tr>\n",
       "    <tr>\n",
       "      <td>&lt;w&gt;B</td>\n",
       "      <td>3</td>\n",
       "      <td>4</td>\n",
       "      <td>2</td>\n",
       "      <td>4</td>\n",
       "    </tr>\n",
       "    <tr>\n",
       "      <td>DA</td>\n",
       "      <td>4</td>\n",
       "      <td>4</td>\n",
       "      <td>3</td>\n",
       "      <td>4</td>\n",
       "    </tr>\n",
       "    <tr>\n",
       "      <td>A&lt;/w&gt;</td>\n",
       "      <td>3</td>\n",
       "      <td>4</td>\n",
       "      <td>2</td>\n",
       "      <td>4</td>\n",
       "    </tr>\n",
       "    <tr>\n",
       "      <td>&lt;w&gt;C</td>\n",
       "      <td>0</td>\n",
       "      <td>0</td>\n",
       "      <td>1</td>\n",
       "      <td>0</td>\n",
       "    </tr>\n",
       "    <tr>\n",
       "      <td>B&lt;/w&gt;</td>\n",
       "      <td>0</td>\n",
       "      <td>0</td>\n",
       "      <td>1</td>\n",
       "      <td>0</td>\n",
       "    </tr>\n",
       "    <tr>\n",
       "      <td>&lt;w&gt;D</td>\n",
       "      <td>1</td>\n",
       "      <td>0</td>\n",
       "      <td>0</td>\n",
       "      <td>0</td>\n",
       "    </tr>\n",
       "    <tr>\n",
       "      <td>C&lt;/w&gt;</td>\n",
       "      <td>1</td>\n",
       "      <td>0</td>\n",
       "      <td>0</td>\n",
       "      <td>0</td>\n",
       "    </tr>\n",
       "  </tbody>\n",
       "</table>\n",
       "</div>"
      ],
      "text/plain": [
       "       0  1  2  3\n",
       "<w>A   1  1  2  1\n",
       "AB     2  1  3  1\n",
       "BC     5  5  4  5\n",
       "CD     4  5  5  5\n",
       "D</w>  1  1  2  1\n",
       "<w>B   3  4  2  4\n",
       "DA     4  4  3  4\n",
       "A</w>  3  4  2  4\n",
       "<w>C   0  0  1  0\n",
       "B</w>  0  0  1  0\n",
       "<w>D   1  0  0  0\n",
       "C</w>  1  0  0  0"
      ]
     },
     "execution_count": 158,
     "metadata": {},
     "output_type": "execute_result"
    }
   ],
   "source": [
    "vocab = [\"ABCD\", \"BCDA\", \"CDAB\", \"DABC\"]\n",
    "df = pd.DataFrame([\n",
    "        [1, 1, 2, 1],\n",
    "        [3, 4, 2, 4],\n",
    "        [0, 0, 1, 0],\n",
    "        [1, 0, 0, 0]], index=vocab)\n",
    "df\n",
    "ngram_vsm = vsm.ngram_vsm(df,n = 2)\n",
    "print(ngram_vsm.shape)\n",
    "ngram_vsm"
   ]
  },
  {
   "cell_type": "code",
   "execution_count": 161,
   "metadata": {},
   "outputs": [
    {
     "name": "stdout",
     "output_type": "stream",
     "text": [
      "ABCD\n",
      "[13 13 16 13]\n",
      "BCDA\n",
      "[19 22 16 22]\n",
      "CDAB\n",
      "[10 10 13 10]\n",
      "DABC\n",
      "[13 10 10 10]\n",
      "(4, 4)\n"
     ]
    },
    {
     "data": {
      "text/html": [
       "<div>\n",
       "<style scoped>\n",
       "    .dataframe tbody tr th:only-of-type {\n",
       "        vertical-align: middle;\n",
       "    }\n",
       "\n",
       "    .dataframe tbody tr th {\n",
       "        vertical-align: top;\n",
       "    }\n",
       "\n",
       "    .dataframe thead th {\n",
       "        text-align: right;\n",
       "    }\n",
       "</style>\n",
       "<table border=\"1\" class=\"dataframe\">\n",
       "  <thead>\n",
       "    <tr style=\"text-align: right;\">\n",
       "      <th></th>\n",
       "      <th>0</th>\n",
       "      <th>1</th>\n",
       "      <th>2</th>\n",
       "      <th>3</th>\n",
       "    </tr>\n",
       "  </thead>\n",
       "  <tbody>\n",
       "    <tr>\n",
       "      <td>ABCD</td>\n",
       "      <td>13</td>\n",
       "      <td>13</td>\n",
       "      <td>16</td>\n",
       "      <td>13</td>\n",
       "    </tr>\n",
       "    <tr>\n",
       "      <td>BCDA</td>\n",
       "      <td>19</td>\n",
       "      <td>22</td>\n",
       "      <td>16</td>\n",
       "      <td>22</td>\n",
       "    </tr>\n",
       "    <tr>\n",
       "      <td>CDAB</td>\n",
       "      <td>10</td>\n",
       "      <td>10</td>\n",
       "      <td>13</td>\n",
       "      <td>10</td>\n",
       "    </tr>\n",
       "    <tr>\n",
       "      <td>DABC</td>\n",
       "      <td>13</td>\n",
       "      <td>10</td>\n",
       "      <td>10</td>\n",
       "      <td>10</td>\n",
       "    </tr>\n",
       "  </tbody>\n",
       "</table>\n",
       "</div>"
      ],
      "text/plain": [
       "       0   1   2   3\n",
       "ABCD  13  13  16  13\n",
       "BCDA  19  22  16  22\n",
       "CDAB  10  10  13  10\n",
       "DABC  13  10  10  10"
      ]
     },
     "execution_count": 161,
     "metadata": {},
     "output_type": "execute_result"
    }
   ],
   "source": [
    "char_ngram_vsm_list = list()\n",
    "for word in df.index:\n",
    "    print(word)\n",
    "    char_ngram_vsm = vsm.character_level_rep(word,ngram_vsm,n=2)\n",
    "    print(char_ngram_vsm)\n",
    "    char_ngram_vsm_list.append(char_ngram_vsm)\n",
    "char_ngram_vsm_df = pd.DataFrame(char_ngram_vsm_list, index = df.index)\n",
    "print(char_ngram_vsm_df.shape)\n",
    "char_ngram_vsm_df"
   ]
  },
  {
   "cell_type": "code",
   "execution_count": 202,
   "metadata": {},
   "outputs": [],
   "source": [
    "def test_subword_enrichment(func):\n",
    "    \"\"\"`func` should be an implementation of subword_enrichment as \n",
    "    defined above.\n",
    "    \"\"\"\n",
    "    vocab = [\"ABCD\", \"BCDA\", \"CDAB\", \"DABC\"]\n",
    "    df = pd.DataFrame([\n",
    "        [1, 1, 2, 1],\n",
    "        [3, 4, 2, 4],\n",
    "        [0, 0, 1, 0],\n",
    "        [1, 0, 0, 0]], index=vocab)\n",
    "    expected = pd.DataFrame([\n",
    "        [14, 14, 18, 14],\n",
    "        [22, 26, 18, 26],\n",
    "        [10, 10, 14, 10],\n",
    "        [14, 10, 10, 10]], index=vocab)\n",
    "    new_df = func(df, n=2)\n",
    "    assert np.array_equal(expected.columns, new_df.columns), \\\n",
    "        \"Columns are not the same\"\n",
    "    assert np.array_equal(expected.index, new_df.index), \\\n",
    "        \"Indices are not the same\"\n",
    "    assert np.array_equal(expected.values, new_df.values), \\\n",
    "        \"Co-occurrence values aren't the same\"    "
   ]
  },
  {
   "cell_type": "code",
   "execution_count": 203,
   "metadata": {},
   "outputs": [
    {
     "name": "stdout",
     "output_type": "stream",
     "text": [
      "(12, 4)\n",
      "       0   1   2   3\n",
      "ABCD  13  13  16  13\n",
      "BCDA  19  22  16  22\n",
      "CDAB  10  10  13  10\n",
      "DABC  13  10  10  10\n",
      "(4, 4)\n",
      "      0  1  2  3\n",
      "ABCD  1  1  2  1\n",
      "BCDA  3  4  2  4\n",
      "CDAB  0  0  1  0\n",
      "DABC  1  0  0  0\n",
      "       0   1   2   3\n",
      "ABCD  14  14  18  14\n",
      "BCDA  22  26  18  26\n",
      "CDAB  10  10  14  10\n",
      "DABC  14  10  10  10\n",
      "(4, 4)\n",
      "       0   1   2   3\n",
      "ABCD  14  14  18  14\n",
      "BCDA  22  26  18  26\n",
      "CDAB  10  10  14  10\n",
      "DABC  14  10  10  10\n"
     ]
    }
   ],
   "source": [
    "test_subword_enrichment(subword_enrichment)"
   ]
  },
  {
   "cell_type": "markdown",
   "metadata": {},
   "source": [
    "### Your original system [3 points]\n",
    "\n",
    "This question asks you to design your own model. You can of course include steps made above (ideally, the above questions informed your system design!), but your model should not be literally identical to any of the above models. Other ideas: retrofitting, autoencoders, GloVe, subword modeling, ... \n",
    "\n",
    "Requirements:\n",
    "\n",
    "1. Your code must operate on one of the count matrices in `data/vsmdata`. You can choose which one. __Other pretrained vectors cannot be introduced__.\n",
    "\n",
    "1. Your code must be self-contained, so that we can work with your model directly in your homework submission notebook. If your model depends on external data or other resources, please submit a ZIP archive containing these resources along with your submission.\n",
    "\n",
    "In the cell below, please provide a brief technical description of your original system, so that the teaching team can gain an understanding of what it does. This will help us to understand your code and analyze all the submissions to identify patterns and strategies."
   ]
  },
  {
   "cell_type": "code",
   "execution_count": 206,
   "metadata": {},
   "outputs": [],
   "source": [
    "giga20 = pd.read_csv(os.path.join(VSM_HOME,'imdb_window5-scaled.csv.gz'),index_col=0)"
   ]
  },
  {
   "cell_type": "code",
   "execution_count": 207,
   "metadata": {},
   "outputs": [
    {
     "name": "stdout",
     "output_type": "stream",
     "text": [
      "(5000, 5000)\n"
     ]
    }
   ],
   "source": [
    "giga20_ppmi = vsm.pmi(giga20, positive = True)\n",
    "print(giga20_ppmi.shape)"
   ]
  },
  {
   "cell_type": "code",
   "execution_count": 208,
   "metadata": {},
   "outputs": [
    {
     "name": "stdout",
     "output_type": "stream",
     "text": [
      "(5000, 5000)\n"
     ]
    }
   ],
   "source": [
    "giga20_ppmi_ttest = ttest_copy(giga20_ppmi)\n",
    "print(giga20_ppmi_ttest.shape)"
   ]
  },
  {
   "cell_type": "code",
   "execution_count": 209,
   "metadata": {},
   "outputs": [
    {
     "data": {
      "text/plain": [
       "wordsim353         0.611893\n",
       "mturk771           0.612429\n",
       "simverb3500dev     0.314469\n",
       "simverb3500test    0.294851\n",
       "men                0.715850\n",
       "Macro-average      0.509898\n",
       "Name: Spearman r, dtype: float64"
      ]
     },
     "execution_count": 209,
     "metadata": {},
     "output_type": "execute_result"
    }
   ],
   "source": [
    "full_word_similarity_evaluation(giga20_ppmi_ttest)"
   ]
  },
  {
   "cell_type": "code",
   "execution_count": 210,
   "metadata": {},
   "outputs": [
    {
     "name": "stdout",
     "output_type": "stream",
     "text": [
      "(5000, 100)\n"
     ]
    }
   ],
   "source": [
    "giga20_ppmi_lsa = vsm.lsa(giga20_ppmi)\n",
    "print(giga20_ppmi_lsa.shape)"
   ]
  },
  {
   "cell_type": "code",
   "execution_count": 211,
   "metadata": {},
   "outputs": [
    {
     "data": {
      "text/plain": [
       "wordsim353         0.595286\n",
       "mturk771           0.610496\n",
       "simverb3500dev     0.309234\n",
       "simverb3500test    0.267947\n",
       "men                0.718442\n",
       "Macro-average      0.500281\n",
       "Name: Spearman r, dtype: float64"
      ]
     },
     "execution_count": 211,
     "metadata": {},
     "output_type": "execute_result"
    }
   ],
   "source": [
    "full_word_similarity_evaluation(giga20_ppmi_lsa)"
   ]
  },
  {
   "cell_type": "code",
   "execution_count": 218,
   "metadata": {},
   "outputs": [
    {
     "name": "stdout",
     "output_type": "stream",
     "text": [
      "(5000, 5000)\n"
     ]
    }
   ],
   "source": [
    "giga20_ppmi_ttest_lsa = vsm.lsa(giga20_ppmi_ttest, k = 5000)\n",
    "print(giga20_ppmi_ttest_lsa.shape)"
   ]
  },
  {
   "cell_type": "code",
   "execution_count": 219,
   "metadata": {},
   "outputs": [
    {
     "data": {
      "text/plain": [
       "wordsim353         0.611893\n",
       "mturk771           0.612429\n",
       "simverb3500dev     0.314469\n",
       "simverb3500test    0.294851\n",
       "men                0.715850\n",
       "Macro-average      0.509898\n",
       "Name: Spearman r, dtype: float64"
      ]
     },
     "execution_count": 219,
     "metadata": {},
     "output_type": "execute_result"
    }
   ],
   "source": [
    "full_word_similarity_evaluation(giga20_ppmi_ttest_lsa)"
   ]
  },
  {
   "cell_type": "code",
   "execution_count": 214,
   "metadata": {},
   "outputs": [
    {
     "name": "stdout",
     "output_type": "stream",
     "text": [
      "(9806, 5000)\n",
      "            !        );         .        ..       ...        :)         ?  \\\n",
      "!    0.000000  0.000000  0.000000  0.000000  0.000000  0.000000  0.000000   \n",
      ");   0.001206  0.011694 -0.000054 -0.000136 -0.000114 -0.000177  0.000632   \n",
      ".    0.000000  0.000000  0.000000  0.000000  0.000000  0.000000  0.000000   \n",
      "..   0.000750 -0.000136 -0.000023  0.047750  0.004050  0.008741  0.000824   \n",
      "...  0.000378 -0.000228 -0.000039  0.008100  0.097394  0.013257  0.001668   \n",
      "\n",
      "     abandoned   abdomen    abduct  ...     zebra      zero      zinc  \\\n",
      "!     0.000000  0.000000  0.000000  ...  0.000000  0.000000  0.000000   \n",
      ");   -0.000336 -0.000256  0.000926  ...  0.002096 -0.000244 -0.000180   \n",
      ".     0.000000  0.000000  0.000000  ...  0.000000  0.000000  0.000000   \n",
      "..   -0.000147 -0.000112 -0.000134  ... -0.000115 -0.000107 -0.000079   \n",
      "...  -0.000247  0.001523 -0.000225  ... -0.000192 -0.000179  0.014310   \n",
      "\n",
      "       zombie   zombies      zone       zoo                           ´  \n",
      "!    0.000000  0.000000  0.000000  0.000000  0.000000  0.000000  0.000000  \n",
      ");  -0.000206 -0.000249 -0.000236  0.000051 -0.000153 -0.000267 -0.000159  \n",
      ".    0.000000  0.000000  0.000000  0.000000  0.000000  0.000000  0.000000  \n",
      "..  -0.000090 -0.000109 -0.000103 -0.000125 -0.000083 -0.000117 -0.000069  \n",
      "... -0.000151 -0.000183 -0.000173 -0.000210 -0.000139 -0.000196 -0.000117  \n",
      "\n",
      "[5 rows x 5000 columns]\n",
      "(5000, 5000)\n",
      "            !        );         .        ..       ...        :)         ?  \\\n",
      "!    0.036899  0.001206 -0.000021  0.000750  0.000189  0.010158  0.005437   \n",
      ");   0.001206  0.011694 -0.000054 -0.000136 -0.000114 -0.000177  0.000632   \n",
      ".   -0.000021 -0.000054  0.070886 -0.000023 -0.000020 -0.000031 -0.000023   \n",
      "..   0.000750 -0.000136 -0.000023  0.047750  0.004050  0.008741  0.000824   \n",
      "...  0.000189 -0.000114 -0.000020  0.004050  0.048697  0.006628  0.000834   \n",
      "\n",
      "     abandoned   abdomen    abduct  ...     zebra      zero      zinc  \\\n",
      "!    -0.000133 -0.000101 -0.000121  ... -0.000104 -0.000096 -0.000071   \n",
      ");   -0.000336 -0.000256  0.000926  ...  0.002096 -0.000244 -0.000180   \n",
      ".    -0.000058 -0.000044 -0.000053  ... -0.000045 -0.000042 -0.000031   \n",
      "..   -0.000147 -0.000112 -0.000134  ... -0.000115 -0.000107 -0.000079   \n",
      "...  -0.000123  0.000762 -0.000113  ... -0.000096 -0.000089  0.007155   \n",
      "\n",
      "       zombie   zombies      zone       zoo                           ´  \n",
      "!   -0.000082 -0.000098 -0.000093 -0.000113 -0.000075 -0.000106 -0.000063  \n",
      ");  -0.000206 -0.000249 -0.000236  0.000051 -0.000153 -0.000267 -0.000159  \n",
      ".   -0.000036 -0.000043 -0.000041 -0.000049 -0.000033 -0.000046 -0.000027  \n",
      "..  -0.000090 -0.000109 -0.000103 -0.000125 -0.000083 -0.000117 -0.000069  \n",
      "... -0.000076 -0.000091 -0.000087 -0.000105 -0.000070 -0.000098 -0.000058  \n",
      "\n",
      "[5 rows x 5000 columns]\n",
      "            !        );         .        ..       ...        :)         ?  \\\n",
      "!    0.036899  0.001206 -0.000021  0.000750  0.000189  0.010158  0.005437   \n",
      ");   0.002413  0.023388 -0.000107 -0.000272 -0.000228 -0.000355  0.001265   \n",
      ".   -0.000021 -0.000054  0.070886 -0.000023 -0.000020 -0.000031 -0.000023   \n",
      "..   0.001500 -0.000272 -0.000047  0.095501  0.008100  0.017481  0.001648   \n",
      "...  0.000567 -0.000342 -0.000059  0.012150  0.146091  0.019885  0.002502   \n",
      "\n",
      "     abandoned   abdomen    abduct  ...     zebra      zero      zinc  \\\n",
      "!    -0.000133 -0.000101 -0.000121  ... -0.000104 -0.000096 -0.000071   \n",
      ");   -0.000672 -0.000512  0.001852  ...  0.004191 -0.000487 -0.000361   \n",
      ".    -0.000058 -0.000044 -0.000053  ... -0.000045 -0.000042 -0.000031   \n",
      "..   -0.000294 -0.000224 -0.000268  ... -0.000229 -0.000213 -0.000158   \n",
      "...  -0.000370  0.002285 -0.000338  ... -0.000289 -0.000268  0.021465   \n",
      "\n",
      "       zombie   zombies      zone       zoo                           ´  \n",
      "!   -0.000082 -0.000098 -0.000093 -0.000113 -0.000075 -0.000106 -0.000063  \n",
      ");  -0.000413 -0.000498 -0.000472  0.000102 -0.000306 -0.000535 -0.000318  \n",
      ".   -0.000036 -0.000043 -0.000041 -0.000049 -0.000033 -0.000046 -0.000027  \n",
      "..  -0.000181 -0.000218 -0.000206 -0.000251 -0.000166 -0.000234 -0.000139  \n",
      "... -0.000227 -0.000274 -0.000260 -0.000315 -0.000209 -0.000294 -0.000175  \n",
      "\n",
      "[5 rows x 5000 columns]\n",
      "(5000, 5000)\n",
      "             !        );         .        ..       ...        :)         ?  \\\n",
      "!     0.036899  0.001206 -0.000021  0.000750  0.000189  0.010158  0.005437   \n",
      ");    0.002413  0.023388 -0.000107 -0.000272 -0.000228 -0.000355  0.001265   \n",
      ".    -0.000021 -0.000054  0.070886 -0.000023 -0.000020 -0.000031 -0.000023   \n",
      "..    0.001500 -0.000272 -0.000047  0.095501  0.008100  0.017481  0.001648   \n",
      "...   0.000567 -0.000342 -0.000059  0.012150  0.146091  0.019885  0.002502   \n",
      "...        ...       ...       ...       ...       ...       ...       ...   \n",
      "zone -0.001688 -0.001909 -0.000739  0.001808 -0.001568 -0.002442  0.001259   \n",
      "zoo  -0.000339  0.000152 -0.000148 -0.000376 -0.000315 -0.000491 -0.000362   \n",
      "    -0.000075 -0.000153 -0.000033 -0.000083 -0.000070 -0.000108 -0.000080   \n",
      "    -0.000106 -0.000267 -0.000046 -0.000117 -0.000098 -0.000153 -0.000113   \n",
      "´    -0.000063 -0.000159 -0.000027 -0.000069 -0.000058 -0.000091 -0.000067   \n",
      "\n",
      "      abandoned   abdomen    abduct  ...     zebra      zero      zinc  \\\n",
      "!     -0.000133 -0.000101 -0.000121  ... -0.000104 -0.000096 -0.000071   \n",
      ");    -0.000672 -0.000512  0.001852  ...  0.004191 -0.000487 -0.000361   \n",
      ".     -0.000058 -0.000044 -0.000053  ... -0.000045 -0.000042 -0.000031   \n",
      "..    -0.000294 -0.000224 -0.000268  ... -0.000229 -0.000213 -0.000158   \n",
      "...   -0.000370  0.002285 -0.000338  ... -0.000289 -0.000268  0.021465   \n",
      "...         ...       ...       ...  ...       ...       ...       ...   \n",
      "zone   0.000476 -0.003064 -0.002933  ... -0.002388 -0.000067 -0.002484   \n",
      "zoo    0.008981 -0.000709 -0.000848  ...  0.029107 -0.000674 -0.000499   \n",
      "     -0.000205  0.001466 -0.000187  ...  0.003223  0.000528 -0.000110   \n",
      "     -0.000289 -0.000220 -0.000264  ... -0.000226 -0.000210 -0.000155   \n",
      "´     -0.000172 -0.000131 -0.000157  ... -0.000134 -0.000125 -0.000092   \n",
      "\n",
      "        zombie   zombies      zone       zoo                           ´  \n",
      "!    -0.000082 -0.000098 -0.000093 -0.000113 -0.000075 -0.000106 -0.000063  \n",
      ");   -0.000413 -0.000498 -0.000472  0.000102 -0.000306 -0.000535 -0.000318  \n",
      ".    -0.000036 -0.000043 -0.000041 -0.000049 -0.000033 -0.000046 -0.000027  \n",
      "..   -0.000181 -0.000218 -0.000206 -0.000251 -0.000166 -0.000234 -0.000139  \n",
      "...  -0.000227 -0.000274 -0.000260 -0.000315 -0.000209 -0.000294 -0.000175  \n",
      "...        ...       ...       ...       ...       ...       ...       ...  \n",
      "zone -0.002840 -0.003429  0.086285 -0.003346  0.000729  0.001461 -0.001847  \n",
      "zoo  -0.000571 -0.000689 -0.000653  0.052217  0.001786  0.000497 -0.000439  \n",
      "    -0.000126 -0.000152 -0.000144  0.000595  0.025667 -0.000163 -0.000097  \n",
      "    -0.000178 -0.000116 -0.000203  0.000166 -0.000163  0.015636 -0.000137  \n",
      "´    -0.000106 -0.000127 -0.000121 -0.000146 -0.000097 -0.000137  0.045699  \n",
      "\n",
      "[5000 rows x 5000 columns]\n"
     ]
    }
   ],
   "source": [
    "giga20_ppmi_ttest_sw = subword_enrichment(giga20_ppmi_ttest)"
   ]
  },
  {
   "cell_type": "code",
   "execution_count": 215,
   "metadata": {},
   "outputs": [
    {
     "data": {
      "text/plain": [
       "wordsim353         0.359822\n",
       "mturk771           0.377396\n",
       "simverb3500dev     0.203707\n",
       "simverb3500test    0.198137\n",
       "men                0.562994\n",
       "Macro-average      0.340411\n",
       "Name: Spearman r, dtype: float64"
      ]
     },
     "execution_count": 215,
     "metadata": {},
     "output_type": "execute_result"
    }
   ],
   "source": [
    "full_word_similarity_evaluation(giga20_ppmi_ttest_sw)"
   ]
  },
  {
   "cell_type": "markdown",
   "metadata": {},
   "source": [
    "## Retrofitting Code"
   ]
  },
  {
   "cell_type": "code",
   "execution_count": 220,
   "metadata": {},
   "outputs": [],
   "source": [
    "from nltk.corpus import wordnet as wn\n",
    "import retrofitting\n",
    "from retrofitting import Retrofitter\n",
    "import utils\n",
    "\n",
    "def get_wordnet_edges():\n",
    "    edges = defaultdict(set)\n",
    "    for ss in wn.all_synsets():\n",
    "        lem_names = {lem.name() for lem in ss.lemmas()}\n",
    "        for lem in lem_names:\n",
    "            edges[lem] |= lem_names\n",
    "    return edges"
   ]
  },
  {
   "cell_type": "code",
   "execution_count": 221,
   "metadata": {},
   "outputs": [],
   "source": [
    "wn_edges = get_wordnet_edges()"
   ]
  },
  {
   "cell_type": "code",
   "execution_count": 222,
   "metadata": {},
   "outputs": [],
   "source": [
    "def convert_edges_to_indices(edges, Q):\n",
    "    lookup = dict(zip(Q.index, range(Q.shape[0])))\n",
    "    index_edges = defaultdict(set)\n",
    "    for start, finish_nodes in edges.items():\n",
    "        s = lookup.get(start)\n",
    "        if s:\n",
    "            f = {lookup[n] for n in finish_nodes if n in lookup}\n",
    "            if f:\n",
    "                index_edges[s] = f\n",
    "    return index_edges"
   ]
  },
  {
   "cell_type": "code",
   "execution_count": 223,
   "metadata": {},
   "outputs": [],
   "source": [
    "wn_index_edges = convert_edges_to_indices(wn_edges, giga20_ppmi_ttest)"
   ]
  },
  {
   "cell_type": "code",
   "execution_count": 224,
   "metadata": {},
   "outputs": [],
   "source": [
    "wn_retro = Retrofitter(verbose=True)"
   ]
  },
  {
   "cell_type": "code",
   "execution_count": 229,
   "metadata": {},
   "outputs": [
    {
     "name": "stderr",
     "output_type": "stream",
     "text": [
      "Converged at iteration 3; change was 0.0041 "
     ]
    }
   ],
   "source": [
    "giga20_ppmi_ttest_retro = wn_retro.fit(giga20_ppmi_ttest, wn_index_edges)"
   ]
  },
  {
   "cell_type": "code",
   "execution_count": 230,
   "metadata": {},
   "outputs": [
    {
     "name": "stdout",
     "output_type": "stream",
     "text": [
      "(5000, 5000)\n"
     ]
    }
   ],
   "source": [
    "print(giga20_ppmi_ttest_retro.shape)"
   ]
  },
  {
   "cell_type": "code",
   "execution_count": 231,
   "metadata": {},
   "outputs": [
    {
     "data": {
      "text/plain": [
       "wordsim353         0.637356\n",
       "mturk771           0.602645\n",
       "simverb3500dev     0.436724\n",
       "simverb3500test    0.415666\n",
       "men                0.728670\n",
       "Macro-average      0.564212\n",
       "Name: Spearman r, dtype: float64"
      ]
     },
     "execution_count": 231,
     "metadata": {},
     "output_type": "execute_result"
    }
   ],
   "source": [
    "full_word_similarity_evaluation(giga20_ppmi_ttest_retro)"
   ]
  },
  {
   "cell_type": "code",
   "execution_count": 239,
   "metadata": {},
   "outputs": [],
   "source": [
    "giga20_ppmi_ttest_retro_l2 = giga20_ppmi_ttest_retro.apply(vsm.length_norm, axis = 1)"
   ]
  },
  {
   "cell_type": "code",
   "execution_count": 240,
   "metadata": {},
   "outputs": [
    {
     "name": "stderr",
     "output_type": "stream",
     "text": [
      "Finished epoch 100 of 100; error is 6.64147300994955e-058"
     ]
    }
   ],
   "source": [
    "from torch_autoencoder import TorchAutoencoder\n",
    "giga20_ppmi_ttest_retro_ae = TorchAutoencoder(\n",
    "    max_iter=100, hidden_dim=1000, eta=0.001).fit(giga20_ppmi_ttest_retro_l2)"
   ]
  },
  {
   "cell_type": "code",
   "execution_count": 241,
   "metadata": {},
   "outputs": [
    {
     "name": "stdout",
     "output_type": "stream",
     "text": [
      "(5000, 1000)\n"
     ]
    }
   ],
   "source": [
    "print(giga20_ppmi_ttest_retro_ae.shape)"
   ]
  },
  {
   "cell_type": "code",
   "execution_count": 242,
   "metadata": {},
   "outputs": [
    {
     "data": {
      "text/plain": [
       "wordsim353         0.657067\n",
       "mturk771           0.614720\n",
       "simverb3500dev     0.444566\n",
       "simverb3500test    0.420734\n",
       "men                0.741615\n",
       "Macro-average      0.575740\n",
       "Name: Spearman r, dtype: float64"
      ]
     },
     "execution_count": 242,
     "metadata": {},
     "output_type": "execute_result"
    }
   ],
   "source": [
    "full_word_similarity_evaluation(giga20_ppmi_ttest_retro_ae)"
   ]
  },
  {
   "cell_type": "code",
   "execution_count": 247,
   "metadata": {},
   "outputs": [],
   "source": [
    "def custom_df(df):\n",
    "    df_ppmi = vsm.pmi(df, positive = True)\n",
    "    df_ppmi_ttest = ttest_copy(df_ppmi)\n",
    "    wn_index_edges = convert_edges_to_indices(wn_edges, df_ppmi_ttest)\n",
    "    wn_retro = Retrofitter(verbose=True)\n",
    "    df_ppmi_ttest_retro = wn_retro.fit(df_ppmi_ttest, wn_index_edges)\n",
    "    df_ppmi_ttest_retro_l2 = df_ppmi_ttest_retro.apply(vsm.length_norm, axis = 1)\n",
    "    df_ppmi_ttest_retro_l2_ae = TorchAutoencoder(    max_iter=100, hidden_dim=1000, eta=0.001).fit(df_ppmi_ttest_retro_l2)\n",
    "    return df_ppmi_ttest_retro_l2_ae"
   ]
  },
  {
   "cell_type": "markdown",
   "metadata": {},
   "source": [
    "## Bake-off [1 point]\n",
    "\n",
    "For the bake-off, we will release two additional datasets. The announcement will go out on the discussion forum. We will also release reader code for these datasets that you can paste into this notebook. You will evaluate your custom model $M$ (from the previous question) on these new datasets using `full_word_similarity_evaluation`. Rules:\n",
    "\n",
    "1. Only one evaluation is permitted.\n",
    "1. No additional system tuning is permitted once the bake-off has started.\n",
    "\n",
    "The cells below this one constitute your bake-off entry.\n",
    "\n",
    "People who enter will receive the additional homework point, and people whose systems achieve the top score will receive an additional 0.5 points. We will test the top-performing systems ourselves, and only systems for which we can reproduce the reported results will win the extra 0.5 points.\n",
    "\n",
    "Late entries will be accepted, but they cannot earn the extra 0.5 points. Similarly, you cannot win the bake-off unless your homework is submitted on time.\n",
    "\n",
    "The announcement will include the details on where to submit your entry."
   ]
  },
  {
   "cell_type": "code",
   "execution_count": 245,
   "metadata": {},
   "outputs": [],
   "source": [
    "# Enter your bake-off assessment code into this cell. \n",
    "# Please do not remove this comment.\n",
    "\n",
    "def simlex999_reader():\n",
    "    src_filename = os.path.join(\n",
    "        WORDSIM_HOME, 'SimLex-999','SimLex-999', 'SimLex-999.txt')\n",
    "    return wordsim_dataset_reader(\n",
    "        src_filename,delimiter = '\\t', header=True, score_col_index=3)\n",
    "\n",
    "BAKEOFF = (mturk771_reader,simlex999_reader)"
   ]
  },
  {
   "cell_type": "code",
   "execution_count": 248,
   "metadata": {},
   "outputs": [
    {
     "name": "stderr",
     "output_type": "stream",
     "text": [
      "Finished epoch 100 of 100; error is 6.677960482193157e-05"
     ]
    },
    {
     "data": {
      "text/plain": [
       "mturk771         0.612349\n",
       "simlex999        0.465018\n",
       "Macro-average    0.538684\n",
       "Name: Spearman r, dtype: float64"
      ]
     },
     "execution_count": 248,
     "metadata": {},
     "output_type": "execute_result"
    }
   ],
   "source": [
    "df = pd.read_csv(os.path.join(VSM_HOME,'imdb_window5-scaled.csv.gz'),index_col=0)\n",
    "full_word_similarity_evaluation(custom_df(df), readers = BAKEOFF)"
   ]
  },
  {
   "cell_type": "code",
   "execution_count": null,
   "metadata": {},
   "outputs": [],
   "source": [
    "# On an otherwise blank line in this cell, please enter\n",
    "# your \"Macro-average\" value as reported by the code above. \n",
    "# Please enter only a number between 0 and 1 inclusive.\n",
    "# Please do not remove this comment.\n",
    "if 'IS_GRADESCOPE_ENV' not in os.environ:\n",
    "    # Please enter your score in the scope of the above conditional.\n",
    "    ##### YOUR CODE HERE\n",
    "\n",
    "\n"
   ]
  }
 ],
 "metadata": {
  "kernelspec": {
   "display_name": "Python 3",
   "language": "python",
   "name": "python3"
  },
  "language_info": {
   "codemirror_mode": {
    "name": "ipython",
    "version": 3
   },
   "file_extension": ".py",
   "mimetype": "text/x-python",
   "name": "python",
   "nbconvert_exporter": "python",
   "pygments_lexer": "ipython3",
   "version": "3.7.4"
  },
  "widgets": {
   "state": {},
   "version": "1.1.2"
  }
 },
 "nbformat": 4,
 "nbformat_minor": 2
}
