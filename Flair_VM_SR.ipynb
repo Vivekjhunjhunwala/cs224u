{
 "cells": [
  {
   "cell_type": "code",
   "execution_count": 1,
   "metadata": {},
   "outputs": [],
   "source": [
    "import flair"
   ]
  },
  {
   "cell_type": "code",
   "execution_count": 2,
   "metadata": {},
   "outputs": [
    {
     "data": {
      "text/html": [
       "<div>\n",
       "<style scoped>\n",
       "    .dataframe tbody tr th:only-of-type {\n",
       "        vertical-align: middle;\n",
       "    }\n",
       "\n",
       "    .dataframe tbody tr th {\n",
       "        vertical-align: top;\n",
       "    }\n",
       "\n",
       "    .dataframe thead th {\n",
       "        text-align: right;\n",
       "    }\n",
       "</style>\n",
       "<table border=\"1\" class=\"dataframe\">\n",
       "  <thead>\n",
       "    <tr style=\"text-align: right;\">\n",
       "      <th></th>\n",
       "      <th>label</th>\n",
       "      <th>text</th>\n",
       "    </tr>\n",
       "  </thead>\n",
       "  <tbody>\n",
       "    <tr>\n",
       "      <td>0</td>\n",
       "      <td>__label__smarthands</td>\n",
       "      <td>modify order request for no modify order detai...</td>\n",
       "    </tr>\n",
       "    <tr>\n",
       "      <td>1</td>\n",
       "      <td>__label__others</td>\n",
       "      <td>【監視停止依頼】東京ガス equinix cloud exchange（ ～ ） エクイニク...</td>\n",
       "    </tr>\n",
       "    <tr>\n",
       "      <td>2</td>\n",
       "      <td>__label__smarthands</td>\n",
       "      <td>modify order request for no modify order detai...</td>\n",
       "    </tr>\n",
       "    <tr>\n",
       "      <td>3</td>\n",
       "      <td>__label__others</td>\n",
       "      <td>ticketid 【跟进故���原因】腾讯建设专线 在 分左右中断 div div 专线 s...</td>\n",
       "    </tr>\n",
       "    <tr>\n",
       "      <td>4</td>\n",
       "      <td>__label__trouble</td>\n",
       "      <td>答复 em 咨询 根据你们提供的ip地址，该客户使用的地址段为 ，客户可用地址为 ，所以你们...</td>\n",
       "    </tr>\n",
       "  </tbody>\n",
       "</table>\n",
       "</div>"
      ],
      "text/plain": [
       "                 label                                               text\n",
       "0  __label__smarthands  modify order request for no modify order detai...\n",
       "1      __label__others  【監視停止依頼】東京ガス equinix cloud exchange（ ～ ） エクイニク...\n",
       "2  __label__smarthands  modify order request for no modify order detai...\n",
       "3      __label__others  ticketid 【跟进故���原因】腾讯建设专线 在 分左右中断 div div 专线 s...\n",
       "4     __label__trouble  答复 em 咨询 根据你们提供的ip地址，该客户使用的地址段为 ，客户可用地址为 ，所以你们..."
      ]
     },
     "execution_count": 2,
     "metadata": {},
     "output_type": "execute_result"
    }
   ],
   "source": [
    "import pandas as pd\n",
    "data = pd.read_csv(\"flair_train_new.csv\")#.sample(frac=1).drop_duplicates()\n",
    "data = data[['label', 'text']] #.rename(columns={\"v1\":\"label\", \"v2\":\"text\"})\n",
    "\n",
    "data['label'] = '__label__' + data['label'].astype(str)\n",
    "data['text'] = data['text'].astype(str)\n",
    "data.head()"
   ]
  },
  {
   "cell_type": "code",
   "execution_count": 18,
   "metadata": {},
   "outputs": [
    {
     "data": {
      "text/html": [
       "<div>\n",
       "<style scoped>\n",
       "    .dataframe tbody tr th:only-of-type {\n",
       "        vertical-align: middle;\n",
       "    }\n",
       "\n",
       "    .dataframe tbody tr th {\n",
       "        vertical-align: top;\n",
       "    }\n",
       "\n",
       "    .dataframe thead th {\n",
       "        text-align: right;\n",
       "    }\n",
       "</style>\n",
       "<table border=\"1\" class=\"dataframe\">\n",
       "  <thead>\n",
       "    <tr style=\"text-align: right;\">\n",
       "      <th></th>\n",
       "      <th>label</th>\n",
       "      <th>text</th>\n",
       "    </tr>\n",
       "  </thead>\n",
       "  <tbody>\n",
       "    <tr>\n",
       "      <td>0</td>\n",
       "      <td>__label__smarthands</td>\n",
       "      <td>der zutritt würde verweigert herr wälchli sand...</td>\n",
       "    </tr>\n",
       "    <tr>\n",
       "      <td>1</td>\n",
       "      <td>__label__zinstall_crossconnect</td>\n",
       "      <td>modify order request for no modify order detai...</td>\n",
       "    </tr>\n",
       "    <tr>\n",
       "      <td>2</td>\n",
       "      <td>__label__work_visit</td>\n",
       "      <td>modify order request for no modify order detai...</td>\n",
       "    </tr>\n",
       "    <tr>\n",
       "      <td>3</td>\n",
       "      <td>__label__others</td>\n",
       "      <td>re re urgente de revision de parcheos dos line...</td>\n",
       "    </tr>\n",
       "    <tr>\n",
       "      <td>4</td>\n",
       "      <td>__label__trouble</td>\n",
       "      <td>关于trouble ticket 烦请向客户sip申请以下内容： 我们收到nova的trou...</td>\n",
       "    </tr>\n",
       "  </tbody>\n",
       "</table>\n",
       "</div>"
      ],
      "text/plain": [
       "                            label  \\\n",
       "0             __label__smarthands   \n",
       "1  __label__zinstall_crossconnect   \n",
       "2             __label__work_visit   \n",
       "3                 __label__others   \n",
       "4                __label__trouble   \n",
       "\n",
       "                                                text  \n",
       "0  der zutritt würde verweigert herr wälchli sand...  \n",
       "1  modify order request for no modify order detai...  \n",
       "2  modify order request for no modify order detai...  \n",
       "3  re re urgente de revision de parcheos dos line...  \n",
       "4  关于trouble ticket 烦请向客户sip申请以下内容： 我们收到nova的trou...  "
      ]
     },
     "execution_count": 18,
     "metadata": {},
     "output_type": "execute_result"
    }
   ],
   "source": [
    "import pandas as pd\n",
    "data = pd.read_csv(\"flair_train.csv\") #.sample(frac=1).drop_duplicates()\n",
    "data = data[['label', 'text']] #.rename(columns={\"v1\":\"label\", \"v2\":\"text\"})\n",
    " \n",
    "data['label'] = '__label__' + data['label'].astype(str)\n",
    "data.iloc[0:int(len(data)*0.3)].to_csv('train.csv', sep='\\t', index = False, header = False)\n",
    "data.iloc[int(len(data)*0.3):int(len(data)*0.4)].to_csv('test.csv', sep='\\t', index = False, header = False)\n",
    "data.iloc[int(len(data)*0.4):int(len(data)*0.5)].to_csv('dev.csv', sep='\\t', index = False, header = False);\n",
    "data.head()"
   ]
  },
  {
   "cell_type": "code",
   "execution_count": 8,
   "metadata": {},
   "outputs": [],
   "source": [
    "data_train = pd.read_csv('train.csv',sep='\\t',header=None)"
   ]
  },
  {
   "cell_type": "code",
   "execution_count": 9,
   "metadata": {},
   "outputs": [
    {
     "data": {
      "text/plain": [
       "0    0\n",
       "1    0\n",
       "dtype: int64"
      ]
     },
     "execution_count": 9,
     "metadata": {},
     "output_type": "execute_result"
    }
   ],
   "source": [
    "data_train.isnull().sum()"
   ]
  },
  {
   "cell_type": "code",
   "execution_count": 3,
   "metadata": {},
   "outputs": [
    {
     "name": "stdout",
     "output_type": "stream",
     "text": [
      "9153\n"
     ]
    },
    {
     "data": {
      "text/plain": [
       "50064"
      ]
     },
     "execution_count": 3,
     "metadata": {},
     "output_type": "execute_result"
    }
   ],
   "source": [
    "label_dictionary = []\n",
    "len_label_dict = []\n",
    "text_dictionary = []\n",
    "len_text_dict = []\n",
    "for i in range(len(data)):\n",
    "    #if label==\"\" :\n",
    "    #    print('null')\n",
    "    label_dictionary.append(data.loc[i,'label'])\n",
    "    text_dictionary.append(data.loc[i,'text'])\n",
    "    len_label_dict.append(len(data.loc[i,'label']))\n",
    "    len_text_dict.append(len(data.loc[i,'text']))\n",
    "    if(len(data.loc[i,'text']) == 1):\n",
    "        print(i)\n",
    "len(label_dictionary)"
   ]
  },
  {
   "cell_type": "code",
   "execution_count": 4,
   "metadata": {},
   "outputs": [],
   "source": [
    "data = data.drop([data.index[9153]])"
   ]
  },
  {
   "cell_type": "code",
   "execution_count": 5,
   "metadata": {},
   "outputs": [],
   "source": [
    "data.iloc[0:int(len(data)*0.8)].to_csv('train.csv', sep='\\t', index = False, header = False)\n",
    "data.iloc[int(len(data)*0.8):int(len(data)*0.9)].to_csv('test.csv', sep='\\t', index = False, header = False)\n",
    "data.iloc[int(len(data)*0.9):].to_csv('dev.csv', sep='\\t', index = False, header = False);"
   ]
  },
  {
   "cell_type": "code",
   "execution_count": 42,
   "metadata": {},
   "outputs": [],
   "source": [
    "#pd.DataFrame({'labels':label_dictionary,'length':len_label_dict,'text':text_dictionary,'length_text':len_text_dict}).to_csv('lengths.csv')"
   ]
  },
  {
   "cell_type": "code",
   "execution_count": 6,
   "metadata": {},
   "outputs": [],
   "source": [
    "from flair.data_fetcher import NLPTaskDataFetcher\n",
    "from flair.embeddings import WordEmbeddings, FlairEmbeddings, DocumentLSTMEmbeddings, DocumentRNNEmbeddings\n",
    "from flair.models import TextClassifier\n",
    "from flair.trainers import ModelTrainer\n",
    "from pathlib import Path\n",
    "from flair.datasets import ClassificationCorpus\n",
    "from flair.data import Corpus"
   ]
  },
  {
   "cell_type": "code",
   "execution_count": 7,
   "metadata": {},
   "outputs": [
    {
     "name": "stdout",
     "output_type": "stream",
     "text": [
      "2019-11-05 08:11:07,896 Reading data from .\n",
      "2019-11-05 08:11:07,898 Train: train.csv\n",
      "2019-11-05 08:11:07,898 Dev: dev.csv\n",
      "2019-11-05 08:11:07,899 Test: test.csv\n"
     ]
    }
   ],
   "source": [
    "corpus: Corpus = ClassificationCorpus(Path('./'), test_file='test.csv', dev_file='dev.csv', train_file='train.csv')"
   ]
  },
  {
   "cell_type": "code",
   "execution_count": 8,
   "metadata": {},
   "outputs": [
    {
     "name": "stdout",
     "output_type": "stream",
     "text": [
      "2019-11-05 08:11:19,187 Computing label dictionary. Progress:\n"
     ]
    },
    {
     "name": "stderr",
     "output_type": "stream",
     "text": [
      "100%|██████████| 40050/40050 [02:12<00:00, 302.25it/s]"
     ]
    },
    {
     "name": "stdout",
     "output_type": "stream",
     "text": [
      "2019-11-05 08:13:32,111 [b'smarthands', b'others', b'trouble', b'zinstall_crossconnect', b'zinbound_shipment', b'work_visit']\n"
     ]
    },
    {
     "name": "stderr",
     "output_type": "stream",
     "text": [
      "\n"
     ]
    }
   ],
   "source": [
    "label_dict = corpus.make_label_dictionary()"
   ]
  },
  {
   "cell_type": "code",
   "execution_count": 14,
   "metadata": {},
   "outputs": [],
   "source": [
    "word_embeddings = [WordEmbeddings('glove')] #,\n",
    "                   #FlairEmbeddings('news-forward-fast')\n",
    "                   #FlairEmbeddings('news-backward-fast'),\n",
    "                   #FlairEmbeddings('multi-forward')\n",
    "                   #FlairEmbeddings('multi-backward')]"
   ]
  },
  {
   "cell_type": "code",
   "execution_count": 15,
   "metadata": {},
   "outputs": [],
   "source": [
    "document_embeddings = DocumentRNNEmbeddings(word_embeddings, hidden_size=512, reproject_words=True, reproject_words_dimension=256)"
   ]
  },
  {
   "cell_type": "code",
   "execution_count": 16,
   "metadata": {},
   "outputs": [],
   "source": [
    "classifier = TextClassifier(document_embeddings, label_dictionary=label_dict, multi_label=False)"
   ]
  },
  {
   "cell_type": "code",
   "execution_count": null,
   "metadata": {},
   "outputs": [],
   "source": [
    "#document_embeddings = document_embeddings.to(flair.device)"
   ]
  },
  {
   "cell_type": "code",
   "execution_count": 17,
   "metadata": {},
   "outputs": [],
   "source": [
    "trainer = ModelTrainer(classifier, corpus)"
   ]
  },
  {
   "cell_type": "code",
   "execution_count": 49,
   "metadata": {},
   "outputs": [
    {
     "name": "stdout",
     "output_type": "stream",
     "text": [
      "2019-11-01 10:17:41,893 ----------------------------------------------------------------------------------------------------\n",
      "2019-11-01 10:17:41,895 learning rate finder finished - plot learning_rate.tsv\n",
      "2019-11-01 10:17:41,896 ----------------------------------------------------------------------------------------------------\n"
     ]
    }
   ],
   "source": [
    "# 7. find learning rate\n",
    "learning_rate_tsv = trainer.find_learning_rate('./', 'learning_rate.tsv')"
   ]
  },
  {
   "cell_type": "code",
   "execution_count": 50,
   "metadata": {},
   "outputs": [
    {
     "data": {
      "text/plain": [
       "<flair.trainers.trainer.ModelTrainer at 0x7fcd6b0510f0>"
      ]
     },
     "execution_count": 50,
     "metadata": {},
     "output_type": "execute_result"
    }
   ],
   "source": [
    "trainer"
   ]
  },
  {
   "cell_type": "code",
   "execution_count": 51,
   "metadata": {},
   "outputs": [
    {
     "name": "stdout",
     "output_type": "stream",
     "text": [
      "Learning_rate plots are saved in learning_rate.png\n"
     ]
    },
    {
     "data": {
      "image/png": "[encoded data removed]",
      "text/plain": [
       "<Figure size 432x288 with 1 Axes>"
      ]
     },
     "metadata": {
      "needs_background": "light"
     },
     "output_type": "display_data"
    }
   ],
   "source": [
    "# 8. plot the learning rate finder curve\n",
    "from flair.visual.training_curves import Plotter\n",
    "plotter = Plotter()\n",
    "plotter.plot_learning_rate(learning_rate_tsv)"
   ]
  },
  {
   "cell_type": "code",
   "execution_count": 18,
   "metadata": {
    "scrolled": true
   },
   "outputs": [
    {
     "name": "stdout",
     "output_type": "stream",
     "text": [
      "2019-11-05 08:16:21,962 ----------------------------------------------------------------------------------------------------\n",
      "2019-11-05 08:16:21,963 Model: \"TextClassifier(\n",
      "  (document_embeddings): DocumentRNNEmbeddings(\n",
      "    (embeddings): StackedEmbeddings(\n",
      "      (list_embedding_0): WordEmbeddings('glove')\n",
      "    )\n",
      "    (word_reprojection_map): Linear(in_features=100, out_features=256, bias=True)\n",
      "    (rnn): GRU(256, 512)\n",
      "    (dropout): Dropout(p=0.5, inplace=False)\n",
      "  )\n",
      "  (decoder): Linear(in_features=512, out_features=6, bias=True)\n",
      "  (loss_function): CrossEntropyLoss()\n",
      ")\"\n",
      "2019-11-05 08:16:21,965 ----------------------------------------------------------------------------------------------------\n",
      "2019-11-05 08:16:21,966 Corpus: \"Corpus: 40050 train + 5007 dev + 5006 test sentences\"\n",
      "2019-11-05 08:16:21,966 ----------------------------------------------------------------------------------------------------\n",
      "2019-11-05 08:16:21,967 Parameters:\n",
      "2019-11-05 08:16:21,967  - learning_rate: \"0.1\"\n",
      "2019-11-05 08:16:21,968  - mini_batch_size: \"32\"\n",
      "2019-11-05 08:16:21,968  - patience: \"3\"\n",
      "2019-11-05 08:16:21,969  - anneal_factor: \"0.5\"\n",
      "2019-11-05 08:16:21,969  - max_epochs: \"5\"\n",
      "2019-11-05 08:16:21,970  - shuffle: \"True\"\n",
      "2019-11-05 08:16:21,970  - train_with_dev: \"False\"\n",
      "2019-11-05 08:16:21,970 ----------------------------------------------------------------------------------------------------\n",
      "2019-11-05 08:16:21,972 Model training base path: \".\"\n",
      "2019-11-05 08:16:21,972 ----------------------------------------------------------------------------------------------------\n",
      "2019-11-05 08:16:21,973 Device: cuda:0\n",
      "2019-11-05 08:16:21,973 ----------------------------------------------------------------------------------------------------\n",
      "2019-11-05 08:16:21,974 Embeddings storage mode: cpu\n",
      "2019-11-05 08:16:22,003 ----------------------------------------------------------------------------------------------------\n",
      "2019-11-05 08:16:25,102 epoch 1 - iter 0/1252 - loss 1.90929556 - samples/sec: 1531.42\n",
      "2019-11-05 08:18:19,911 epoch 1 - iter 125/1252 - loss 1.59905755 - samples/sec: 39.38\n",
      "2019-11-05 08:20:06,163 epoch 1 - iter 250/1252 - loss 1.56735170 - samples/sec: 42.86\n",
      "2019-11-05 08:21:57,286 epoch 1 - iter 375/1252 - loss 1.55023012 - samples/sec: 41.14\n",
      "2019-11-05 08:23:45,263 epoch 1 - iter 500/1252 - loss 1.53761617 - samples/sec: 41.73\n",
      "2019-11-05 08:25:31,134 epoch 1 - iter 625/1252 - loss 1.53061225 - samples/sec: 43.39\n",
      "2019-11-05 08:27:22,594 epoch 1 - iter 750/1252 - loss 1.52172067 - samples/sec: 40.98\n",
      "2019-11-05 08:29:10,100 epoch 1 - iter 875/1252 - loss 1.51839149 - samples/sec: 42.52\n",
      "2019-11-05 08:30:55,485 epoch 1 - iter 1000/1252 - loss 1.51402679 - samples/sec: 42.50\n",
      "2019-11-05 08:32:45,164 epoch 1 - iter 1125/1252 - loss 1.51113275 - samples/sec: 42.44\n",
      "2019-11-05 08:34:29,933 epoch 1 - iter 1250/1252 - loss 1.50745554 - samples/sec: 43.77\n",
      "2019-11-05 08:34:30,188 ----------------------------------------------------------------------------------------------------\n",
      "2019-11-05 08:34:30,190 EPOCH 1 done: loss 1.5073 - lr 0.1000\n",
      "2019-11-05 08:36:22,779 DEV : loss 1.4571950435638428 - score 0.4032\n",
      "2019-11-05 08:36:54,483 BAD EPOCHS (no improvement): 0\n"
     ]
    },
    {
     "name": "stderr",
     "output_type": "stream",
     "text": [
      "/home/vjhunjhunwala/.conda/envs/flair/lib/python3.6/site-packages/torch/serialization.py:292: UserWarning: Couldn't retrieve source code for container of type DocumentRNNEmbeddings. It won't be checked for correctness upon loading.\n",
      "  \"type \" + obj.__name__ + \". It won't be checked \"\n",
      "/home/vjhunjhunwala/.conda/envs/flair/lib/python3.6/site-packages/torch/serialization.py:292: UserWarning: Couldn't retrieve source code for container of type StackedEmbeddings. It won't be checked for correctness upon loading.\n",
      "  \"type \" + obj.__name__ + \". It won't be checked \"\n",
      "/home/vjhunjhunwala/.conda/envs/flair/lib/python3.6/site-packages/torch/serialization.py:292: UserWarning: Couldn't retrieve source code for container of type WordEmbeddings. It won't be checked for correctness upon loading.\n",
      "  \"type \" + obj.__name__ + \". It won't be checked \"\n",
      "/home/vjhunjhunwala/.conda/envs/flair/lib/python3.6/site-packages/torch/serialization.py:292: UserWarning: Couldn't retrieve source code for container of type Linear. It won't be checked for correctness upon loading.\n",
      "  \"type \" + obj.__name__ + \". It won't be checked \"\n",
      "/home/vjhunjhunwala/.conda/envs/flair/lib/python3.6/site-packages/torch/serialization.py:292: UserWarning: Couldn't retrieve source code for container of type GRU. It won't be checked for correctness upon loading.\n",
      "  \"type \" + obj.__name__ + \". It won't be checked \"\n",
      "/home/vjhunjhunwala/.conda/envs/flair/lib/python3.6/site-packages/torch/serialization.py:292: UserWarning: Couldn't retrieve source code for container of type Dropout. It won't be checked for correctness upon loading.\n",
      "  \"type \" + obj.__name__ + \". It won't be checked \"\n"
     ]
    },
    {
     "name": "stdout",
     "output_type": "stream",
     "text": [
      "2019-11-05 08:36:58,496 ----------------------------------------------------------------------------------------------------\n",
      "2019-11-05 08:37:00,437 epoch 2 - iter 0/1252 - loss 1.39673710 - samples/sec: 4505.96\n",
      "2019-11-05 08:38:43,060 epoch 2 - iter 125/1252 - loss 1.46641599 - samples/sec: 43.48\n",
      "2019-11-05 08:42:14,041 epoch 2 - iter 375/1252 - loss 1.46966350 - samples/sec: 43.41\n",
      "2019-11-05 08:43:54,590 epoch 2 - iter 500/1252 - loss 1.46669438 - samples/sec: 44.24\n",
      "2019-11-05 08:45:32,439 epoch 2 - iter 625/1252 - loss 1.46025094 - samples/sec: 45.41\n",
      "2019-11-05 08:47:05,939 epoch 2 - iter 750/1252 - loss 1.45736593 - samples/sec: 48.21\n",
      "2019-11-05 08:48:57,359 epoch 2 - iter 875/1252 - loss 1.45606962 - samples/sec: 40.42\n",
      "2019-11-05 08:50:38,681 epoch 2 - iter 1000/1252 - loss 1.45452316 - samples/sec: 44.20\n",
      "2019-11-05 08:52:16,176 epoch 2 - iter 1125/1252 - loss 1.45158331 - samples/sec: 46.50\n",
      "2019-11-05 08:53:56,513 epoch 2 - iter 1250/1252 - loss 1.45068653 - samples/sec: 45.47\n",
      "2019-11-05 08:53:57,434 ----------------------------------------------------------------------------------------------------\n",
      "2019-11-05 08:53:57,435 EPOCH 2 done: loss 1.4506 - lr 0.1000\n",
      "2019-11-05 08:55:44,662 DEV : loss 1.4118176698684692 - score 0.4242\n",
      "2019-11-05 08:56:15,707 BAD EPOCHS (no improvement): 0\n",
      "2019-11-05 08:56:20,098 ----------------------------------------------------------------------------------------------------\n",
      "2019-11-05 08:56:20,960 epoch 3 - iter 0/1252 - loss 1.37222326 - samples/sec: 8599.70\n",
      "2019-11-05 08:58:02,060 epoch 3 - iter 125/1252 - loss 1.44337801 - samples/sec: 44.58\n",
      "2019-11-05 08:59:36,051 epoch 3 - iter 250/1252 - loss 1.43262732 - samples/sec: 46.73\n",
      "2019-11-05 09:01:15,769 epoch 3 - iter 375/1252 - loss 1.43753288 - samples/sec: 45.04\n",
      "2019-11-05 09:02:57,882 epoch 3 - iter 500/1252 - loss 1.43526142 - samples/sec: 44.18\n",
      "2019-11-05 09:04:38,849 epoch 3 - iter 625/1252 - loss 1.43414256 - samples/sec: 45.00\n",
      "2019-11-05 09:06:20,545 epoch 3 - iter 750/1252 - loss 1.43459648 - samples/sec: 43.84\n",
      "2019-11-05 09:07:59,407 epoch 3 - iter 875/1252 - loss 1.43073161 - samples/sec: 46.31\n",
      "2019-11-05 09:09:40,591 epoch 3 - iter 1000/1252 - loss 1.42868867 - samples/sec: 44.89\n",
      "2019-11-05 09:11:43,582 epoch 3 - iter 1125/1252 - loss 1.42778587 - samples/sec: 36.96\n",
      "2019-11-05 09:13:41,421 epoch 3 - iter 1250/1252 - loss 1.42759231 - samples/sec: 37.91\n",
      "2019-11-05 09:13:42,053 ----------------------------------------------------------------------------------------------------\n",
      "2019-11-05 09:13:42,054 EPOCH 3 done: loss 1.4274 - lr 0.1000\n",
      "2019-11-05 09:15:28,662 DEV : loss 1.401625394821167 - score 0.4314\n",
      "2019-11-05 09:15:59,890 BAD EPOCHS (no improvement): 0\n",
      "2019-11-05 09:16:03,545 ----------------------------------------------------------------------------------------------------\n",
      "2019-11-05 09:16:04,617 epoch 4 - iter 0/1252 - loss 1.57911718 - samples/sec: 6079.96\n"
     ]
    },
    {
     "name": "stderr",
     "output_type": "stream",
     "text": [
      "Process Process-48:\n",
      "Process Process-46:\n"
     ]
    },
    {
     "name": "stdout",
     "output_type": "stream",
     "text": [
      "2019-11-05 10:26:49,979 ----------------------------------------------------------------------------------------------------\n"
     ]
    },
    {
     "name": "stderr",
     "output_type": "stream",
     "text": [
      "Process Process-50:\n"
     ]
    },
    {
     "name": "stdout",
     "output_type": "stream",
     "text": [
      "2019-11-05 10:26:49,980 Exiting from training early.\n"
     ]
    },
    {
     "name": "stderr",
     "output_type": "stream",
     "text": [
      "Process Process-49:\n"
     ]
    },
    {
     "name": "stdout",
     "output_type": "stream",
     "text": [
      "2019-11-05 10:26:49,981 Saving model ...\n"
     ]
    },
    {
     "name": "stderr",
     "output_type": "stream",
     "text": [
      "Process Process-47:\n",
      "Process Process-45:\n",
      "  File \"/home/vjhunjhunwala/.conda/envs/flair/lib/python3.6/multiprocessing/util.py\", line 322, in _exit_function\n",
      "    _run_finalizers()\n",
      "  File \"/home/vjhunjhunwala/.conda/envs/flair/lib/python3.6/multiprocessing/process.py\", line 261, in _bootstrap\n",
      "    util._exit_function()\n",
      "  File \"/home/vjhunjhunwala/.conda/envs/flair/lib/python3.6/multiprocessing/process.py\", line 261, in _bootstrap\n",
      "    util._exit_function()\n",
      "  File \"/home/vjhunjhunwala/.conda/envs/flair/lib/python3.6/multiprocessing/util.py\", line 322, in _exit_function\n",
      "    _run_finalizers()\n",
      "  File \"/home/vjhunjhunwala/.conda/envs/flair/lib/python3.6/multiprocessing/util.py\", line 322, in _exit_function\n",
      "    _run_finalizers()\n",
      "  File \"/home/vjhunjhunwala/.conda/envs/flair/lib/python3.6/multiprocessing/util.py\", line 322, in _exit_function\n",
      "    _run_finalizers()\n",
      "Traceback (most recent call last):\n",
      "Traceback (most recent call last):\n",
      "Traceback (most recent call last):\n",
      "Traceback (most recent call last):\n",
      "Traceback (most recent call last):\n",
      "Traceback (most recent call last):\n",
      "  File \"/home/vjhunjhunwala/.conda/envs/flair/lib/python3.6/multiprocessing/process.py\", line 261, in _bootstrap\n",
      "    util._exit_function()\n",
      "  File \"/home/vjhunjhunwala/.conda/envs/flair/lib/python3.6/multiprocessing/process.py\", line 261, in _bootstrap\n",
      "    util._exit_function()\n",
      "  File \"/home/vjhunjhunwala/.conda/envs/flair/lib/python3.6/multiprocessing/process.py\", line 261, in _bootstrap\n",
      "    util._exit_function()\n",
      "  File \"/home/vjhunjhunwala/.conda/envs/flair/lib/python3.6/multiprocessing/process.py\", line 261, in _bootstrap\n",
      "    util._exit_function()\n",
      "  File \"/home/vjhunjhunwala/.conda/envs/flair/lib/python3.6/multiprocessing/util.py\", line 262, in _run_finalizers\n",
      "    finalizer()\n",
      "  File \"/home/vjhunjhunwala/.conda/envs/flair/lib/python3.6/multiprocessing/util.py\", line 262, in _run_finalizers\n",
      "    finalizer()\n",
      "  File \"/home/vjhunjhunwala/.conda/envs/flair/lib/python3.6/multiprocessing/util.py\", line 322, in _exit_function\n",
      "    _run_finalizers()\n",
      "  File \"/home/vjhunjhunwala/.conda/envs/flair/lib/python3.6/multiprocessing/util.py\", line 322, in _exit_function\n",
      "    _run_finalizers()\n",
      "  File \"/home/vjhunjhunwala/.conda/envs/flair/lib/python3.6/multiprocessing/util.py\", line 262, in _run_finalizers\n",
      "    finalizer()\n",
      "  File \"/home/vjhunjhunwala/.conda/envs/flair/lib/python3.6/multiprocessing/util.py\", line 186, in __call__\n",
      "    res = self._callback(*self._args, **self._kwargs)\n",
      "  File \"/home/vjhunjhunwala/.conda/envs/flair/lib/python3.6/multiprocessing/util.py\", line 262, in _run_finalizers\n",
      "    finalizer()\n",
      "  File \"/home/vjhunjhunwala/.conda/envs/flair/lib/python3.6/multiprocessing/util.py\", line 262, in _run_finalizers\n",
      "    finalizer()\n",
      "  File \"/home/vjhunjhunwala/.conda/envs/flair/lib/python3.6/multiprocessing/util.py\", line 186, in __call__\n",
      "    res = self._callback(*self._args, **self._kwargs)\n",
      "KeyboardInterrupt\n",
      "  File \"/home/vjhunjhunwala/.conda/envs/flair/lib/python3.6/multiprocessing/util.py\", line 186, in __call__\n",
      "    res = self._callback(*self._args, **self._kwargs)\n",
      "  File \"/home/vjhunjhunwala/.conda/envs/flair/lib/python3.6/multiprocessing/util.py\", line 186, in __call__\n",
      "    res = self._callback(*self._args, **self._kwargs)\n",
      "  File \"/home/vjhunjhunwala/.conda/envs/flair/lib/python3.6/multiprocessing/util.py\", line 186, in __call__\n",
      "    res = self._callback(*self._args, **self._kwargs)\n",
      "  File \"/home/vjhunjhunwala/.conda/envs/flair/lib/python3.6/multiprocessing/queues.py\", line 191, in _finalize_join\n",
      "    thread.join()\n",
      "  File \"/home/vjhunjhunwala/.conda/envs/flair/lib/python3.6/multiprocessing/queues.py\", line 191, in _finalize_join\n",
      "    thread.join()\n",
      "  File \"/home/vjhunjhunwala/.conda/envs/flair/lib/python3.6/multiprocessing/queues.py\", line 191, in _finalize_join\n",
      "    thread.join()\n",
      "  File \"/home/vjhunjhunwala/.conda/envs/flair/lib/python3.6/multiprocessing/queues.py\", line 191, in _finalize_join\n",
      "    thread.join()\n",
      "  File \"/home/vjhunjhunwala/.conda/envs/flair/lib/python3.6/threading.py\", line 1056, in join\n",
      "    self._wait_for_tstate_lock()\n",
      "  File \"/home/vjhunjhunwala/.conda/envs/flair/lib/python3.6/threading.py\", line 1056, in join\n",
      "    self._wait_for_tstate_lock()\n",
      "  File \"/home/vjhunjhunwala/.conda/envs/flair/lib/python3.6/multiprocessing/queues.py\", line 191, in _finalize_join\n",
      "    thread.join()\n",
      "  File \"/home/vjhunjhunwala/.conda/envs/flair/lib/python3.6/threading.py\", line 1056, in join\n",
      "    self._wait_for_tstate_lock()\n",
      "  File \"/home/vjhunjhunwala/.conda/envs/flair/lib/python3.6/threading.py\", line 1072, in _wait_for_tstate_lock\n",
      "    elif lock.acquire(block, timeout):\n",
      "  File \"/home/vjhunjhunwala/.conda/envs/flair/lib/python3.6/threading.py\", line 1072, in _wait_for_tstate_lock\n",
      "    elif lock.acquire(block, timeout):\n",
      "  File \"/home/vjhunjhunwala/.conda/envs/flair/lib/python3.6/threading.py\", line 1056, in join\n",
      "    self._wait_for_tstate_lock()\n",
      "  File \"/home/vjhunjhunwala/.conda/envs/flair/lib/python3.6/threading.py\", line 1072, in _wait_for_tstate_lock\n",
      "    elif lock.acquire(block, timeout):\n",
      "KeyboardInterrupt\n",
      "KeyboardInterrupt\n",
      "KeyboardInterrupt\n",
      "  File \"/home/vjhunjhunwala/.conda/envs/flair/lib/python3.6/threading.py\", line 1072, in _wait_for_tstate_lock\n",
      "    elif lock.acquire(block, timeout):\n",
      "KeyboardInterrupt\n",
      "  File \"/home/vjhunjhunwala/.conda/envs/flair/lib/python3.6/multiprocessing/util.py\", line 262, in _run_finalizers\n",
      "    finalizer()\n",
      "  File \"/home/vjhunjhunwala/.conda/envs/flair/lib/python3.6/multiprocessing/util.py\", line 186, in __call__\n",
      "    res = self._callback(*self._args, **self._kwargs)\n",
      "  File \"/home/vjhunjhunwala/.conda/envs/flair/lib/python3.6/multiprocessing/queues.py\", line 191, in _finalize_join\n",
      "    thread.join()\n",
      "  File \"/home/vjhunjhunwala/.conda/envs/flair/lib/python3.6/threading.py\", line 1056, in join\n",
      "    self._wait_for_tstate_lock()\n",
      "  File \"/home/vjhunjhunwala/.conda/envs/flair/lib/python3.6/threading.py\", line 1072, in _wait_for_tstate_lock\n",
      "    elif lock.acquire(block, timeout):\n",
      "KeyboardInterrupt\n",
      "  File \"/home/vjhunjhunwala/.conda/envs/flair/lib/python3.6/threading.py\", line 1056, in join\n",
      "    self._wait_for_tstate_lock()\n",
      "  File \"/home/vjhunjhunwala/.conda/envs/flair/lib/python3.6/threading.py\", line 1072, in _wait_for_tstate_lock\n",
      "    elif lock.acquire(block, timeout):\n",
      "Exception ignored in: <bound method _MultiProcessingDataLoaderIter.__del__ of <torch.utils.data.dataloader._MultiProcessingDataLoaderIter object at 0x7f9b974a1080>>\n",
      "Traceback (most recent call last):\n",
      "  File \"/home/vjhunjhunwala/.conda/envs/flair/lib/python3.6/site-packages/torch/utils/data/dataloader.py\", line 926, in __del__\n",
      "    self._shutdown_workers()\n",
      "  File \"/home/vjhunjhunwala/.conda/envs/flair/lib/python3.6/site-packages/torch/utils/data/dataloader.py\", line 906, in _shutdown_workers\n",
      "    w.join()\n",
      "  File \"/home/vjhunjhunwala/.conda/envs/flair/lib/python3.6/multiprocessing/process.py\", line 124, in join\n",
      "    res = self._popen.wait(timeout)\n",
      "  File \"/home/vjhunjhunwala/.conda/envs/flair/lib/python3.6/multiprocessing/popen_fork.py\", line 50, in wait\n",
      "    return self.poll(os.WNOHANG if timeout == 0.0 else 0)\n",
      "  File \"/home/vjhunjhunwala/.conda/envs/flair/lib/python3.6/multiprocessing/popen_fork.py\", line 28, in poll\n",
      "    pid, sts = os.waitpid(self.pid, flag)\n",
      "KeyboardInterrupt: \n"
     ]
    },
    {
     "name": "stdout",
     "output_type": "stream",
     "text": [
      "2019-11-05 10:26:53,617 Done.\n",
      "2019-11-05 10:26:53,618 ----------------------------------------------------------------------------------------------------\n",
      "2019-11-05 10:26:53,619 Testing using best model ...\n",
      "2019-11-05 10:26:53,620 loading file best-model.pt\n",
      "2019-11-05 10:28:35,313 0.4277\t0.4277\t0.4277\n",
      "2019-11-05 10:28:35,315 \n",
      "MICRO_AVG: acc 0.272 - f1-score 0.4277\n",
      "MACRO_AVG: acc 0.1815 - f1-score 0.28404999999999997\n",
      "others     tp: 1142 - fp: 1398 - fn: 721 - tn: 1745 - precision: 0.4496 - recall: 0.6130 - accuracy: 0.3502 - f1-score: 0.5187\n",
      "smarthands tp: 494 - fp: 727 - fn: 776 - tn: 3009 - precision: 0.4046 - recall: 0.3890 - accuracy: 0.2474 - f1-score: 0.3966\n",
      "trouble    tp: 349 - fp: 659 - fn: 447 - tn: 3551 - precision: 0.3462 - recall: 0.4384 - accuracy: 0.2399 - f1-score: 0.3869\n",
      "work_visit tp: 156 - fp: 79 - fn: 385 - tn: 4386 - precision: 0.6638 - recall: 0.2884 - accuracy: 0.2516 - f1-score: 0.4021\n",
      "zinbound_shipment tp: 0 - fp: 1 - fn: 155 - tn: 4850 - precision: 0.0000 - recall: 0.0000 - accuracy: 0.0000 - f1-score: 0.0000\n",
      "zinstall_crossconnect tp: 0 - fp: 1 - fn: 381 - tn: 4624 - precision: 0.0000 - recall: 0.0000 - accuracy: 0.0000 - f1-score: 0.0000\n",
      "2019-11-05 10:28:35,316 ----------------------------------------------------------------------------------------------------\n"
     ]
    },
    {
     "data": {
      "text/plain": [
       "{'test_score': 0.4277,\n",
       " 'dev_score_history': [0.4032, 0.4242, 0.4314],\n",
       " 'train_loss_history': [1.5073360807408158,\n",
       "  1.4506072847607037,\n",
       "  1.4274235529640613],\n",
       " 'dev_loss_history': [tensor(1.4572, device='cuda:0'),\n",
       "  tensor(1.4118, device='cuda:0'),\n",
       "  tensor(1.4016, device='cuda:0')]}"
      ]
     },
     "execution_count": 18,
     "metadata": {},
     "output_type": "execute_result"
    }
   ],
   "source": [
    "trainer.train('./', max_epochs=5, mini_batch_size = 32)# , embeddings_storage_mode= \"none\")"
   ]
  },
  {
   "cell_type": "code",
   "execution_count": 52,
   "metadata": {},
   "outputs": [
    {
     "name": "stdout",
     "output_type": "stream",
     "text": [
      "2019-11-01 10:34:43,352 loading file ./best-model.pt\n",
      "[trouble (0.4692027270793915)]\n"
     ]
    }
   ],
   "source": [
    "import flair\n",
    "from flair.data import Sentence, Token\n",
    "\n",
    "classifier = TextClassifier.load('./best-model.pt')\n",
    "sentence = Sentence('This is a smart hand request')\n",
    "classifier.predict(sentence)\n",
    "print(sentence.labels)"
   ]
  },
  {
   "cell_type": "code",
   "execution_count": 10,
   "metadata": {},
   "outputs": [
    {
     "name": "stdout",
     "output_type": "stream",
     "text": [
      "True\n"
     ]
    }
   ],
   "source": [
    "import torch\n",
    "print(torch.cuda.is_available())"
   ]
  },
  {
   "cell_type": "code",
   "execution_count": 27,
   "metadata": {},
   "outputs": [
    {
     "name": "stdout",
     "output_type": "stream",
     "text": [
      "Weights plots are saved in weights.png\n"
     ]
    },
    {
     "data": {
      "image/png": "[encoded data removed]",
      "text/plain": [
       "<Figure size 576x288 with 8 Axes>"
      ]
     },
     "metadata": {},
     "output_type": "display_data"
    }
   ],
   "source": [
    "from flair.visual.training_curves import Plotter\n",
    "plotter = Plotter()\n",
    "plotter.plot_weights('weights.txt')"
   ]
  },
  {
   "cell_type": "code",
   "execution_count": null,
   "metadata": {},
   "outputs": [],
   "source": []
  }
 ],
 "metadata": {
  "kernelspec": {
   "display_name": "Python 3",
   "language": "python",
   "name": "python3"
  },
  "language_info": {
   "codemirror_mode": {
    "name": "ipython",
    "version": 3
   },
   "file_extension": ".py",
   "mimetype": "text/x-python",
   "name": "python",
   "nbconvert_exporter": "python",
   "pygments_lexer": "ipython3",
   "version": "3.7.4"
  }
 },
 "nbformat": 4,
 "nbformat_minor": 2
}
