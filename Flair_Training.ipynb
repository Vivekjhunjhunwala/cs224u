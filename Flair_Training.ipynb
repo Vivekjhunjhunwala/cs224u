{
 "cells": [
  {
   "cell_type": "code",
   "execution_count": null,
   "metadata": {},
   "outputs": [],
   "source": [
    "from flair.embeddings import WordEmbeddings, FlairEmbeddings, DocumentRNNEmbeddings, BytePairEmbeddings\n",
    "from flair.models import TextClassifier\n",
    "from flair.trainers import ModelTrainer\n",
    "from flair.datasets import ClassificationCorpus\n",
    "from flair.data import Corpus\n",
    "from hyperopt import hp\n",
    "from flair.hyperparameter.param_selection import SearchSpace, Parameter\n",
    "\n",
    "data_dir = \"/depot/training/flair/data_sep2019/\"\n",
    "corpus: Corpus = ClassificationCorpus(data_dir, test_file='test.csv', dev_file='dev.csv',\n",
    "                                      train_file='train.csv')\n",
    "\n",
    "label_dict = corpus.make_label_dictionary()\n",
    "word_embeddings = [FlairEmbeddings('multi-forward'), FlairEmbeddings('multi-backward'), BytePairEmbeddings('multi')]\n",
    "document_embeddings = DocumentRNNEmbeddings(word_embeddings, hidden_size=512, reproject_words=True,\n",
    "                                            reproject_words_dimension=256)\n",
    "classifier = TextClassifier(document_embeddings, label_dictionary=label_dict,\n",
    "                            multi_label=False)  # , multi_label_threshold=0.5)\n",
    "trainer = ModelTrainer(classifier, corpus)\n",
    "\n",
    "trainer.train(data_dir,\n",
    "              learning_rate=0.2,\n",
    "              mini_batch_size=32,\n",
    "              anneal_factor=0.5,\n",
    "              patience=3,\n",
    "              max_epochs=20, embeddings_storage_mode='gpu')"
   ]
  }
 ],
 "metadata": {
  "kernelspec": {
   "display_name": "Python 3",
   "language": "python",
   "name": "python3"
  },
  "language_info": {
   "codemirror_mode": {
    "name": "ipython",
    "version": 3
   },
   "file_extension": ".py",
   "mimetype": "text/x-python",
   "name": "python",
   "nbconvert_exporter": "python",
   "pygments_lexer": "ipython3",
   "version": "3.7.4"
  }
 },
 "nbformat": 4,
 "nbformat_minor": 2
}
