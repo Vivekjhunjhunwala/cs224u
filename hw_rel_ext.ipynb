{
 "cells": [
  {
   "cell_type": "markdown",
   "metadata": {},
   "source": [
    "# Homework and bake-off: Relation extraction using distant supervision"
   ]
  },
  {
   "cell_type": "code",
   "execution_count": null,
   "metadata": {},
   "outputs": [],
   "source": [
    "__author__ = \"Bill MacCartney and Christopher Potts\"\n",
    "__version__ = \"CS224u, Stanford, Spring 2020\""
   ]
  },
  {
   "cell_type": "markdown",
   "metadata": {},
   "source": [
    "## Contents\n",
    "\n",
    "1. [Overview](#Overview)\n",
    "1. [Set-up](#Set-up)\n",
    "1. [Baselines](#Baselines)\n",
    "  1. [Hand-build feature functions](#Hand-build-feature-functions)\n",
    "  1. [Distributed representations](#Distributed-representations)\n",
    "1. [Homework questions](#Homework-questions)\n",
    "  1. [Different model factory [1 points]](#Different-model-factory-[1-points])\n",
    "  1. [Directional unigram features [1.5 points]](#Directional-unigram-features-[1.5-points])\n",
    "  1. [The part-of-speech tags of the \"middle\" words [1.5 points]](#The-part-of-speech-tags-of-the-\"middle\"-words-[1.5-points])\n",
    "  1. [Bag of Synsets [2 points]](#Bag-of-Synsets-[2-points])\n",
    "  1. [Your original system [3 points]](#Your-original-system-[3-points])\n",
    "1. [Bake-off [1 point]](#Bake-off-[1-point])"
   ]
  },
  {
   "cell_type": "markdown",
   "metadata": {},
   "source": [
    "## Overview\n",
    "\n",
    "This homework and associated bake-off are devoted to the developing really effective relation extraction systems using distant supervision. \n",
    "\n",
    "As with the previous assignments, this notebook first establishes a baseline system. The initial homework questions ask you to create additional baselines and suggest areas for innovation, and the final homework question asks you to develop an original system for you to enter into the bake-off."
   ]
  },
  {
   "cell_type": "markdown",
   "metadata": {},
   "source": [
    "## Set-up\n",
    "\n",
    "See [the first notebook in this unit](rel_ext_01_task.ipynb#Set-up) for set-up instructions."
   ]
  },
  {
   "cell_type": "code",
   "execution_count": 1,
   "metadata": {},
   "outputs": [],
   "source": [
    "import numpy as np\n",
    "import os\n",
    "import rel_ext\n",
    "from sklearn.linear_model import LogisticRegression\n",
    "import utils"
   ]
  },
  {
   "cell_type": "markdown",
   "metadata": {},
   "source": [
    "As usual, we unite our corpus and KB into a dataset, and create some splits for experimentation:"
   ]
  },
  {
   "cell_type": "code",
   "execution_count": 2,
   "metadata": {},
   "outputs": [],
   "source": [
    "rel_ext_data_home = os.path.join('data', 'rel_ext_data')"
   ]
  },
  {
   "cell_type": "code",
   "execution_count": 3,
   "metadata": {},
   "outputs": [],
   "source": [
    "corpus = rel_ext.Corpus(os.path.join(rel_ext_data_home, 'corpus.tsv.gz'))"
   ]
  },
  {
   "cell_type": "code",
   "execution_count": 78,
   "metadata": {},
   "outputs": [
    {
     "data": {
      "text/plain": [
       "[]"
      ]
     },
     "execution_count": 78,
     "metadata": {},
     "output_type": "execute_result"
    }
   ],
   "source": [
    "corpus.get_examples_for_entities('Randall_Munroe','xkcd')"
   ]
  },
  {
   "cell_type": "code",
   "execution_count": 4,
   "metadata": {},
   "outputs": [],
   "source": [
    "kb = rel_ext.KB(os.path.join(rel_ext_data_home, 'kb.tsv.gz'))"
   ]
  },
  {
   "cell_type": "code",
   "execution_count": 5,
   "metadata": {},
   "outputs": [],
   "source": [
    "dataset = rel_ext.Dataset(corpus, kb)"
   ]
  },
  {
   "cell_type": "markdown",
   "metadata": {},
   "source": [
    "You are not wedded to this set-up for splits. The bake-off will be conducted on a previously unseen test-set, so all of the data in `dataset` is fair game:"
   ]
  },
  {
   "cell_type": "code",
   "execution_count": 6,
   "metadata": {},
   "outputs": [],
   "source": [
    "splits = dataset.build_splits(\n",
    "    split_names=['tiny', 'train', 'dev'],\n",
    "    split_fracs=[0.01, 0.79, 0.20],\n",
    "    seed=1)"
   ]
  },
  {
   "cell_type": "code",
   "execution_count": 7,
   "metadata": {},
   "outputs": [
    {
     "data": {
      "text/plain": [
       "{'tiny': Corpus with 3,474 examples; KB with 445 triples,\n",
       " 'train': Corpus with 263,285 examples; KB with 36,191 triples,\n",
       " 'dev': Corpus with 64,937 examples; KB with 9,248 triples,\n",
       " 'all': Corpus with 331,696 examples; KB with 45,884 triples}"
      ]
     },
     "execution_count": 7,
     "metadata": {},
     "output_type": "execute_result"
    }
   ],
   "source": [
    "splits"
   ]
  },
  {
   "cell_type": "markdown",
   "metadata": {},
   "source": [
    "## Baselines"
   ]
  },
  {
   "cell_type": "markdown",
   "metadata": {},
   "source": [
    "### Hand-build feature functions"
   ]
  },
  {
   "cell_type": "code",
   "execution_count": 170,
   "metadata": {},
   "outputs": [],
   "source": [
    "def simple_bag_of_words_featurizer(kbt, corpus, feature_counter):\n",
    "    for ex in corpus.get_examples_for_entities(kbt.sbj, kbt.obj):\n",
    "        #print(kbt.sbj,kbt.obj,kbt.rel,ex)\n",
    "        for word in ex.middle.split(' '):\n",
    "            feature_counter[word] += 1\n",
    "    for ex in corpus.get_examples_for_entities(kbt.obj, kbt.sbj):\n",
    "        for word in ex.middle.split(' '):\n",
    "            feature_counter[word] += 1\n",
    "    return feature_counter"
   ]
  },
  {
   "cell_type": "code",
   "execution_count": 171,
   "metadata": {},
   "outputs": [],
   "source": [
    "featurizers = [simple_bag_of_words_featurizer]"
   ]
  },
  {
   "cell_type": "code",
   "execution_count": 172,
   "metadata": {},
   "outputs": [],
   "source": [
    "model_factory = lambda: LogisticRegression(fit_intercept=True, solver='liblinear')"
   ]
  },
  {
   "cell_type": "code",
   "execution_count": 173,
   "metadata": {
    "collapsed": true
   },
   "outputs": [
    {
     "name": "stdout",
     "output_type": "stream",
     "text": [
      "relation              precision     recall    f-score    support       size\n",
      "------------------    ---------  ---------  ---------  ---------  ---------\n",
      "adjoins                   0.853      0.391      0.690        340       5716\n",
      "author                    0.765      0.544      0.708        509       5885\n",
      "capital                   0.529      0.189      0.390         95       5471\n",
      "contains                  0.791      0.601      0.744       3904       9280\n",
      "film_performance          0.797      0.564      0.736        766       6142\n",
      "founders                  0.740      0.397      0.631        380       5756\n",
      "genre                     0.510      0.147      0.342        170       5546\n",
      "has_sibling               0.857      0.253      0.580        499       5875\n",
      "has_spouse                0.866      0.327      0.651        594       5970\n",
      "is_a                      0.693      0.227      0.492        497       5873\n",
      "nationality               0.533      0.163      0.366        301       5677\n",
      "parents                   0.868      0.526      0.768        312       5688\n",
      "place_of_birth            0.644      0.202      0.448        233       5609\n",
      "place_of_death            0.421      0.101      0.257        159       5535\n",
      "profession                0.603      0.190      0.420        247       5623\n",
      "worked_at                 0.670      0.252      0.503        242       5618\n",
      "------------------    ---------  ---------  ---------  ---------  ---------\n",
      "macro-average             0.696      0.317      0.545       9248      95264\n"
     ]
    }
   ],
   "source": [
    "baseline_results = rel_ext.experiment(\n",
    "    splits,\n",
    "    train_split='train',\n",
    "    test_split='dev',\n",
    "    featurizers=featurizers,\n",
    "    model_factory=model_factory,\n",
    "    verbose=True)"
   ]
  },
  {
   "cell_type": "code",
   "execution_count": 56,
   "metadata": {},
   "outputs": [
    {
     "data": {
      "text/plain": [
       "29654"
      ]
     },
     "execution_count": 56,
     "metadata": {},
     "output_type": "execute_result"
    }
   ],
   "source": [
    "len(baseline_results['vectorizer'].get_feature_names())"
   ]
  },
  {
   "cell_type": "markdown",
   "metadata": {},
   "source": [
    "Studying model weights might yield insights:"
   ]
  },
  {
   "cell_type": "code",
   "execution_count": 39,
   "metadata": {
    "collapsed": true
   },
   "outputs": [
    {
     "name": "stdout",
     "output_type": "stream",
     "text": [
      "Highest and lowest feature weights for relation adjoins:\n",
      "\n",
      "     2.537 Córdoba\n",
      "     2.452 Valais\n",
      "     2.421 Taluks\n",
      "     ..... .....\n",
      "    -1.113 his\n",
      "    -1.156 had\n",
      "    -2.264 Earth\n",
      "\n",
      "Highest and lowest feature weights for relation author:\n",
      "\n",
      "     3.251 author\n",
      "     2.911 book\n",
      "     2.800 books\n",
      "     ..... .....\n",
      "    -1.998 chapter\n",
      "    -2.068 or\n",
      "    -2.889 Booker\n",
      "\n",
      "Highest and lowest feature weights for relation capital:\n",
      "\n",
      "     3.269 capital\n",
      "     1.849 posted\n",
      "     1.684 km\n",
      "     ..... .....\n",
      "    -1.513 Westminster\n",
      "    -1.558 includes\n",
      "    -1.679 borough\n",
      "\n",
      "Highest and lowest feature weights for relation contains:\n",
      "\n",
      "     2.580 bordered\n",
      "     2.162 southwestern\n",
      "     2.146 third-largest\n",
      "     ..... .....\n",
      "    -2.542 film\n",
      "    -3.076 Midlands\n",
      "    -3.891 Ceylon\n",
      "\n",
      "Highest and lowest feature weights for relation film_performance:\n",
      "\n",
      "     3.991 starring\n",
      "     3.967 alongside\n",
      "     3.810 co-starring\n",
      "     ..... .....\n",
      "    -2.004 She\n",
      "    -2.047 spy\n",
      "    -2.097 then\n",
      "\n",
      "Highest and lowest feature weights for relation founders:\n",
      "\n",
      "     4.254 founder\n",
      "     3.822 founded\n",
      "     3.782 co-founder\n",
      "     ..... .....\n",
      "    -1.383 eventually\n",
      "    -1.820 top\n",
      "    -1.841 band\n",
      "\n",
      "Highest and lowest feature weights for relation genre:\n",
      "\n",
      "     2.676 series\n",
      "     2.478 movie\n",
      "     2.428 album\n",
      "     ..... .....\n",
      "    -1.467 ;\n",
      "    -2.076 at\n",
      "    -2.202 follows\n",
      "\n",
      "Highest and lowest feature weights for relation has_sibling:\n",
      "\n",
      "     5.261 brother\n",
      "     4.136 sister\n",
      "     2.851 nephew\n",
      "     ..... .....\n",
      "    -1.376 bass\n",
      "    -1.409 James\n",
      "    -1.586 President\n",
      "\n",
      "Highest and lowest feature weights for relation has_spouse:\n",
      "\n",
      "     5.236 wife\n",
      "     4.576 husband\n",
      "     4.357 widow\n",
      "     ..... .....\n",
      "    -1.480 owner\n",
      "    -1.901 Straus\n",
      "    -1.901 Isidor\n",
      "\n",
      "Highest and lowest feature weights for relation is_a:\n",
      "\n",
      "     2.889 \n",
      "     2.582 genus\n",
      "     2.519 Genus\n",
      "     ..... .....\n",
      "    -1.550 nightshade\n",
      "    -1.658 at\n",
      "    -5.789 characin\n",
      "\n",
      "Highest and lowest feature weights for relation nationality:\n",
      "\n",
      "     2.518 born\n",
      "     1.913 Pinky\n",
      "     1.909 ruler\n",
      "     ..... .....\n",
      "    -1.405 and\n",
      "    -1.706 American\n",
      "    -1.954 1961\n",
      "\n",
      "Highest and lowest feature weights for relation parents:\n",
      "\n",
      "     5.165 son\n",
      "     4.999 daughter\n",
      "     4.400 father\n",
      "     ..... .....\n",
      "    -1.620 played\n",
      "    -1.997 geologist\n",
      "    -2.328 Gamal\n",
      "\n",
      "Highest and lowest feature weights for relation place_of_birth:\n",
      "\n",
      "     3.732 born\n",
      "     2.948 birthplace\n",
      "     2.923 mayor\n",
      "     ..... .....\n",
      "    -1.344 or\n",
      "    -1.495 and\n",
      "    -1.613 Westminster\n",
      "\n",
      "Highest and lowest feature weights for relation place_of_death:\n",
      "\n",
      "     2.395 died\n",
      "     1.879 under\n",
      "     1.820 rebuilt\n",
      "     ..... .....\n",
      "    -1.099 ”\n",
      "    -1.288 and\n",
      "    -1.987 Westminster\n",
      "\n",
      "Highest and lowest feature weights for relation profession:\n",
      "\n",
      "     3.405 \n",
      "     2.555 American\n",
      "     2.539 philosopher\n",
      "     ..... .....\n",
      "    -1.277 in\n",
      "    -1.290 at\n",
      "    -1.991 on\n",
      "\n",
      "Highest and lowest feature weights for relation worked_at:\n",
      "\n",
      "     3.332 professor\n",
      "     2.999 founder\n",
      "     2.950 CEO\n",
      "     ..... .....\n",
      "    -1.204 ”\n",
      "    -1.435 1961\n",
      "    -1.650 or\n",
      "\n"
     ]
    }
   ],
   "source": [
    "rel_ext.examine_model_weights(baseline_results)"
   ]
  },
  {
   "cell_type": "markdown",
   "metadata": {},
   "source": [
    "### Distributed representations\n",
    "\n",
    "This simple baseline sums the GloVe vector representations for all of the words in the \"middle\" span and feeds those representations into the standard `LogisticRegression`-based `model_factory`. The crucial parameter that enables this is `vectorize=False`. This essentially says to `rel_ext.experiment` that your featurizer or your model will do the work of turning examples into vectors; in that case, `rel_ext.experiment` just organizes these representations by relation type."
   ]
  },
  {
   "cell_type": "code",
   "execution_count": 16,
   "metadata": {},
   "outputs": [],
   "source": [
    "GLOVE_HOME = os.path.join('data', 'glove.6B')"
   ]
  },
  {
   "cell_type": "code",
   "execution_count": 17,
   "metadata": {},
   "outputs": [],
   "source": [
    "glove_lookup = utils.glove2dict(\n",
    "    os.path.join(GLOVE_HOME, 'glove.6B.300d.txt'))"
   ]
  },
  {
   "cell_type": "code",
   "execution_count": 191,
   "metadata": {},
   "outputs": [],
   "source": [
    "def glove_middle_featurizer(kbt, corpus, np_func=np.sum):\n",
    "    #print(\"inside function\")\n",
    "    reps = []\n",
    "    for ex in corpus.get_examples_for_entities(kbt.sbj, kbt.obj):\n",
    "        #print(\"inside for loop\")\n",
    "        for word in ex.middle.split():\n",
    "            #print(\"Word: \", word)\n",
    "            rep = glove_lookup.get(word)\n",
    "            #print(\"Rep: \", rep)\n",
    "            if rep is not None:\n",
    "                reps.append(rep)\n",
    "    # A random representation of the right dimensionality if the\n",
    "    # example happens not to overlap with GloVe's vocabulary:\n",
    "    if len(reps) == 0:\n",
    "        #print(\"inside if condition\")\n",
    "        dim = len(next(iter(glove_lookup.values())))\n",
    "        #print(\"dim\" ,dim)\n",
    "        return utils.randvec(n=dim)\n",
    "    else:\n",
    "        return np_func(reps, axis=0)"
   ]
  },
  {
   "cell_type": "code",
   "execution_count": 19,
   "metadata": {},
   "outputs": [
    {
     "name": "stdout",
     "output_type": "stream",
     "text": [
      "relation              precision     recall    f-score    support       size\n",
      "------------------    ---------  ---------  ---------  ---------  ---------\n",
      "adjoins                   0.841      0.482      0.732        340       5716\n",
      "author                    0.816      0.444      0.699        509       5885\n",
      "capital                   0.541      0.211      0.412         95       5471\n",
      "contains                  0.655      0.412      0.586       3904       9280\n",
      "film_performance          0.841      0.330      0.642        766       6142\n",
      "founders                  0.769      0.245      0.538        380       5756\n",
      "genre                     0.478      0.065      0.210        170       5546\n",
      "has_sibling               0.786      0.251      0.551        499       5875\n",
      "has_spouse                0.877      0.347      0.671        594       5970\n",
      "is_a                      0.699      0.159      0.416        497       5873\n",
      "nationality               0.656      0.209      0.460        301       5677\n",
      "parents                   0.878      0.413      0.717        312       5688\n",
      "place_of_birth            0.685      0.215      0.476        233       5609\n",
      "place_of_death            0.439      0.113      0.279        159       5535\n",
      "profession                0.594      0.154      0.378        247       5623\n",
      "worked_at                 0.701      0.252      0.517        242       5618\n",
      "------------------    ---------  ---------  ---------  ---------  ---------\n",
      "macro-average             0.703      0.269      0.518       9248      95264\n"
     ]
    }
   ],
   "source": [
    "glove_results = rel_ext.experiment(\n",
    "    splits,\n",
    "    train_split='train',\n",
    "    test_split='dev',\n",
    "    featurizers=[glove_middle_featurizer],    \n",
    "    vectorize=False, # Crucial for this featurizer!\n",
    "    verbose=True)"
   ]
  },
  {
   "cell_type": "code",
   "execution_count": 192,
   "metadata": {
    "collapsed": true
   },
   "outputs": [
    {
     "name": "stdout",
     "output_type": "stream",
     "text": [
      "defaultdict(<class 'int'>, {})\n"
     ]
    },
    {
     "data": {
      "text/plain": [
       "array([-4.59439888e-01, -3.72354492e-01, -2.60069040e-01,  4.83596541e-01,\n",
       "       -2.89197201e-01, -3.42550297e-01, -3.00892603e-01, -1.27534672e-01,\n",
       "       -1.88834058e-01,  9.35937850e-02, -3.98623569e-02,  7.41134448e-02,\n",
       "        2.33621850e-01,  1.26951844e-01, -4.68364859e-01, -3.59116000e-01,\n",
       "        1.59745695e-01,  1.29638072e-02, -2.87449956e-01,  3.98327753e-01,\n",
       "        1.02752529e-01,  2.44152902e-02,  1.36152919e-02,  4.14719507e-01,\n",
       "        2.09707509e-01,  2.32410485e-01,  1.92412916e-01,  5.89693967e-02,\n",
       "       -3.44321233e-02,  7.95951234e-02,  4.04517592e-01,  6.49960961e-02,\n",
       "       -3.93675820e-01, -1.99960387e-01,  2.79875964e-01, -2.62433156e-01,\n",
       "       -2.94416219e-01, -3.20878791e-01,  2.52426627e-01,  2.53331153e-01,\n",
       "        3.89780241e-01,  1.33012162e-01,  3.26709789e-01, -2.68887694e-01,\n",
       "        1.42139295e-01, -1.21682221e-02,  1.90077197e-01,  4.06096016e-01,\n",
       "       -3.46672046e-01,  4.66040051e-01,  1.28311290e-01, -3.83373436e-01,\n",
       "       -5.50703976e-02,  1.71392284e-01,  4.56792635e-01,  3.05526566e-01,\n",
       "        1.37484331e-01,  2.71015138e-01, -2.50765952e-01,  3.98055682e-01,\n",
       "       -3.26571282e-01,  1.08928259e-01, -4.31781495e-01,  3.58500669e-01,\n",
       "       -4.13489014e-01,  3.31688510e-01,  1.96885495e-01,  2.00789124e-02,\n",
       "       -1.98012294e-01,  1.73911178e-01,  4.46275617e-02,  1.38297528e-01,\n",
       "       -1.84592299e-01, -3.52667227e-01,  1.09145064e-05,  2.00020627e-01,\n",
       "       -3.27345322e-01,  2.75157534e-01,  1.16057236e-01, -4.99325275e-01,\n",
       "       -4.30876547e-01,  3.97570011e-02,  4.21505276e-01, -4.51977412e-01,\n",
       "        3.66038133e-01,  1.47885909e-01,  3.38241389e-02, -4.03974320e-02,\n",
       "        6.68400296e-02,  4.77499363e-01, -4.82343865e-01, -1.44104395e-01,\n",
       "       -4.19637052e-01, -4.35626796e-01, -3.22891915e-01,  7.35415593e-02,\n",
       "        7.70377695e-02, -3.06353021e-01,  1.69727662e-01,  4.43976076e-01,\n",
       "       -1.34565747e-02, -1.52106929e-01,  3.57813415e-01,  4.10661748e-01,\n",
       "       -9.25419780e-03, -3.97014627e-01,  3.63895749e-01,  4.03100228e-02,\n",
       "       -3.23182050e-01,  4.13830633e-01, -4.02691797e-01, -2.00038507e-01,\n",
       "        4.00860190e-01,  1.20810927e-01,  7.14467341e-02,  3.74390069e-02,\n",
       "        7.58644770e-02,  8.09595085e-02, -6.02437236e-02,  2.56910037e-01,\n",
       "       -6.07925073e-02,  2.85459719e-01,  3.26810439e-02,  8.94250061e-02,\n",
       "       -1.96067426e-01, -2.30435871e-01,  3.37956481e-01,  3.27708264e-01,\n",
       "        4.88090987e-01, -4.66097187e-01,  3.69154300e-01,  2.16649608e-01,\n",
       "       -1.03779764e-02,  4.43553952e-01,  3.20328949e-01,  2.30274147e-01,\n",
       "        2.17216584e-01,  1.66431600e-01,  4.55393360e-01,  7.78514541e-02,\n",
       "       -6.42413555e-02, -2.56029230e-01,  4.05249490e-02, -4.27076866e-01,\n",
       "        1.74193279e-01, -2.46207766e-01,  1.81966940e-01,  2.67937014e-01,\n",
       "       -1.61103747e-01,  4.17184616e-01, -1.18575185e-01, -3.68549293e-01,\n",
       "        4.71458722e-01, -1.75947253e-01, -9.31826698e-02, -4.18748457e-01,\n",
       "        8.22694113e-02,  4.75151226e-01, -6.55200094e-02, -1.05940524e-01,\n",
       "        7.08264014e-02,  2.70934815e-01,  1.16662321e-01,  2.56980986e-01,\n",
       "       -3.66717265e-01,  3.47535449e-01,  4.96260368e-01, -4.82089393e-01,\n",
       "        1.42886980e-01, -4.46364492e-01, -5.92276081e-02, -1.54043067e-01,\n",
       "        3.18861585e-01, -1.73406340e-01,  3.02797937e-01,  1.98492517e-01,\n",
       "        4.60857736e-01,  2.25757669e-01,  1.22556634e-01, -2.85748775e-01,\n",
       "       -2.99879738e-01, -1.10757632e-01,  2.73693814e-01,  2.08488401e-01,\n",
       "       -2.21028222e-01, -3.38438129e-01,  1.69975654e-01,  2.66577815e-01,\n",
       "        1.07797575e-01, -4.29679531e-01,  1.18313651e-01,  7.08145916e-02,\n",
       "        4.43223712e-02, -2.56303511e-01, -3.48142385e-04, -5.00686876e-02,\n",
       "        4.49664978e-02, -3.87188415e-01,  4.70637900e-01, -1.75283450e-01,\n",
       "        2.14649080e-01, -1.22639741e-01, -2.75793735e-01, -4.04173935e-01,\n",
       "       -4.92678938e-02, -3.88054484e-01,  2.64893011e-01,  4.91832208e-01,\n",
       "       -2.48227175e-01,  1.42391022e-02, -1.97585517e-01, -4.80136914e-01,\n",
       "        1.04461177e-01,  1.81325054e-01, -1.15664488e-01, -6.87378261e-02,\n",
       "        1.57817130e-03, -5.12519250e-02, -2.42197224e-02, -2.43483838e-01,\n",
       "        2.38329223e-01,  2.86762487e-01,  7.70225417e-02, -4.32074080e-01,\n",
       "       -3.77741248e-01, -1.15756393e-01, -3.81527142e-01, -2.32587543e-01,\n",
       "        3.52198348e-01, -4.07964404e-01, -1.55809149e-01, -1.07967988e-01,\n",
       "        1.74849394e-01,  4.36989371e-01,  2.46360747e-01,  1.44536778e-01,\n",
       "        1.41342522e-01, -9.98618153e-02, -2.38571887e-01,  1.75324517e-01,\n",
       "       -1.14615869e-01, -4.84431977e-01,  1.76679322e-01,  3.74897803e-02,\n",
       "       -4.26740076e-01, -9.58848580e-02, -3.92724150e-01,  2.71638033e-01,\n",
       "        4.11255762e-01,  4.55349860e-01, -3.81144122e-02, -9.57529423e-02,\n",
       "       -9.37780333e-02, -4.74293353e-01, -2.19264693e-01,  2.76232154e-01,\n",
       "       -1.36189033e-02, -8.15628310e-02,  2.76893412e-01, -3.23895821e-01,\n",
       "       -3.10953218e-01, -1.23726511e-01, -2.16133417e-01,  4.30876359e-01,\n",
       "        4.53288377e-01,  4.77902743e-02, -8.67884255e-02, -3.53837829e-01,\n",
       "        4.82983009e-01, -2.02905878e-01,  1.50081965e-01,  8.51605258e-02,\n",
       "       -4.68639749e-01,  2.34539459e-02, -2.06062779e-01, -1.24237233e-02,\n",
       "        4.37175566e-01,  2.40276774e-01,  2.78410030e-01,  2.52348644e-01,\n",
       "       -1.16701142e-01,  2.02549306e-01, -6.94700134e-03,  3.14553763e-01,\n",
       "        2.81884648e-01, -8.00335330e-02, -2.05019379e-01,  3.81182723e-01,\n",
       "       -1.52978203e-01, -1.57712056e-01, -2.55198530e-01,  4.43590321e-01,\n",
       "        3.36476058e-01, -4.05695544e-01, -3.45460040e-01, -1.84039842e-01,\n",
       "        9.24344404e-02,  4.99612001e-01, -2.59773134e-02, -1.14984739e-01])"
      ]
     },
     "execution_count": 192,
     "metadata": {},
     "output_type": "execute_result"
    }
   ],
   "source": [
    "from collections import defaultdict\n",
    "kbt = rel_ext.KBTriple(rel='worked_at', sbj='Randall_Munroe', obj='xkcd')\n",
    "feature_counter = defaultdict(int)\n",
    "print(feature_counter)\n",
    "# Make sure `feature_counter` is being updated, not reinitialized:\n",
    "feature_counter = glove_middle_featurizer(kbt, corpus)\n",
    "feature_counter"
   ]
  },
  {
   "cell_type": "markdown",
   "metadata": {},
   "source": [
    "With the same basic code design, one can also use the PyTorch models included in the course repo, or write new ones that are better aligned with the task. For those models, it's likely that the featurizer will just return a list of tokens (or perhaps a list of lists of tokens), and the model will map those into vectors using an embedding."
   ]
  },
  {
   "cell_type": "markdown",
   "metadata": {},
   "source": [
    "## Homework questions\n",
    "\n",
    "Please embed your homework responses in this notebook, and do not delete any cells from the notebook. (You are free to add as many cells as you like as part of your responses.)"
   ]
  },
  {
   "cell_type": "markdown",
   "metadata": {},
   "source": [
    "### Different model factory [1 points]\n",
    "\n",
    "The code in `rel_ext` makes it very easy to experiment with other classifier models: one need only redefine the `model_factory` argument. This question asks you to assess a [Support Vector Classifier](https://scikit-learn.org/stable/modules/generated/sklearn.svm.SVC.html).\n",
    "\n",
    "__To submit:__ A wrapper function `run_svm_model_factory` that does the following: \n",
    "\n",
    "1. Uses `rel_ext.experiment` with the model factory set to one based in an `SVC` with `kernel='linear'` and all other arguments left with default values. \n",
    "1. Trains on the 'train' part of `splits`.\n",
    "1. Assesses on the `dev` part of `splits`.\n",
    "1. Uses `featurizers` as defined above. \n",
    "1. Returns the return value of `rel_ext.experiment` for this set-up.\n",
    "\n",
    "The function `test_run_svm_model_factory` will check that your function conforms to these general specifications."
   ]
  },
  {
   "cell_type": "code",
   "execution_count": 44,
   "metadata": {},
   "outputs": [],
   "source": [
    "def run_svm_model_factory():\n",
    "    from sklearn.svm import LinearSVC\n",
    "    model_factory_svm = lambda: LinearSVC(C=1)\n",
    "    svm_results = rel_ext.experiment(\n",
    "    splits,\n",
    "    train_split='train',\n",
    "    test_split='dev',\n",
    "    featurizers=featurizers,\n",
    "    model_factory=model_factory_svm,\n",
    "    verbose=True)\n",
    "    return svm_results\n",
    "\n"
   ]
  },
  {
   "cell_type": "code",
   "execution_count": 45,
   "metadata": {},
   "outputs": [],
   "source": [
    "def test_run_svm_model_factory(run_svm_model_factory):\n",
    "    results = run_svm_model_factory()\n",
    "    assert 'featurizers' in results, \\\n",
    "        \"The return value of `run_svm_model_factory` seems not to be correct\"\n",
    "    # Check one of the models to make sure it's an SVC:\n",
    "    assert 'SVC' in results['models']['adjoins'].__class__.__name__, \\\n",
    "        \"It looks like the model factor wasn't set to use an SVC.\"    "
   ]
  },
  {
   "cell_type": "code",
   "execution_count": 46,
   "metadata": {},
   "outputs": [
    {
     "name": "stdout",
     "output_type": "stream",
     "text": [
      "relation              precision     recall    f-score    support       size\n",
      "------------------    ---------  ---------  ---------  ---------  ---------\n",
      "adjoins                   0.725      0.356      0.600        340       5716\n",
      "author                    0.700      0.582      0.672        509       5885\n",
      "capital                   0.431      0.263      0.382         95       5471\n",
      "contains                  0.754      0.620      0.722       3904       9280\n",
      "film_performance          0.725      0.607      0.698        766       6142\n",
      "founders                  0.643      0.432      0.586        380       5756\n",
      "genre                     0.393      0.259      0.356        170       5546\n",
      "has_sibling               0.718      0.244      0.517        499       5875\n",
      "has_spouse                0.819      0.350      0.646        594       5970\n",
      "is_a                      0.520      0.294      0.450        497       5873\n",
      "nationality               0.400      0.199      0.333        301       5677\n",
      "parents                   0.843      0.567      0.768        312       5688\n",
      "place_of_birth            0.495      0.236      0.406        233       5609\n",
      "place_of_death            0.327      0.107      0.232        159       5535\n",
      "profession                0.489      0.271      0.421        247       5623\n",
      "worked_at                 0.544      0.331      0.482        242       5618\n",
      "------------------    ---------  ---------  ---------  ---------  ---------\n",
      "macro-average             0.595      0.357      0.517       9248      95264\n"
     ]
    }
   ],
   "source": [
    "if 'IS_GRADESCOPE_ENV' not in os.environ:\n",
    "    test_run_svm_model_factory(run_svm_model_factory)"
   ]
  },
  {
   "cell_type": "markdown",
   "metadata": {},
   "source": [
    "### Directional unigram features [1.5 points]\n",
    "\n",
    "The current bag-of-words representation makes no distinction between \"forward\" and \"reverse\" examples. But, intuitively, there is big difference between _X and his son Y_ and _Y and his son X_. This question asks you to modify `simple_bag_of_words_featurizer` to capture these differences. \n",
    "\n",
    "__To submit:__\n",
    "\n",
    "1. A feature function `directional_bag_of_words_featurizer` that is just like `simple_bag_of_words_featurizer` except that it distinguishes \"forward\" and \"reverse\". To do this, you just need to mark each word feature for whether it is derived from a subject–object example or from an object–subject example.  The included function `test_directional_bag_of_words_featurizer` should help verify that you've done this correctly.\n",
    "\n",
    "2. A call to `rel_ext.experiment` with `directional_bag_of_words_featurizer` as the only featurizer. (Aside from this, use all the default values for `rel_ext.experiment` as exemplified above in this notebook.)\n",
    "\n",
    "3. `rel_ext.experiment` returns some of the core objects used in the experiment. How many feature names does the `vectorizer` have for the experiment run in the previous step? Include the code needed for getting this value. (Note: we're partly asking you to figure out how to get this value by using the sklearn documentation, so please don't ask how to do it!)"
   ]
  },
  {
   "cell_type": "code",
   "execution_count": 81,
   "metadata": {},
   "outputs": [
    {
     "name": "stdout",
     "output_type": "stream",
     "text": [
      "relation              precision     recall    f-score    support       size\n",
      "------------------    ---------  ---------  ---------  ---------  ---------\n",
      "adjoins                   0.860      0.435      0.720        340       5716\n",
      "author                    0.821      0.603      0.766        509       5885\n",
      "capital                   0.548      0.242      0.437         95       5471\n",
      "contains                  0.816      0.670      0.782       3904       9280\n",
      "film_performance          0.824      0.661      0.785        766       6142\n",
      "founders                  0.781      0.413      0.663        380       5756\n",
      "genre                     0.621      0.241      0.472        170       5546\n",
      "has_sibling               0.842      0.246      0.568        499       5875\n",
      "has_spouse                0.894      0.355      0.686        594       5970\n",
      "is_a                      0.742      0.266      0.546        497       5873\n",
      "nationality               0.625      0.216      0.453        301       5677\n",
      "parents                   0.878      0.510      0.767        312       5688\n",
      "place_of_birth            0.711      0.232      0.503        233       5609\n",
      "place_of_death            0.600      0.132      0.351        159       5535\n",
      "profession                0.765      0.251      0.543        247       5623\n",
      "worked_at                 0.773      0.281      0.572        242       5618\n",
      "------------------    ---------  ---------  ---------  ---------  ---------\n",
      "macro-average             0.756      0.360      0.601       9248      95264\n"
     ]
    }
   ],
   "source": [
    "def directional_bag_of_words_featurizer(kbt, corpus, feature_counter): \n",
    "    # Append these to the end of the keys you add/access in \n",
    "    # `feature_counter` to distinguish the two orders. You'll\n",
    "    # need to use exactly these strings in order to pass \n",
    "    # `test_directional_bag_of_words_featurizer`.\n",
    "    subject_object_suffix = \"_SO\"\n",
    "    object_subject_suffix = \"_OS\"\n",
    "    \n",
    "    ##### YOUR CODE HERE\n",
    "\n",
    "    for ex in corpus.get_examples_for_entities(kbt.sbj, kbt.obj):\n",
    "        #print(kbt.sbj,kbt.obj,kbt.rel,ex)\n",
    "        for word in ex.middle.split(' '):\n",
    "            feature_counter[word+subject_object_suffix] += 1\n",
    "    for ex in corpus.get_examples_for_entities(kbt.obj, kbt.sbj):\n",
    "        for word in ex.middle.split(' '):\n",
    "            feature_counter[word+object_subject_suffix] += 1\n",
    "    return feature_counter\n",
    "\n",
    "featurizers = [directional_bag_of_words_featurizer]\n",
    "\n",
    "# Call to `rel_ext.experiment`:\n",
    "##### YOUR CODE HERE    \n",
    "baseline_results = rel_ext.experiment(\n",
    "    splits,\n",
    "    train_split='train',\n",
    "    test_split='dev',\n",
    "    featurizers=featurizers,\n",
    "    model_factory=model_factory,\n",
    "    verbose=True)\n",
    "\n"
   ]
  },
  {
   "cell_type": "code",
   "execution_count": 75,
   "metadata": {},
   "outputs": [],
   "source": [
    "def test_directional_bag_of_words_featurizer(corpus):\n",
    "    from collections import defaultdict\n",
    "    kbt = rel_ext.KBTriple(rel='worked_at', sbj='Randall_Munroe', obj='xkcd')\n",
    "    feature_counter = defaultdict(int)\n",
    "    # Make sure `feature_counter` is being updated, not reinitialized:\n",
    "    feature_counter['is_OS'] += 5\n",
    "    feature_counter = directional_bag_of_words_featurizer(kbt, corpus, feature_counter)\n",
    "    expected = defaultdict(\n",
    "        int, {'is_OS':6,'a_OS':1,'webcomic_OS':1,'created_OS':1,'by_OS':1})\n",
    "    assert feature_counter == expected, \\\n",
    "        \"Expected:\\n{}\\nGot:\\n{}\".format(expected, feature_counter)"
   ]
  },
  {
   "cell_type": "code",
   "execution_count": 76,
   "metadata": {},
   "outputs": [],
   "source": [
    "if 'IS_GRADESCOPE_ENV' not in os.environ:\n",
    "    test_directional_bag_of_words_featurizer(corpus)"
   ]
  },
  {
   "cell_type": "code",
   "execution_count": 79,
   "metadata": {},
   "outputs": [
    {
     "data": {
      "text/plain": [
       "1591"
      ]
     },
     "execution_count": 79,
     "metadata": {},
     "output_type": "execute_result"
    }
   ],
   "source": [
    "len(baseline_results['vectorizer'].get_feature_names())"
   ]
  },
  {
   "cell_type": "code",
   "execution_count": null,
   "metadata": {},
   "outputs": [],
   "source": [
    "baseline_results['vectorizer'].get_feature_names()"
   ]
  },
  {
   "cell_type": "markdown",
   "metadata": {},
   "source": [
    "### The part-of-speech tags of the \"middle\" words [1.5 points]\n",
    "\n",
    "Our corpus distribution contains part-of-speech (POS) tagged versions of the core text spans. Let's begin to explore whether there is information in these sequences, focusing on `middle_POS`.\n",
    "\n",
    "__To submit:__\n",
    "\n",
    "1. A feature function `middle_bigram_pos_tag_featurizer` that is just like `simple_bag_of_words_featurizer` except that it creates a feature for bigram POS sequences. For example, given \n",
    "\n",
    "  `The/DT dog/N napped/V`\n",
    "  \n",
    "   we obtain the list of bigram POS sequences\n",
    "  \n",
    "   `b = ['<s> DT', 'DT N', 'N V', 'V </s>']`. \n",
    "   \n",
    "   Of course, `middle_bigram_pos_tag_featurizer` should return count dictionaries defined in terms of such bigram POS lists, on the model of `simple_bag_of_words_featurizer`.  Don't forget the start and end tags, to model those environments properly! The included function `test_middle_bigram_pos_tag_featurizer` should help verify that you've done this correctly.\n",
    "\n",
    "2. A call to `rel_ext.experiment` with `middle_bigram_pos_tag_featurizer` as the only featurizer. (Aside from this, use all the default values for `rel_ext.experiment` as exemplified above in this notebook.)"
   ]
  },
  {
   "cell_type": "code",
   "execution_count": 233,
   "metadata": {},
   "outputs": [
    {
     "name": "stdout",
     "output_type": "stream",
     "text": [
      "relation              precision     recall    f-score    support       size\n",
      "------------------    ---------  ---------  ---------  ---------  ---------\n",
      "adjoins                   0.791      0.356      0.636        340       5716\n",
      "author                    0.702      0.338      0.578        509       5885\n",
      "capital                   0.417      0.158      0.314         95       5471\n",
      "contains                  0.765      0.594      0.723       3904       9280\n",
      "film_performance          0.713      0.446      0.637        766       6142\n",
      "founders                  0.542      0.171      0.378        380       5756\n",
      "genre                     0.652      0.176      0.424        170       5546\n",
      "has_sibling               0.618      0.168      0.403        499       5875\n",
      "has_spouse                0.760      0.266      0.554        594       5970\n",
      "is_a                      0.520      0.183      0.380        497       5873\n",
      "nationality               0.412      0.070      0.208        301       5677\n",
      "parents                   0.691      0.272      0.529        312       5688\n",
      "place_of_birth            0.562      0.176      0.390        233       5609\n",
      "place_of_death            0.467      0.088      0.251        159       5535\n",
      "profession                0.635      0.190      0.433        247       5623\n",
      "worked_at                 0.437      0.128      0.295        242       5618\n",
      "------------------    ---------  ---------  ---------  ---------  ---------\n",
      "macro-average             0.605      0.236      0.446       9248      95264\n"
     ]
    }
   ],
   "source": [
    "def middle_bigram_pos_tag_featurizer(kbt, corpus, feature_counter): \n",
    "    for ex in corpus.get_examples_for_entities(kbt.sbj, kbt.obj):\n",
    "        #print(kbt.sbj,kbt.obj,kbt.rel,ex)\n",
    "        pos_list = get_tags(ex.middle_POS)\n",
    "        #print(pos_list)\n",
    "        bigram_list = get_tag_bigrams(pos_list)\n",
    "        #print(bigram_list)\n",
    "        for word in bigram_list:\n",
    "            feature_counter[word] += 1\n",
    "    for ex in corpus.get_examples_for_entities(kbt.obj, kbt.sbj):\n",
    "        pos_list = get_tags(ex.middle_POS)\n",
    "        bigram_list = get_tag_bigrams(pos_list)\n",
    "        for word in bigram_list:\n",
    "            feature_counter[word] += 1\n",
    "    return feature_counter\n",
    "\n",
    "\n",
    "def get_tag_bigrams(s):\n",
    "    \"\"\"Suggested helper method for `middle_bigram_pos_tag_featurizer`.\n",
    "    This should be defined so that it returns a list of str, where each \n",
    "    element is a POS bigram.\"\"\"\n",
    "    # The values of `start_symbol` and `end_symbol` are defined\n",
    "    # here so that you can use `test_middle_bigram_pos_tag_featurizer`.\n",
    "    start_symbol = \"<s>\"\n",
    "    end_symbol = \"</s>\"\n",
    "    seq = [start_symbol] + s + [end_symbol]\n",
    "    #print(seq)\n",
    "    bigrams = [i+\" \"+j for i,j in zip(seq[:-1],seq[1:])]\n",
    "    return bigrams\n",
    "    ##### YOUR CODE HERE\n",
    "\n",
    "def get_tags(s): \n",
    "    \"\"\"Given a sequence of word/POS elements (lemmas), this function\n",
    "    returns a list containing just the POS elements, in order.    \n",
    "    \"\"\"\n",
    "    return [parse_lem(lem)[1] for lem in s.strip().split(' ') if lem]\n",
    "\n",
    "def parse_lem(lem):\n",
    "    \"\"\"Helper method for parsing word/POS elements. It just splits\n",
    "    on the rightmost / and returns (word, POS) as a tuple of str.\"\"\"\n",
    "    return lem.strip().rsplit('/', 1)  \n",
    "\n",
    "featurizers = [middle_bigram_pos_tag_featurizer]\n",
    "\n",
    "# Call to `rel_ext.experiment`:\n",
    "##### YOUR CODE HERE\n",
    "baseline_results = rel_ext.experiment(\n",
    "    splits,\n",
    "    train_split='train',\n",
    "    test_split='dev',\n",
    "    featurizers=featurizers,\n",
    "    model_factory=model_factory,\n",
    "    verbose=True)"
   ]
  },
  {
   "cell_type": "code",
   "execution_count": 234,
   "metadata": {},
   "outputs": [],
   "source": [
    "def test_middle_bigram_pos_tag_featurizer(corpus):\n",
    "    from collections import defaultdict\n",
    "    kbt = rel_ext.KBTriple(rel='worked_at', sbj='Randall_Munroe', obj='xkcd')\n",
    "    feature_counter = defaultdict(int)\n",
    "    # Make sure `feature_counter` is being updated, not reinitialized:\n",
    "    feature_counter['<s> VBZ'] += 5\n",
    "    feature_counter = middle_bigram_pos_tag_featurizer(kbt, corpus, feature_counter)\n",
    "    expected = defaultdict(\n",
    "        int, {'<s> VBZ':6,'VBZ DT':1,'DT JJ':1,'JJ VBN':1,'VBN IN':1,'IN </s>':1})\n",
    "    assert feature_counter == expected, \\\n",
    "        \"Expected:\\n{}\\nGot:\\n{}\".format(expected, feature_counter)"
   ]
  },
  {
   "cell_type": "code",
   "execution_count": 235,
   "metadata": {},
   "outputs": [],
   "source": [
    "if 'IS_GRADESCOPE_ENV' not in os.environ:\n",
    "    test_middle_bigram_pos_tag_featurizer(corpus)"
   ]
  },
  {
   "cell_type": "markdown",
   "metadata": {},
   "source": [
    "### Bag of Synsets [2 points]\n",
    "\n",
    "The following allows you to use NLTK's WordNet API to get the synsets compatible with _dog_ as used as a noun:\n",
    "\n",
    "```\n",
    "from nltk.corpus import wordnet as wn\n",
    "dog = wn.synsets('dog', pos='n')\n",
    "dog\n",
    "[Synset('dog.n.01'),\n",
    " Synset('frump.n.01'),\n",
    " Synset('dog.n.03'),\n",
    " Synset('cad.n.01'),\n",
    " Synset('frank.n.02'),\n",
    " Synset('pawl.n.01'),\n",
    " Synset('andiron.n.01')]\n",
    "```\n",
    "\n",
    "This question asks you to create synset-based features from the word/tag pairs in `middle_POS`.\n",
    "\n",
    "__To submit:__\n",
    "\n",
    "1. A feature function `synset_featurizer` that is just like `simple_bag_of_words_featurizer` except that it returns a list of synsets derived from `middle_POS`. Stringify these objects with `str` so that they can be `dict` keys. Use `convert_tag` (included below) to convert tags to `pos` arguments usable by `wn.synsets`. The included function `test_synset_featurizer` should help verify that you've done this correctly.\n",
    "\n",
    "2. A call to `rel_ext.experiment` with `synset_featurizer` as the only featurizer. (Aside from this, use all the default values for `rel_ext.experiment`.)"
   ]
  },
  {
   "cell_type": "code",
   "execution_count": 165,
   "metadata": {},
   "outputs": [
    {
     "name": "stdout",
     "output_type": "stream",
     "text": [
      "relation              precision     recall    f-score    support       size\n",
      "------------------    ---------  ---------  ---------  ---------  ---------\n",
      "adjoins                   0.724      0.309      0.571        340       5716\n",
      "author                    0.749      0.328      0.596        509       5885\n",
      "capital                   0.564      0.232      0.438         95       5471\n",
      "contains                  0.716      0.408      0.622       3904       9280\n",
      "film_performance          0.781      0.479      0.693        766       6142\n",
      "founders                  0.720      0.358      0.599        380       5756\n",
      "genre                     0.413      0.112      0.268        170       5546\n",
      "has_sibling               0.809      0.212      0.518        499       5875\n",
      "has_spouse                0.888      0.308      0.645        594       5970\n",
      "is_a                      0.613      0.191      0.425        497       5873\n",
      "nationality               0.500      0.130      0.318        301       5677\n",
      "parents                   0.828      0.542      0.749        312       5688\n",
      "place_of_birth            0.517      0.197      0.390        233       5609\n",
      "place_of_death            0.414      0.075      0.218        159       5535\n",
      "profession                0.474      0.109      0.284        247       5623\n",
      "worked_at                 0.629      0.182      0.421        242       5618\n",
      "------------------    ---------  ---------  ---------  ---------  ---------\n",
      "macro-average             0.646      0.261      0.485       9248      95264\n"
     ]
    }
   ],
   "source": [
    "from nltk.corpus import wordnet as wn\n",
    "\n",
    "def synset_featurizer(kbt, corpus, feature_counter):\n",
    "    #print(feature_counter)\n",
    "    for ex in corpus.get_examples_for_entities(kbt.sbj, kbt.obj):\n",
    "        #print(kbt.sbj,kbt.obj,kbt.rel,ex)\n",
    "        pos_list = get_synsets(ex.middle_POS)\n",
    "        #print(pos_list)\n",
    "        #bigram_list = get_tag_bigrams(pos_list)\n",
    "        #print(bigram_list)\n",
    "        for word in pos_list:\n",
    "            feature_counter[word] += 1\n",
    "    for ex in corpus.get_examples_for_entities(kbt.obj, kbt.sbj):\n",
    "        pos_list = get_synsets(ex.middle_POS)\n",
    "        #print(pos_list)\n",
    "        #bigram_list = get_tag_bigrams(pos_list)\n",
    "        for word in pos_list:\n",
    "            feature_counter[word] += 1\n",
    "    return feature_counter\n",
    "\n",
    "\n",
    "    return feature_counter\n",
    "\n",
    "\n",
    "def get_synsets(s):\n",
    "    \"\"\"Suggested helper method for `synset_featurizer`. This should\n",
    "    be completed so that it returns a list of stringified Synsets \n",
    "    associated with elements of `s`.\n",
    "    \"\"\"   \n",
    "    # Use `parse_lem` from the previous question to get a list of\n",
    "    # (word, POS) pairs. Remember to convert the POS strings.\n",
    "    synset_list = []\n",
    "    wt = [parse_lem(lem) for lem in s.strip().split(' ') if lem]\n",
    "    #print(\"pairs:\" , wt)\n",
    "    for pair in wt:\n",
    "        pos_wn_format = convert_tag(pair[1])\n",
    "        #print(\"new pos:\" , pos_wn_format)\n",
    "        if pos_wn_format != None:\n",
    "            #print(\"inside if condition\")\n",
    "            for element in wn.synsets(pair[0],pos = pos_wn_format):\n",
    "                synset_list.append(str(element))\n",
    "        #print(\"fetched synsets: \" , synset_list)\n",
    "    return synset_list\n",
    "    ##### YOUR CODE HERE\n",
    "\n",
    "\n",
    "    \n",
    "    \n",
    "def convert_tag(t):\n",
    "    \"\"\"Converts tags so that they can be used by WordNet:\n",
    "    \n",
    "    | Tag begins with | WordNet tag |\n",
    "    |-----------------|-------------|\n",
    "    | `N`             | `n`         |\n",
    "    | `V`             | `v`         |\n",
    "    | `J`             | `a`         |\n",
    "    | `R`             | `r`         |\n",
    "    | Otherwise       | `None`      |\n",
    "    \"\"\"        \n",
    "    if t[0].lower() in {'n', 'v', 'r'}:\n",
    "        return t[0].lower()\n",
    "    elif t[0].lower() == 'J':\n",
    "        return 'a'\n",
    "    else:\n",
    "        return None    \n",
    "\n",
    "featurizers = [synset_featurizer]\n",
    "\n",
    "# Call to `rel_ext.experiment`:\n",
    "baseline_results = rel_ext.experiment(\n",
    "    splits,\n",
    "    train_split='train',\n",
    "    test_split='dev',\n",
    "    featurizers=featurizers,\n",
    "    model_factory=model_factory,\n",
    "    verbose=True)   \n",
    "\n",
    "\n"
   ]
  },
  {
   "cell_type": "code",
   "execution_count": 158,
   "metadata": {},
   "outputs": [],
   "source": [
    "def test_synset_featurizer(corpus):\n",
    "    from collections import defaultdict\n",
    "    kbt = rel_ext.KBTriple(rel='worked_at', sbj='Randall_Munroe', obj='xkcd')\n",
    "    feature_counter = defaultdict(int)\n",
    "    # Make sure `feature_counter` is being updated, not reinitialized:\n",
    "    feature_counter[\"Synset('be.v.01')\"] += 5\n",
    "    feature_counter = synset_featurizer(kbt, corpus, feature_counter)\n",
    "    # The full return values for this tend to be long, so we just\n",
    "    # test a few examples to avoid cluttering up this notebook.\n",
    "    test_cases = {\n",
    "        \"Synset('be.v.01')\": 6,\n",
    "        \"Synset('embody.v.02')\": 1\n",
    "    }\n",
    "    for ss, expected in test_cases.items():\n",
    "        print(\"ss: \", ss)\n",
    "        print(\"Expected:\" ,expected)\n",
    "        result = feature_counter[ss]\n",
    "        print(\"results: \",result)\n",
    "        assert result == expected, \\\n",
    "            \"Incorrect count for {}: Expected {}; Got {}\".format(ss, expected, result)"
   ]
  },
  {
   "cell_type": "code",
   "execution_count": 159,
   "metadata": {},
   "outputs": [
    {
     "name": "stdout",
     "output_type": "stream",
     "text": [
      "VBZ\n",
      "DT\n",
      "JJ\n",
      "VBN\n",
      "IN\n"
     ]
    }
   ],
   "source": [
    "abc = [['is', 'VBZ'], ['a', 'DT'], ['webcomic', 'JJ'], ['created', 'VBN'], ['by', 'IN']]\n",
    "for a in abc:\n",
    "    print(a[1])\n",
    "    convert_tag(a[1])"
   ]
  },
  {
   "cell_type": "code",
   "execution_count": 160,
   "metadata": {},
   "outputs": [
    {
     "name": "stdout",
     "output_type": "stream",
     "text": [
      "defaultdict(<class 'int'>, {\"Synset('be.v.01')\": 5})\n",
      "pairs: [['is', 'VBZ'], ['a', 'DT'], ['webcomic', 'JJ'], ['created', 'VBN'], ['by', 'IN']]\n",
      "new pos: v\n",
      "inside if condition\n",
      "fetched synsets:  [\"Synset('be.v.01')\", \"Synset('be.v.02')\", \"Synset('be.v.03')\", \"Synset('exist.v.01')\", \"Synset('be.v.05')\", \"Synset('equal.v.01')\", \"Synset('constitute.v.01')\", \"Synset('be.v.08')\", \"Synset('embody.v.02')\", \"Synset('be.v.10')\", \"Synset('be.v.11')\", \"Synset('be.v.12')\", \"Synset('cost.v.01')\"]\n",
      "new pos: None\n",
      "fetched synsets:  [\"Synset('be.v.01')\", \"Synset('be.v.02')\", \"Synset('be.v.03')\", \"Synset('exist.v.01')\", \"Synset('be.v.05')\", \"Synset('equal.v.01')\", \"Synset('constitute.v.01')\", \"Synset('be.v.08')\", \"Synset('embody.v.02')\", \"Synset('be.v.10')\", \"Synset('be.v.11')\", \"Synset('be.v.12')\", \"Synset('cost.v.01')\"]\n",
      "new pos: None\n",
      "fetched synsets:  [\"Synset('be.v.01')\", \"Synset('be.v.02')\", \"Synset('be.v.03')\", \"Synset('exist.v.01')\", \"Synset('be.v.05')\", \"Synset('equal.v.01')\", \"Synset('constitute.v.01')\", \"Synset('be.v.08')\", \"Synset('embody.v.02')\", \"Synset('be.v.10')\", \"Synset('be.v.11')\", \"Synset('be.v.12')\", \"Synset('cost.v.01')\"]\n",
      "new pos: v\n",
      "inside if condition\n",
      "fetched synsets:  [\"Synset('be.v.01')\", \"Synset('be.v.02')\", \"Synset('be.v.03')\", \"Synset('exist.v.01')\", \"Synset('be.v.05')\", \"Synset('equal.v.01')\", \"Synset('constitute.v.01')\", \"Synset('be.v.08')\", \"Synset('embody.v.02')\", \"Synset('be.v.10')\", \"Synset('be.v.11')\", \"Synset('be.v.12')\", \"Synset('cost.v.01')\", \"Synset('make.v.03')\", \"Synset('create.v.02')\", \"Synset('create.v.03')\", \"Synset('create.v.04')\", \"Synset('create.v.05')\", \"Synset('produce.v.02')\"]\n",
      "new pos: None\n",
      "fetched synsets:  [\"Synset('be.v.01')\", \"Synset('be.v.02')\", \"Synset('be.v.03')\", \"Synset('exist.v.01')\", \"Synset('be.v.05')\", \"Synset('equal.v.01')\", \"Synset('constitute.v.01')\", \"Synset('be.v.08')\", \"Synset('embody.v.02')\", \"Synset('be.v.10')\", \"Synset('be.v.11')\", \"Synset('be.v.12')\", \"Synset('cost.v.01')\", \"Synset('make.v.03')\", \"Synset('create.v.02')\", \"Synset('create.v.03')\", \"Synset('create.v.04')\", \"Synset('create.v.05')\", \"Synset('produce.v.02')\"]\n",
      "[\"Synset('be.v.01')\", \"Synset('be.v.02')\", \"Synset('be.v.03')\", \"Synset('exist.v.01')\", \"Synset('be.v.05')\", \"Synset('equal.v.01')\", \"Synset('constitute.v.01')\", \"Synset('be.v.08')\", \"Synset('embody.v.02')\", \"Synset('be.v.10')\", \"Synset('be.v.11')\", \"Synset('be.v.12')\", \"Synset('cost.v.01')\", \"Synset('make.v.03')\", \"Synset('create.v.02')\", \"Synset('create.v.03')\", \"Synset('create.v.04')\", \"Synset('create.v.05')\", \"Synset('produce.v.02')\"]\n",
      "ss:  Synset('be.v.01')\n",
      "Expected: 6\n",
      "results:  6\n",
      "ss:  Synset('embody.v.02')\n",
      "Expected: 1\n",
      "results:  1\n"
     ]
    }
   ],
   "source": [
    "if 'IS_GRADESCOPE_ENV' not in os.environ:\n",
    "    test_synset_featurizer(corpus)"
   ]
  },
  {
   "cell_type": "markdown",
   "metadata": {},
   "source": [
    "### Your original system [3 points]\n",
    "\n",
    "There are many options, and this could easily grow into a project. Here are a few ideas:\n",
    "\n",
    "- Try out different classifier models, from `sklearn` and elsewhere.\n",
    "- Add a feature that indicates the length of the middle.\n",
    "- Augment the bag-of-words representation to include bigrams or trigrams (not just unigrams).\n",
    "- Introduce features based on the entity mentions themselves. <!-- \\[SPOILER: it helps a lot, maybe 4% in F-score. And combines nicely with the directional features.\\] -->\n",
    "- Experiment with features based on the context outside (rather than between) the two entity mentions — that is, the words before the first mention, or after the second.\n",
    "- Try adding features which capture syntactic information, such as the dependency-path features used by Mintz et al. 2009. The [NLTK](https://www.nltk.org/) toolkit contains a variety of [parsing algorithms](http://www.nltk.org/api/nltk.parse.html) that may help.\n",
    "- The bag-of-words representation does not permit generalization across word categories such as names of people, places, or companies. Can we do better using word embeddings such as [GloVe](https://nlp.stanford.edu/projects/glove/)?\n",
    "\n",
    "In the cell below, please provide a brief technical description of your original system, so that the teaching team can gain an understanding of what it does. This will help us to understand your code and analyze all the submissions to identify patterns and strategies."
   ]
  },
  {
   "cell_type": "code",
   "execution_count": null,
   "metadata": {},
   "outputs": [],
   "source": [
    "# Enter your system description in this cell.\n",
    "# Please do not remove this comment.\n",
    "\n"
   ]
  },
  {
   "cell_type": "markdown",
   "metadata": {},
   "source": [
    "## Bake-off [1 point]\n",
    "\n",
    "For the bake-off, we will release a test set. The announcement will go out on the discussion forum. You will evaluate your custom model from the previous question on these new datasets using the function `rel_ext.bake_off_experiment`. Rules:\n",
    "\n",
    "1. Only one evaluation is permitted.\n",
    "1. No additional system tuning is permitted once the bake-off has started.\n",
    "\n",
    "The cells below this one constitute your bake-off entry.\n",
    "\n",
    "People who enter will receive the additional homework point, and people whose systems achieve the top score will receive an additional 0.5 points. We will test the top-performing systems ourselves, and only systems for which we can reproduce the reported results will win the extra 0.5 points.\n",
    "\n",
    "Late entries will be accepted, but they cannot earn the extra 0.5 points. Similarly, you cannot win the bake-off unless your homework is submitted on time.\n",
    "\n",
    "The announcement will include the details on where to submit your entry."
   ]
  },
  {
   "cell_type": "code",
   "execution_count": 241,
   "metadata": {},
   "outputs": [],
   "source": [
    "# Enter your bake-off assessment code in this cell. \n",
    "# Please do not remove this comment.\n",
    "#if 'IS_GRADESCOPE_ENV' not in os.environ:\n",
    "    # Please enter your code in the scope of the above conditional.\n",
    "    ##### YOUR CODE HERE\n",
    "\n",
    "from sklearn.svm import LinearSVC\n",
    "from sklearn.naive_bayes import MultinomialNB\n",
    "from sklearn.ensemble import RandomForestClassifier\n",
    "subject_object_suffix = \"_SO\"\n",
    "object_subject_suffix = \"_OS\"\n",
    "\n",
    "def simple_bag_of_words_featurizer(kbt, corpus, feature_counter):\n",
    "    for ex in corpus.get_examples_for_entities(kbt.sbj, kbt.obj):\n",
    "        #print(kbt.sbj,kbt.obj,kbt.rel,ex)\n",
    "        for word in ex.middle.split(' '):\n",
    "            feature_counter[word] += 1\n",
    "    for ex in corpus.get_examples_for_entities(kbt.obj, kbt.sbj):\n",
    "        for word in ex.middle.split(' '):\n",
    "            feature_counter[word] += 1\n",
    "    return feature_counter\n",
    "\n",
    "def directional_bag_of_words_featurizer(kbt, corpus, feature_counter): \n",
    "    # Append these to the end of the keys you add/access in \n",
    "    # `feature_counter` to distinguish the two orders. You'll\n",
    "    # need to use exactly these strings in order to pass \n",
    "    # `test_directional_bag_of_words_featurizer`.\n",
    "    subject_object_suffix = \"_SO\"\n",
    "    object_subject_suffix = \"_OS\"\n",
    "    \n",
    "    ##### YOUR CODE HERE\n",
    "\n",
    "    for ex in corpus.get_examples_for_entities(kbt.sbj, kbt.obj):\n",
    "        #print(kbt.sbj,kbt.obj,kbt.rel,ex)\n",
    "        for word in ex.middle.split(' '):\n",
    "            feature_counter[word+subject_object_suffix] += 1\n",
    "    for ex in corpus.get_examples_for_entities(kbt.obj, kbt.sbj):\n",
    "        for word in ex.middle.split(' '):\n",
    "            feature_counter[word+object_subject_suffix] += 1\n",
    "    return feature_counter\n",
    "\n",
    "def directional_bag_of_words_featurizer_middle_left_right(kbt, corpus, feature_counter):\n",
    "    subject_object_suffix = \"_SO\"\n",
    "    object_subject_suffix = \"_OS\"\n",
    "    for ex in corpus.get_examples_for_entities(kbt.sbj, kbt.obj):\n",
    "        #print(kbt.sbj,kbt.obj,kbt.rel,ex)\n",
    "        for word in ex.middle.split(' '):\n",
    "            feature_counter[word+subject_object_suffix] += 1\n",
    "        for word in ex.left.split(' '):\n",
    "            feature_counter[word+subject_object_suffix] += 1\n",
    "        for word in ex.right.split(' '):\n",
    "            feature_counter[word+subject_object_suffix] += 1\n",
    "    for ex in corpus.get_examples_for_entities(kbt.obj, kbt.sbj):\n",
    "        for word in ex.middle.split(' '):\n",
    "            feature_counter[word+object_subject_suffix] += 1\n",
    "        for word in ex.left.split(' '):\n",
    "            feature_counter[word+object_subject_suffix] += 1\n",
    "        for word in ex.right.split(' '):\n",
    "            feature_counter[word+object_subject_suffix] += 1\n",
    "    return feature_counter\n",
    "\n",
    "def directional_bag_of_words_featurizer_middle_left_right(kbt, corpus, feature_counter):\n",
    "    subject_object_suffix = \"_SO\"\n",
    "    object_subject_suffix = \"_OS\"\n",
    "    for ex in corpus.get_examples_for_entities(kbt.sbj, kbt.obj):\n",
    "        #print(kbt.sbj,kbt.obj,kbt.rel,ex)\n",
    "        for word in ex.middle.split(' '):\n",
    "            feature_counter[word+subject_object_suffix] += 1\n",
    "    for ex in corpus.get_examples_for_entities(kbt.obj, kbt.sbj):\n",
    "        for word in ex.middle.split(' '):\n",
    "            feature_counter[word+object_subject_suffix] += 1\n",
    "    return feature_counter\n",
    "\n",
    "def middle_bigram_featurizer(kbt, corpus, feature_counter): \n",
    "    for ex in corpus.get_examples_for_entities(kbt.sbj, kbt.obj):\n",
    "        #print(kbt.sbj,kbt.obj,kbt.rel,ex)\n",
    "        word_list = get_middle_bigrams(ex.middle)\n",
    "        #print(word_list)\n",
    "        for word in word_list:\n",
    "            feature_counter[word] += 1\n",
    "    for ex in corpus.get_examples_for_entities(kbt.obj, kbt.sbj):\n",
    "        word_list = get_middle_bigrams(ex.middle)\n",
    "        for word in word_list:\n",
    "            feature_counter[word] += 1\n",
    "    return feature_counter\n",
    "\n",
    "\n",
    "def get_middle_bigrams(s):\n",
    "    \"\"\"Suggested helper method for `middle_bigram_pos_tag_featurizer`.\n",
    "    This should be defined so that it returns a list of str, where each \n",
    "    element is a POS bigram.\"\"\"\n",
    "    # The values of `start_symbol` and `end_symbol` are defined\n",
    "    # here so that you can use `test_middle_bigram_pos_tag_featurizer`.\n",
    "    start_symbol = \"<s> \"\n",
    "    end_symbol = \" </s>\"\n",
    "    seq = start_symbol + s + end_symbol\n",
    "    #print(\"middle sendtence: \", seq)\n",
    "    seq_list = seq.split(' ')\n",
    "    #print(\"middle sentence list\", seq_list)\n",
    "    bigrams = [i for i in zip(seq_list[:-1],seq_list[1:])]\n",
    "    return bigrams\n",
    "\n",
    "def middle_length_featurizer(kbt, corpus, feature_counter):\n",
    "    for ex in corpus.get_examples_for_entities(kbt.sbj, kbt.obj):\n",
    "        #print(kbt.sbj,kbt.obj,kbt.rel,ex)\n",
    "        feature_counter['LENGTH_S_O'] = len(ex.middle.split(' '))\n",
    "    for ex in corpus.get_examples_for_entities(kbt.obj, kbt.sbj):\n",
    "        feature_counter['LENGTH_O_S'] = len(ex.middle.split(' '))\n",
    "    return feature_counter\n",
    "\n",
    "def left_bag_of_words_featurizer(kbt, corpus, feature_counter):\n",
    "    for ex in corpus.get_examples_for_entities(kbt.sbj, kbt.obj):\n",
    "        for word in ex.left.split(' '):\n",
    "            feature_counter[word] += 1\n",
    "    for ex in corpus.get_examples_for_entities(kbt.obj, kbt.sbj):\n",
    "        for word in ex.left.split(' '):\n",
    "            feature_counter[word] += 1\n",
    "    return feature_counter\n",
    "\n",
    "def right_bag_of_words_featurizer(kbt, corpus, feature_counter):\n",
    "    for ex in corpus.get_examples_for_entities(kbt.sbj, kbt.obj):\n",
    "        for word in ex.right.split(' '):\n",
    "            feature_counter[word] += 1\n",
    "    for ex in corpus.get_examples_for_entities(kbt.obj, kbt.sbj):\n",
    "        for word in ex.right.split(' '):\n",
    "            feature_counter[word] += 1\n",
    "    return feature_counter\n",
    "\n",
    "def dir_left_bag_of_words_featurizer(kbt, corpus, feature_counter):\n",
    "    for ex in corpus.get_examples_for_entities(kbt.sbj, kbt.obj):\n",
    "        for word in ex.left.split(' '):\n",
    "            feature_counter[word+subject_object_suffix] += 1\n",
    "    for ex in corpus.get_examples_for_entities(kbt.obj, kbt.sbj):\n",
    "        for word in ex.left.split(' '):\n",
    "            feature_counter[word+object_subject_suffix] += 1\n",
    "    return feature_counter\n",
    "\n",
    "def dir_right_bag_of_words_featurizer(kbt, corpus, feature_counter):\n",
    "    for ex in corpus.get_examples_for_entities(kbt.sbj, kbt.obj):\n",
    "        for word in ex.right.split(' '):\n",
    "            feature_counter[word+subject_object_suffix] += 1\n",
    "    for ex in corpus.get_examples_for_entities(kbt.obj, kbt.sbj):\n",
    "        for word in ex.right.split(' '):\n",
    "            feature_counter[word+object_subject_suffix] += 1\n",
    "    return feature_counter"
   ]
  },
  {
   "cell_type": "code",
   "execution_count": 244,
   "metadata": {},
   "outputs": [
    {
     "name": "stdout",
     "output_type": "stream",
     "text": [
      "relation              precision     recall    f-score    support       size\n",
      "------------------    ---------  ---------  ---------  ---------  ---------\n",
      "adjoins                   0.820      0.509      0.731        340       5716\n",
      "author                    0.824      0.792      0.817        509       5885\n",
      "capital                   0.528      0.295      0.456         95       5471\n",
      "contains                  0.840      0.829      0.838       3904       9280\n",
      "film_performance          0.860      0.735      0.831        766       6142\n",
      "founders                  0.807      0.561      0.742        380       5756\n",
      "genre                     0.632      0.282      0.506        170       5546\n",
      "has_sibling               0.859      0.697      0.821        499       5875\n",
      "has_spouse                0.827      0.643      0.782        594       5970\n",
      "is_a                      0.765      0.577      0.719        497       5873\n",
      "nationality               0.734      0.641      0.713        301       5677\n",
      "parents                   0.874      0.712      0.836        312       5688\n",
      "place_of_birth            0.771      0.506      0.698        233       5609\n",
      "place_of_death            0.787      0.465      0.692        159       5535\n",
      "profession                0.762      0.518      0.696        247       5623\n",
      "worked_at                 0.774      0.339      0.616        242       5618\n",
      "------------------    ---------  ---------  ---------  ---------  ---------\n",
      "macro-average             0.779      0.569      0.718       9248      95264\n"
     ]
    }
   ],
   "source": [
    "# Call to `rel_ext.experiment`:\n",
    "##### YOUR CODE HERE    \n",
    "baseline_results = rel_ext.experiment(\n",
    "    splits,\n",
    "    train_split='train',\n",
    "    test_split='dev',\n",
    "    featurizers=[simple_bag_of_words_featurizer,\n",
    "                directional_bag_of_words_featurizer,\n",
    "                 middle_bigram_pos_tag_featurizer,\n",
    "                 left_bag_of_words_featurizer,\n",
    "                 right_bag_of_words_featurizer,\n",
    "                 middle_length_featurizer,\n",
    "                #dir_left_bag_of_words_featurizer,\n",
    "                #dir_right_bag_of_words_featurizer\n",
    "                ],\n",
    "    model_factory=lambda: LogisticRegression(fit_intercept=True, solver='liblinear'),\n",
    "    verbose=True)"
   ]
  },
  {
   "cell_type": "code",
   "execution_count": null,
   "metadata": {},
   "outputs": [],
   "source": [
    "from collections import defaultdict\n",
    "kbt = rel_ext.KBTriple(rel='worked_at', sbj='Randall_Munroe', obj='xkcd')\n",
    "feature_counter = defaultdict(int)\n",
    "print(feature_counter)\n",
    "# Make sure `feature_counter` is being updated, not reinitialized:\n",
    "feature_counter = middle_bigram_pos_tag_featurizer(kbt, corpus,feature_counter)\n",
    "feature_counter"
   ]
  },
  {
   "cell_type": "code",
   "execution_count": 245,
   "metadata": {},
   "outputs": [],
   "source": [
    "# On an otherwise blank line in this cell, please enter\n",
    "# your macro-average f-score (an F_0.5 score) as reported \n",
    "# by the code above. Please enter only a number between \n",
    "# 0 and 1 inclusive. Please do not remove this comment.\n",
    "#if 'IS_GRADESCOPE_ENV' not in os.environ:\n",
    "    # Please enter your score in the scope of the above conditional.\n",
    "    ##### YOUR CODE HERE\n"
   ]
  },
  {
   "cell_type": "code",
   "execution_count": null,
   "metadata": {},
   "outputs": [],
   "source": []
  }
 ],
 "metadata": {
  "kernelspec": {
   "display_name": "Python 3",
   "language": "python",
   "name": "python3"
  },
  "language_info": {
   "codemirror_mode": {
    "name": "ipython",
    "version": 3
   },
   "file_extension": ".py",
   "mimetype": "text/x-python",
   "name": "python",
   "nbconvert_exporter": "python",
   "pygments_lexer": "ipython3",
   "version": "3.7.4"
  },
  "widgets": {
   "state": {},
   "version": "1.1.2"
  }
 },
 "nbformat": 4,
 "nbformat_minor": 2
}
